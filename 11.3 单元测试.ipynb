{
 "cells": [
  {
   "cell_type": "markdown",
   "metadata": {},
   "source": [
    "测试驱动开发（TDD：Test-Driven Development）\n",
    "\n",
    "单元测试是用来对一个模块、一个函数或者一个类来进行正确性检验的测试工作。"
   ]
  },
  {
   "cell_type": "markdown",
   "metadata": {},
   "source": [
    "比如对函数abs()，我们可以编写出以下几个测试用例：\n",
    "\n",
    "1. 输入正数，比如1、1.2、0.99，期待返回值与输入相同；\n",
    "2. 输入负数，比如-1、-1.2、-0.99，期待返回值与输入相反；\n",
    "3. 输入0，期待返回0；\n",
    "4. 输入非数值类型，比如None、[]、{}，期待抛出TypeError。\n",
    "\n",
    "把上面的测试用例放到一个测试模块里，就是一个完整的单元测试。"
   ]
  },
  {
   "cell_type": "code",
   "execution_count": 1,
   "metadata": {},
   "outputs": [],
   "source": [
    "#编写一个Dict类，这个类的行为和dict一致，但是可以通过属性来访问\n",
    "class Dict(dict):\n",
    "\n",
    "    def __init__(self, **kw):\n",
    "        super().__init__(**kw)\n",
    "\n",
    "    def __getattr__(self, key):\n",
    "        try:\n",
    "            return self[key]\n",
    "        except KeyError:\n",
    "            raise AttributeError(r\"'Dict' object has no attribute '%s'\" % key)\n",
    "\n",
    "    def __setattr__(self, key, value):\n",
    "        self[key] = value"
   ]
  },
  {
   "cell_type": "code",
   "execution_count": null,
   "metadata": {},
   "outputs": [],
   "source": [
    "#unittest模块做单元测试\n",
    "import unittest\n",
    "\n",
    "class TestDict(unittest.TestCase):\n",
    "    \n",
    "    def setUp(self):\n",
    "        print('setUp...')\n",
    "\n",
    "    def tearDown(self):\n",
    "        print('tearDown...')\n",
    "\n",
    "    def test_init(self):\n",
    "        d = Dict(a=1, b='test')\n",
    "        self.assertEqual(d.a, 1)\n",
    "        self.assertEqual(d.b, 'test')\n",
    "        self.assertTrue(isinstance(d, dict))\n",
    "\n",
    "    def test_key(self):\n",
    "        d = Dict()\n",
    "        d['key'] = 'value'\n",
    "        self.assertEqual(d.key, 'value')\n",
    "\n",
    "    def test_attr(self):\n",
    "        d = Dict()\n",
    "        d.key = 'value'\n",
    "        self.assertTrue('key' in d)\n",
    "        self.assertEqual(d['key'], 'value')\n",
    "\n",
    "    def test_keyerror(self):\n",
    "        d = Dict()\n",
    "        with self.assertRaises(KeyError):  #期待抛出指定类型的Error\n",
    "            value = d['empty']\n",
    "\n",
    "    def test_attrerror(self):\n",
    "        d = Dict()\n",
    "        with self.assertRaises(AttributeError):\n",
    "            value = d.empty\n",
    "\n",
    "if __name__ == '__main__':\n",
    "    unittest.main()\n",
    "    "
   ]
  },
  {
   "cell_type": "markdown",
   "metadata": {},
   "source": [
    "编写单元测试时，我们需要编写一个测试类，从unittest.TestCase继承。\n",
    "\n",
    "以test开头的方法就是测试方法，不以test开头的方法不被认为是测试方法，测试的时候不会被执行。\n",
    "\n",
    "对每一类测试都需要编写一个test_xxx()方法。由于unittest.TestCase提供了很多内置的条件判断，我们只需要调用这些方法就可以断言输出是否是我们所期望的。"
   ]
  },
  {
   "cell_type": "raw",
   "metadata": {},
   "source": [
    "运行单元测试\n",
    "\n",
    "#运行单元测试：作为正常python脚本运行，文件最后加上：\n",
    "if __name__ == '__main__':\n",
    "    unittest.main()\n",
    "    \n",
    "另一种方法是在命令行通过参数-m unittest直接运行单元测试（可批量运行）：\n",
    "$ python -m unittest mydict_test"
   ]
  },
  {
   "cell_type": "markdown",
   "metadata": {},
   "source": [
    "setUp()与tearDown()，分别在每调用一个测试方法的前后分别被执行。\n",
    "\n",
    "测试需要启动一个数据库，可以在setUp()方法中连接数据库，在tearDown()方法中关闭数据库，这样，不必在每个测试方法中重复相同的代码。"
   ]
  },
  {
   "cell_type": "code",
   "execution_count": null,
   "metadata": {},
   "outputs": [],
   "source": []
  }
 ],
 "metadata": {
  "kernelspec": {
   "display_name": "Python 3",
   "language": "python",
   "name": "python3"
  },
  "language_info": {
   "codemirror_mode": {
    "name": "ipython",
    "version": 3
   },
   "file_extension": ".py",
   "mimetype": "text/x-python",
   "name": "python",
   "nbconvert_exporter": "python",
   "pygments_lexer": "ipython3",
   "version": "3.6.4"
  }
 },
 "nbformat": 4,
 "nbformat_minor": 2
}
