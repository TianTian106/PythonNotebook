{
 "cells": [
  {
   "cell_type": "markdown",
   "metadata": {},
   "source": [
    "Python内置的“文档测试”（doctest）模块可以直接提取注释中的代码并执行测试。\n",
    "\n",
    "doctest严格按照Python交互式命令行的输入和输出来判断测试结果是否正确。只有测试异常的时候，可以用...表示中间一大段烦人的输出。"
   ]
  },
  {
   "cell_type": "code",
   "execution_count": 5,
   "metadata": {},
   "outputs": [
    {
     "data": {
      "text/plain": [
       "TestResults(failed=0, attempted=9)"
      ]
     },
     "execution_count": 5,
     "metadata": {},
     "output_type": "execute_result"
    }
   ],
   "source": [
    "# mydict2.py\n",
    "class Dict(dict):\n",
    "    '''\n",
    "    Simple dict but also support access as x.y style.\n",
    "\n",
    "    >>> d1 = Dict()\n",
    "    >>> d1['x'] = 100\n",
    "    >>> d1.x\n",
    "    100\n",
    "    >>> d1.y = 200\n",
    "    >>> d1['y']\n",
    "    200\n",
    "    >>> d2 = Dict(a=1, b=2, c='3')\n",
    "    >>> d2.c\n",
    "    '3'\n",
    "    >>> d2['empty']\n",
    "    Traceback (most recent call last):\n",
    "        ...\n",
    "    KeyError: 'empty'\n",
    "    >>> d2.empty\n",
    "    Traceback (most recent call last):\n",
    "        ...\n",
    "    AttributeError: 'Dict' object has no attribute 'empty'\n",
    "    '''\n",
    "    def __init__(self, **kw):\n",
    "        super(Dict, self).__init__(**kw)\n",
    "\n",
    "    def __getattr__(self, key):\n",
    "        try:\n",
    "            return self[key]\n",
    "        except KeyError:\n",
    "            raise AttributeError(r\"'Dict' object has no attribute '%s'\" % key)\n",
    "\n",
    "    def __setattr__(self, key, value):\n",
    "        self[key] = value\n",
    "\n",
    "import doctest\n",
    "doctest.testmod()\n",
    "# if __name__=='__main__':\n",
    "#     import doctest\n",
    "#     doctest.testmod()\n",
    "# 模块正常导入时，doctest不会被执行。只有在命令行直接运行时，才执行doctest。所以，不必担心doctest会在非测试环境下执行。"
   ]
  },
  {
   "cell_type": "code",
   "execution_count": 11,
   "metadata": {},
   "outputs": [
    {
     "data": {
      "text/plain": [
       "TestResults(failed=0, attempted=12)"
      ]
     },
     "execution_count": 11,
     "metadata": {},
     "output_type": "execute_result"
    }
   ],
   "source": [
    "#练习\n",
    "\n",
    "def fact(n):\n",
    "    '''\n",
    "    Calculate 1*2*...*n\n",
    "\n",
    "    >>> fact(1)\n",
    "    1\n",
    "    >>> fact(10)\n",
    "    3628800\n",
    "    >>> fact(-1)\n",
    "    Traceback (most recent call last):\n",
    "    ...\n",
    "    ValueError\n",
    "    '''\n",
    "    if n < 1:\n",
    "        raise ValueError()\n",
    "    if n == 1:\n",
    "        return 1\n",
    "    return n * fact(n - 1)\n",
    "\n",
    "import doctest\n",
    "doctest.testmod()"
   ]
  }
 ],
 "metadata": {
  "kernelspec": {
   "display_name": "Python 3",
   "language": "python",
   "name": "python3"
  },
  "language_info": {
   "codemirror_mode": {
    "name": "ipython",
    "version": 3
   },
   "file_extension": ".py",
   "mimetype": "text/x-python",
   "name": "python",
   "nbconvert_exporter": "python",
   "pygments_lexer": "ipython3",
   "version": "3.6.4"
  }
 },
 "nbformat": 4,
 "nbformat_minor": 2
}
