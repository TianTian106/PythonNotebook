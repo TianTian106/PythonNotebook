{
 "cells": [
  {
   "cell_type": "markdown",
   "metadata": {},
   "source": [
    "通过多重继承，一个子类就可以同时获得多个父类的所有功能。"
   ]
  },
  {
   "cell_type": "code",
   "execution_count": null,
   "metadata": {},
   "outputs": [],
   "source": [
    "class Animal(object):\n",
    "    pass\n",
    "\n",
    "# 大类:\n",
    "class Mammal(Animal):\n",
    "    pass\n",
    "\n",
    "class Bird(Animal):\n",
    "    pass\n",
    "\n",
    "#给定义动物的Runnable和Flyable的功能\n",
    "class RunnableMixIn(object):\n",
    "    def run(self):\n",
    "        print('Running...')\n",
    "\n",
    "class FlyableMixIn(object):\n",
    "    def fly(self):\n",
    "        print('Flying...')\n",
    "\n",
    "class CarnivorousMixIn(object):\n",
    "    def devour(self):\n",
    "        print('Devouring...')\n",
    "\n",
    "# 各种动物:\n",
    "class Dog(Mammal, RunnableMixIn, CarnivorousMixIn):\n",
    "    pass\n",
    "\n",
    "class Bat(Mammal, FlyableMixIn):\n",
    "    pass\n",
    "\n",
    "class Parrot(Bird, FlyableMixIn):\n",
    "    pass\n",
    "\n",
    "class Ostrich(Bird，RunnableMixIn):\n",
    "    pass"
   ]
  },
  {
   "cell_type": "markdown",
   "metadata": {},
   "source": [
    "MixIn：给一个类增加多个功能。\n",
    "\n",
    "在设计类的时候，优先考虑通过多重继承来组合多个MixIn的功能，而不是设计多层次复杂的继承关系。\n",
    "\n",
    "只允许单一继承的语言（如Java）不能使用MixIn的设计。"
   ]
  },
  {
   "cell_type": "markdown",
   "metadata": {},
   "source": [
    "Python自带了TCPServer和UDPServer这两类网络服务，而要同时服务多个用户就必须使用多进程或多线程模型，这两种模型由ForkingMixIn和ThreadingMixIn提供。通过组合，我们就可以创造出合适的服务来。"
   ]
  },
  {
   "cell_type": "code",
   "execution_count": null,
   "metadata": {},
   "outputs": [],
   "source": [
    "#多进程模式的TCP服务\n",
    "class MyTCPServer(TCPServer, ForkingMixIn):\n",
    "    pass\n",
    "\n",
    "#多线程模式的UDP服务\n",
    "class MyUDPServer(UDPServer, ThreadingMixIn):\n",
    "    pass\n",
    "\n",
    "#协程模型\n",
    "class MyTCPServer(TCPServer, CoroutineMixIn):\n",
    "    pass"
   ]
  },
  {
   "cell_type": "markdown",
   "metadata": {},
   "source": [
    "多重继承的顺序（C3算法）：拓扑排序。存在两个入度为0的点时，取最左原则。\n",
    "\n",
    "只要在一个地方找到了所需的内容，就不再继续查找。\n",
    "\n",
    "拓扑排序(Topological Sorting) 是一个有向无环图(DAG,Directed Acyclic Graph)的所有顶点的线性序列。\n",
    "\n",
    "1. 从DAG途中选择一个没有前驱(即入度为0)的顶点并输出\n",
    "\n",
    "2. 从图中删除该顶点和所有以它为起点的有向边。\n",
    "\n",
    "3. 重复1和2直到当前DAG图为空或当前途中不存在无前驱的顶点为止。后一种情况说明有向图中必然存在环。"
   ]
  },
  {
   "cell_type": "code",
   "execution_count": 2,
   "metadata": {},
   "outputs": [
    {
     "name": "stdout",
     "output_type": "stream",
     "text": [
      "(<class '__main__.D'>, <class '__main__.C1'>, <class '__main__.C2'>, <class '__main__.A'>, <class '__main__.B'>, <class 'object'>)\n",
      "A foo\n",
      "C2-bar\n"
     ]
    }
   ],
   "source": [
    "class A(object):\n",
    "    def foo(self):\n",
    "        print('A foo')\n",
    "    def bar(self):\n",
    "        print('A bar')\n",
    "\n",
    "class B(object):\n",
    "    def foo(self):\n",
    "        print('B foo')\n",
    "    def bar(self):\n",
    "        print('B bar')\n",
    "\n",
    "class C1(A,B):\n",
    "    pass\n",
    "\n",
    "class C2(A,B):\n",
    "    def bar(self):\n",
    "        print('C2-bar')\n",
    "\n",
    "class D(C1,C2):\n",
    "    pass\n",
    "\n",
    "\n",
    "# {D,C1,C2,A,B,object}\n",
    "print(D.__mro__) #解析方法调用的顺序\n",
    "d=D()\n",
    "d.foo()\n",
    "d.bar()"
   ]
  },
  {
   "cell_type": "code",
   "execution_count": 3,
   "metadata": {},
   "outputs": [
    {
     "name": "stdout",
     "output_type": "stream",
     "text": [
      "(<class '__main__.D'>, <class '__main__.C1'>, <class '__main__.A'>, <class '__main__.C2'>, <class '__main__.B'>, <class 'object'>)\n",
      "A foo\n",
      "A bar\n"
     ]
    }
   ],
   "source": [
    "class A(object):\n",
    "    def foo(self):\n",
    "        print('A foo')\n",
    "    def bar(self):\n",
    "        print('A bar')\n",
    "\n",
    "class B(object):\n",
    "    def foo(self):\n",
    "        print('B foo')\n",
    "    def bar(self):\n",
    "        print('B bar')\n",
    "\n",
    "class C1(A):\n",
    "    pass\n",
    "\n",
    "class C2(B):\n",
    "    def bar(self):\n",
    "        print('C2-bar')\n",
    "\n",
    "class D(C1,C2):\n",
    "    pass\n",
    "\n",
    "# {D,C1,A,C2,B,object}\n",
    "print(D.__mro__)\n",
    "d=D()\n",
    "d.foo()\n",
    "d.bar()"
   ]
  },
  {
   "cell_type": "code",
   "execution_count": null,
   "metadata": {},
   "outputs": [],
   "source": []
  }
 ],
 "metadata": {
  "kernelspec": {
   "display_name": "Python 3",
   "language": "python",
   "name": "python3"
  },
  "language_info": {
   "codemirror_mode": {
    "name": "ipython",
    "version": 3
   },
   "file_extension": ".py",
   "mimetype": "text/x-python",
   "name": "python",
   "nbconvert_exporter": "python",
   "pygments_lexer": "ipython3",
   "version": "3.6.4"
  }
 },
 "nbformat": 4,
 "nbformat_minor": 2
}
