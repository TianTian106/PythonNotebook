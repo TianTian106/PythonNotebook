{
 "cells": [
  {
   "cell_type": "markdown",
   "metadata": {},
   "source": [
    "模块（Module）\n",
    "\n",
    "在Python中，一个.py文件就称之为一个模块"
   ]
  },
  {
   "cell_type": "raw",
   "metadata": {},
   "source": [
    "为了避免模块名冲突，Python又引入了按目录来组织模块的方法，称为包（Package）。\n",
    "\n",
    "mycompany\n",
    "├─ __init__.py\n",
    "├─ abc.py\n",
    "└─ xyz.py\n",
    "\n",
    "（ abc.py模块的名字就变成了mycompany.abc ）\n",
    "\n",
    "注意：每一个包目录下面都会有一个__init__.py的文件，这个文件是必须存在的，否则，Python就把这个目录当成普通目录，而不是一个包。\n",
    "\n",
    "__init__.py可以是空文件，也可以有Python代码，因为__init__.py本身就是一个模块，而它的模块名就是mycompany。\n",
    "\n",
    "\n",
    "类似的，可以有多级目录，组成多级层次的包结构。\n",
    "\n",
    "mycompany\n",
    " ├─ web\n",
    " │  ├─ __init__.py\n",
    " │  ├─ utils.py\n",
    " │  └─ ttt.py\n",
    " ├─ __init__.py\n",
    " ├─ abc.py\n",
    " └─ xyz.py\n",
    " \n",
    "自己创建模块时要注意命名，不能和Python自带的模块名称冲突。例如，系统自带了sys模块，自己的模块就不可命名为sys.py，否则将无法导入系统自带的sys模块。\n",
    "\n",
    "检查：在Python交互环境执行import abc，若成功则说明系统存在此模块。"
   ]
  },
  {
   "cell_type": "code",
   "execution_count": null,
   "metadata": {},
   "outputs": [],
   "source": []
  }
 ],
 "metadata": {
  "kernelspec": {
   "display_name": "Python 3",
   "language": "python",
   "name": "python3"
  },
  "language_info": {
   "codemirror_mode": {
    "name": "ipython",
    "version": 3
   },
   "file_extension": ".py",
   "mimetype": "text/x-python",
   "name": "python",
   "nbconvert_exporter": "python",
   "pygments_lexer": "ipython3",
   "version": "3.6.4"
  }
 },
 "nbformat": 4,
 "nbformat_minor": 2
}
