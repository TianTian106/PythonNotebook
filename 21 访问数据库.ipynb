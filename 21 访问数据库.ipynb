{
 "cells": [
  {
   "cell_type": "markdown",
   "metadata": {},
   "source": [
    "数据库类别\n",
    "---\n",
    "付费的商用数据库：\n",
    "1. Oracle，典型的高富帅；\n",
    "2. SQL Server，微软自家产品，Windows定制专款；\n",
    "3. DB2，IBM的产品，听起来挺高端；\n",
    "4. Sybase，曾经跟微软是好基友，后来关系破裂，现在家境惨淡。\n",
    "\n",
    "免费的开源数据库：\n",
    "1. MySQL，大家都在用，一般错不了；\n",
    "2. PostgreSQL，学术气息有点重，其实挺不错，但知名度没有MySQL高；\n",
    "3. sqlite，嵌入式数据库，适合桌面和移动应用。"
   ]
  }
 ],
 "metadata": {
  "kernelspec": {
   "display_name": "Python 3",
   "language": "python",
   "name": "python3"
  },
  "language_info": {
   "codemirror_mode": {
    "name": "ipython",
    "version": 3
   },
   "file_extension": ".py",
   "mimetype": "text/x-python",
   "name": "python",
   "nbconvert_exporter": "python",
   "pygments_lexer": "ipython3",
   "version": "3.6.4"
  }
 },
 "nbformat": 4,
 "nbformat_minor": 2
}
