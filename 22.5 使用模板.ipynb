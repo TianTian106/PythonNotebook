{
 "cells": [
  {
   "cell_type": "markdown",
   "metadata": {},
   "source": [
    "使用模板\n",
    "---\n",
    "Web框架把我们从WSGI中拯救出来了。现在，我们只需要不断地编写函数，带上URL，就可以继续Web App的开发了。\n",
    "\n",
    "但是，Web App不仅仅是处理逻辑，展示给用户的页面也非常重要。而在Python代码里拼HTML字符串是不现实的，所以，模板技术出现了。\n",
    "\n",
    "俗话说得好，不懂前端的Python工程师不是好的产品经理。有Web开发经验的同学都明白，Web App最复杂的部分就在HTML页面。HTML不仅要正确，还要通过CSS美化，再加上复杂的JavaScript脚本来实现各种交互和动画效果。总之，生成HTML页面的难度很大。\n",
    "\n",
    "使用模板，我们需要预先准备一个HTML文档，这个HTML文档不是普通的HTML，而是嵌入了一些变量和指令，然后，根据我们传入的数据，替换后，得到最终的HTML，发送给用户：\n",
    "\n",
    "![avatar](https://github.com/TianTian106/PythonNotebook/blob/master/22.5%20MVC.png?raw=true)\n",
    "\n",
    "这就是传说中的**MVC：Model-View-Controller**，中文名“模型-视图-控制器”。\n",
    "\n",
    "Python处理URL的函数就是C：Controller，Controller负责业务逻辑，比如检查用户名是否存在，取出用户信息等等；\n",
    "\n",
    "包含变量{{ name }}的模板就是V：View，View负责显示逻辑，通过简单地替换一些变量，View最终输出的就是用户看到的HTML。\n",
    "\n",
    "MVC中的Model在哪？Model是用来传给View的，这样View在替换变量的时候，就可以从Model中取出相应的数据。\n",
    "\n",
    "上面的例子中，Model就是一个dict：\n",
    "\n",
    "{ 'name': 'Michael' }\n",
    "\n",
    "只是因为Python支持关键字参数，很多Web框架允许传入关键字参数，然后，在框架内部组装出一个dict作为Model。\n",
    "\n",
    "现在，我们把上次直接输出字符串作为HTML的例子用高端大气上档次的MVC模式改写一下："
   ]
  },
  {
   "cell_type": "code",
   "execution_count": null,
   "metadata": {},
   "outputs": [],
   "source": [
    "# app.py\n",
    "\n",
    "from flask import Flask, request, render_template\n",
    "\n",
    "app = Flask(__name__)\n",
    "\n",
    "@app.route('/', methods=['GET', 'POST'])\n",
    "def home():\n",
    "    return render_template('home.html')\n",
    "\n",
    "@app.route('/signin', methods=['GET'])\n",
    "def signin_form():\n",
    "    return render_template('form.html')\n",
    "\n",
    "@app.route('/signin', methods=['POST'])\n",
    "def signin():\n",
    "    username = request.form['username']\n",
    "    password = request.form['password']\n",
    "    if username=='admin' and password=='password':\n",
    "        return render_template('signin-ok.html', username=username)\n",
    "    return render_template('form.html', message='Bad username or password', username=username)\n",
    "\n",
    "if __name__ == '__main__':\n",
    "    app.run()"
   ]
  },
  {
   "cell_type": "markdown",
   "metadata": {},
   "source": [
    "Flask通过render_template()函数来实现模板的渲染。和Web框架类似，Python的模板也有很多种。Flask默认支持的模板是jinja2，所以我们先直接安装jinja2： $ pip install jinja2\n",
    "\n",
    "然后，开始编写jinja2模板："
   ]
  },
  {
   "cell_type": "raw",
   "metadata": {},
   "source": [
    "home.html\n",
    "\n",
    "用来显示首页的模板：\n",
    "\n",
    "<html>\n",
    "<head>\n",
    "  <title>Home</title>\n",
    "</head>\n",
    "<body>\n",
    "  <h1 style=\"font-style:italic\">Home</h1>\n",
    "</body>\n",
    "</html>"
   ]
  },
  {
   "cell_type": "raw",
   "metadata": {},
   "source": [
    "form.html\n",
    "\n",
    "用来显示登录表单的模板：\n",
    "\n",
    "<html>\n",
    "<head>\n",
    "  <title>Please Sign In</title>\n",
    "</head>\n",
    "<body>\n",
    "  {% if message %}\n",
    "  <p style=\"color:red\">{{ message }}</p>\n",
    "  {% endif %}\n",
    "  <form action=\"/signin\" method=\"post\">\n",
    "    <legend>Please sign in:</legend>\n",
    "    <p><input name=\"username\" placeholder=\"Username\" value=\"{{ username }}\"></p>\n",
    "    <p><input name=\"password\" placeholder=\"Password\" type=\"password\"></p>\n",
    "    <p><button type=\"submit\">Sign In</button></p>\n",
    "  </form>\n",
    "</body>\n",
    "</html>"
   ]
  },
  {
   "cell_type": "raw",
   "metadata": {},
   "source": [
    "signin-ok.html\n",
    "\n",
    "登录成功的模板：\n",
    "\n",
    "<html>\n",
    "<head>\n",
    "  <title>Welcome, {{ username }}</title>\n",
    "</head>\n",
    "<body>\n",
    "  <p>Welcome, {{ username }}!</p>\n",
    "</body>\n",
    "</html>"
   ]
  },
  {
   "cell_type": "markdown",
   "metadata": {},
   "source": [
    "登录失败的模板呢？我们在form.html中加了一点条件判断，把form.html重用为登录失败的模板。\n",
    "\n",
    "最后，一定要把模板放到正确的templates目录下，templates和app.py在同级目录下："
   ]
  },
  {
   "cell_type": "markdown",
   "metadata": {},
   "source": [
    "通过MVC，我们在Python代码中处理M：Model和C：Controller，而V：View是通过模板处理的，这样，我们就成功地把Python代码和HTML代码最大限度地分离了。\n",
    "\n",
    "使用模板的另一大好处是，模板改起来很方便，而且，改完保存后，刷新浏览器就能看到最新的效果，这对于调试HTML、CSS和JavaScript的前端工程师来说实在是太重要了。\n",
    "\n",
    "在Jinja2模板中，我们用{{ name }}表示一个需要替换的变量。很多时候，还需要循环、条件判断等指令语句，在Jinja2中，用{% ... %}表示指令。\n",
    "\n",
    "比如循环输出页码：\n"
   ]
  },
  {
   "cell_type": "raw",
   "metadata": {},
   "source": [
    "{% for i in page_list %}\n",
    "    <a href=\"/page/{{ i }}\">{{ i }}</a>\n",
    "{% endfor %}"
   ]
  },
  {
   "cell_type": "raw",
   "metadata": {},
   "source": [
    "如果page_list是一个list：[1, 2, 3, 4, 5]，上面的模板将输出5个超链接。\n",
    "\n",
    "除了Jinja2，常见的模板还有：\n",
    "\n",
    "1. Mako：用<% ... %>和${xxx}的一个模板；\n",
    "2. Cheetah：也是用<% ... %>和${xxx}的一个模板；\n",
    "3. Django：Django是一站式框架，内置一个用{% ... %}和{{ xxx }}的模板。"
   ]
  },
  {
   "cell_type": "markdown",
   "metadata": {},
   "source": [
    "小结\n",
    "---\n",
    "有了MVC，我们就分离了Python代码和HTML代码。HTML代码全部放到模板里，写起来更有效率。"
   ]
  }
 ],
 "metadata": {
  "kernelspec": {
   "display_name": "Python 3",
   "language": "python",
   "name": "python3"
  },
  "language_info": {
   "codemirror_mode": {
    "name": "ipython",
    "version": 3
   },
   "file_extension": ".py",
   "mimetype": "text/x-python",
   "name": "python",
   "nbconvert_exporter": "python",
   "pygments_lexer": "ipython3",
   "version": "3.6.4"
  }
 },
 "nbformat": 4,
 "nbformat_minor": 2
}
