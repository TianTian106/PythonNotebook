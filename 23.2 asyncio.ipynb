{
 "cells": [
  {
   "cell_type": "markdown",
   "metadata": {},
   "source": [
    "asyncio\n",
    "---\n",
    "asyncio是Python 3.4版本引入的标准库，直接内置了对异步IO的支持。\n",
    "\n",
    "asyncio的编程模型就是一个**消息循环**。我们从asyncio模块中直接获取一个**EventLoop**的引用，然后把需要执行的协程扔到EventLoop中执行，就实现了异步IO。\n"
   ]
  },
  {
   "cell_type": "code",
   "execution_count": 27,
   "metadata": {},
   "outputs": [
    {
     "name": "stdout",
     "output_type": "stream",
     "text": [
      "Hello world!\n",
      "Hello again!\n"
     ]
    }
   ],
   "source": [
    "# 用asyncio实现Hello world\n",
    "import asyncio,sys\n",
    "\n",
    "@asyncio.coroutine\n",
    "def hello():\n",
    "    print(\"Hello world!\")\n",
    "    # 异步调用asyncio.sleep(1):\n",
    "    r = yield from asyncio.sleep(1)\n",
    "    print(\"Hello again!\")\n",
    "\n",
    "# 获取EventLoop:\n",
    "#loop = asyncio.get_event_loop()\n",
    "loop = asyncio.new_event_loop()\n",
    "asyncio.set_event_loop(loop)  \n",
    "# 执行coroutine\n",
    "loop.run_until_complete(hello())\n",
    "loop.close()\n"
   ]
  },
  {
   "cell_type": "markdown",
   "metadata": {},
   "source": [
    "@asyncio.coroutine把一个**generator**标记为coroutine类型，然后，我们就把这个coroutine扔到EventLoop中执行。\n",
    "\n",
    "hello()会首先打印出Hello world!，然后，**yield from**语法可以让我们方便地**调用另一个generator**。由于asyncio.sleep()也是一个coroutine，所以线程不会等待asyncio.sleep()，而是直接中断并执行下一个消息循环。当asyncio.sleep()返回时，线程就可以从yield from拿到返回值（此处是None），然后接着执行下一行语句。\n",
    "\n",
    "把asyncio.sleep(1)看成是一个耗时1秒的IO操作，在此期间，主线程并未等待，而是去执行EventLoop中其他可以执行的coroutine了，因此可以实现并发执行。\n",
    "\n",
    "我们用Task封装两个coroutine试试："
   ]
  },
  {
   "cell_type": "code",
   "execution_count": 28,
   "metadata": {},
   "outputs": [
    {
     "name": "stdout",
     "output_type": "stream",
     "text": [
      "Hello world! (<_MainThread(MainThread, started 140736493695936)>)\n",
      "Hello world! (<_MainThread(MainThread, started 140736493695936)>)\n",
      "Hello again! (<_MainThread(MainThread, started 140736493695936)>)\n",
      "Hello again! (<_MainThread(MainThread, started 140736493695936)>)\n"
     ]
    }
   ],
   "source": [
    "import threading\n",
    "import asyncio\n",
    "\n",
    "@asyncio.coroutine\n",
    "def hello():\n",
    "    print('Hello world! (%s)' % threading.currentThread())\n",
    "    yield from asyncio.sleep(1)\n",
    "    print('Hello again! (%s)' % threading.currentThread())\n",
    "\n",
    "#loop = asyncio.get_event_loop()\n",
    "loop = asyncio.new_event_loop()\n",
    "asyncio.set_event_loop(loop)  \n",
    "tasks = [hello(), hello()]\n",
    "loop.run_until_complete(asyncio.wait(tasks))\n",
    "loop.close()"
   ]
  },
  {
   "cell_type": "markdown",
   "metadata": {},
   "source": [
    "由打印的当前线程名称可以看出，两个coroutine是由同一个线程并发执行的。\n",
    "\n",
    "如果把asyncio.sleep()换成真正的IO操作，则多个coroutine就可以由一个线程并发执行。"
   ]
  },
  {
   "cell_type": "code",
   "execution_count": null,
   "metadata": {},
   "outputs": [],
   "source": [
    "# 用asyncio的异步网络连接来获取sina、sohu和163的网站首页：\n",
    "import asyncio\n",
    "\n",
    "@asyncio.coroutine\n",
    "def wget(host):\n",
    "    print('wget %s...' % host)\n",
    "    connect = asyncio.open_connection(host, 80)\n",
    "    reader, writer = yield from connect\n",
    "    header = 'GET / HTTP/1.0\\r\\nHost: %s\\r\\n\\r\\n' % host\n",
    "    writer.write(header.encode('utf-8'))\n",
    "    yield from writer.drain()\n",
    "    while True:\n",
    "        line = yield from reader.readline()\n",
    "        if line == b'\\r\\n':\n",
    "            break\n",
    "        print('%s header > %s' % (host, line.decode('utf-8').rstrip()))\n",
    "    # Ignore the body, close the socket\n",
    "    writer.close()\n",
    "\n",
    "# loop = asyncio.get_event_loop()\n",
    "loop = asyncio.new_event_loop()\n",
    "asyncio.set_event_loop(loop)  \n",
    "tasks = [wget(host) for host in ['www.163.com', 'www.sina.com.cn', 'www.sohu.com']]\n",
    "loop.run_until_complete(asyncio.wait(tasks))\n",
    "loop.close()"
   ]
  },
  {
   "cell_type": "markdown",
   "metadata": {},
   "source": [
    "RuntimeError: Event loop is closed\n",
    "---\n",
    "https://stackoverflow.com/questions/37778019/aiohttp-asyncio-runtimeerror-event-loop-is-closed\n",
    "\n",
    "Methods run_until_complete, run_forever, run_in_executor, create_task, call_at explicitly check the loop and throw exception if it's closed.\n",
    "\n",
    "Unless you have some(good) reasons, you might simply **omit the close** line:"
   ]
  },
  {
   "cell_type": "code",
   "execution_count": null,
   "metadata": {},
   "outputs": [],
   "source": [
    "def scrap(category, field, pages, search, use_proxy, proxy_file):\n",
    "    #...\n",
    "    loop = asyncio.get_event_loop()\n",
    "\n",
    "    to_do = [ get_pages(url, params, conngen) for url in urls ]\n",
    "    wait_coro = asyncio.wait(to_do)\n",
    "    res, _ = loop.run_until_complete(wait_coro)\n",
    "    #...\n",
    "    # loop.close()\n",
    "    return [ x.result() for x in res ]"
   ]
  },
  {
   "cell_type": "markdown",
   "metadata": {},
   "source": [
    "If you want to have each time a **brand new loop**, you have t create it **manually** and set as **default**:"
   ]
  },
  {
   "cell_type": "code",
   "execution_count": null,
   "metadata": {},
   "outputs": [],
   "source": [
    "def scrap(category, field, pages, search, use_proxy, proxy_file):\n",
    "    #...\n",
    "    loop = asyncio.new_event_loop()\n",
    "    asyncio.set_event_loop(loop)    \n",
    "    to_do = [ get_pages(url, params, conngen) for url in urls ]\n",
    "    wait_coro = asyncio.wait(to_do)\n",
    "    res, _ = loop.run_until_complete(wait_coro)\n",
    "    #...\n",
    "    return [ x.result() for x in res ]"
   ]
  },
  {
   "cell_type": "markdown",
   "metadata": {},
   "source": [
    "A Curious Course on Coroutines and Concurrency\n",
    "---\n",
    "http://www.dabeaz.com/coroutines/index.html"
   ]
  },
  {
   "cell_type": "markdown",
   "metadata": {},
   "source": [
    "A Web Crawler With asyncio Coroutines\n",
    "---\n",
    "http://aosabook.org/en/500L/a-web-crawler-with-asyncio-coroutines.html"
   ]
  },
  {
   "cell_type": "markdown",
   "metadata": {},
   "source": [
    "异步IO（ asyncio） 协程\n",
    "---\n",
    "http://python.jobbole.com/87310/"
   ]
  }
 ],
 "metadata": {
  "kernelspec": {
   "display_name": "Python 3",
   "language": "python",
   "name": "python3"
  },
  "language_info": {
   "codemirror_mode": {
    "name": "ipython",
    "version": 3
   },
   "file_extension": ".py",
   "mimetype": "text/x-python",
   "name": "python",
   "nbconvert_exporter": "python",
   "pygments_lexer": "ipython3",
   "version": "3.6.4"
  }
 },
 "nbformat": 4,
 "nbformat_minor": 2
}
