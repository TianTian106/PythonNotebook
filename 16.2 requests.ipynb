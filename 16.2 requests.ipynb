{
 "cells": [
  {
   "cell_type": "markdown",
   "metadata": {},
   "source": [
    "Python内置的urllib模块，用于访问网络资源。但是，它用起来比较麻烦，而且，缺少很多实用的高级功能。\n",
    "\n",
    "更好的方案是使用requests。它是一个Python第三方库，处理URL资源特别方便。\n",
    "\n",
    "如果安装了Anaconda，requests就已经可用了。否则，需要在命令行下通过pip安装：$ pip install requests。\n",
    "\n",
    "如果遇到Permission denied安装失败，请加上sudo重试。"
   ]
  },
  {
   "cell_type": "code",
   "execution_count": null,
   "metadata": {},
   "outputs": [],
   "source": [
    "# 通过GET访问一个页面\n",
    "import requests\n",
    "r = requests.get('https://www.baidu.com/')\n",
    "print(r.status_code)\n",
    "print(r.text)"
   ]
  },
  {
   "cell_type": "code",
   "execution_count": 3,
   "metadata": {},
   "outputs": [
    {
     "name": "stdout",
     "output_type": "stream",
     "text": [
      "https://www.douban.com/search?q=python&cat=1001\n"
     ]
    }
   ],
   "source": [
    "# 对于带参数的URL，传入一个dict作为params参数\n",
    "r = requests.get('https://www.douban.com/search', params={'q': 'python', 'cat': '1001'})\n",
    "print(r.url)    # 实际请求的url"
   ]
  },
  {
   "cell_type": "code",
   "execution_count": 4,
   "metadata": {},
   "outputs": [
    {
     "name": "stdout",
     "output_type": "stream",
     "text": [
      "utf-8\n"
     ]
    }
   ],
   "source": [
    "# requests自动检测编码，可以使用encoding属性查看：\n",
    "print(r.encoding)"
   ]
  },
  {
   "cell_type": "code",
   "execution_count": null,
   "metadata": {},
   "outputs": [],
   "source": [
    "# 无论响应是文本还是二进制内容，我们都可以用content属性获得bytes对象\n",
    "print(r.content)"
   ]
  },
  {
   "cell_type": "code",
   "execution_count": null,
   "metadata": {},
   "outputs": [],
   "source": [
    "# 对于特定类型的响应，例如JSON，可以直接获取\n",
    "r = requests.get('https://query.yahooapis.com/v1/public/yql?q=select%20*%20from%20weather.forecast%20where%20woeid%20%3D%202151330&format=json')\n",
    "pritn(r.json())"
   ]
  },
  {
   "cell_type": "code",
   "execution_count": null,
   "metadata": {},
   "outputs": [],
   "source": [
    "# 需要传入HTTP Header时，传入一个dict作为headers参数：\n",
    "r = requests.get('https://www.douban.com/', headers={'User-Agent': 'Mozilla/5.0 (iPhone; CPU iPhone OS 11_0 like Mac OS X) AppleWebKit'})\n",
    "print(r.text)"
   ]
  },
  {
   "cell_type": "code",
   "execution_count": null,
   "metadata": {},
   "outputs": [],
   "source": [
    "# 要发送POST请求，只需要把get()方法变成post()，然后传入data参数作为POST请求的数据\n",
    "r = requests.post('https://accounts.douban.com/login', data={'form_email': 'abc@example.com', 'form_password': '123456'})\n"
   ]
  },
  {
   "cell_type": "code",
   "execution_count": null,
   "metadata": {},
   "outputs": [],
   "source": [
    "# requests默认使用application/x-www-form-urlencoded对POST数据编码。\n",
    "# 如果要传递JSON数据，可以直接传入json参数：\n",
    "params = {'key': 'value'}\n",
    "r = requests.post(url, json=params) # 内部自动序列化为JSON"
   ]
  },
  {
   "cell_type": "code",
   "execution_count": null,
   "metadata": {},
   "outputs": [],
   "source": [
    "# 上传文件需要更复杂的编码格式，但是requests把它简化成files参数：\n",
    "upload_files = {'file': open('report.xls', 'rb')}\n",
    "r = requests.post(url, files=upload_files)"
   ]
  },
  {
   "cell_type": "markdown",
   "metadata": {},
   "source": [
    "在读取文件时，注意务必使用'rb'即二进制模式读取，这样获取的bytes长度才是文件的长度。\n",
    "\n",
    "把post()方法替换为put()，delete()等，就可以以PUT或DELETE方式请求资源。\n",
    "\n",
    "除了能轻松获取响应内容外，requests对获取HTTP响应的其他信息也非常简单。\n"
   ]
  },
  {
   "cell_type": "code",
   "execution_count": null,
   "metadata": {},
   "outputs": [],
   "source": [
    "# 获取响应头\n",
    "print(r.headers)\n",
    "print(r.headers['Content-Type'])"
   ]
  },
  {
   "cell_type": "code",
   "execution_count": null,
   "metadata": {},
   "outputs": [],
   "source": [
    "# requests对Cookie做了特殊处理，使得我们不必解析Cookie就可以轻松获取指定的Cookie\n",
    "r.cookies['ts']"
   ]
  },
  {
   "cell_type": "code",
   "execution_count": null,
   "metadata": {},
   "outputs": [],
   "source": [
    "# 要在请求中传入Cookie，只需准备一个dict传入cookies参数：\n",
    "cs = {'token': '12345', 'status': 'working'}\n",
    "r = requests.get(url, cookies=cs)"
   ]
  },
  {
   "cell_type": "code",
   "execution_count": null,
   "metadata": {},
   "outputs": [],
   "source": [
    "# 要指定超时，传入以秒为单位的timeout参数：\n",
    "r = requests.get(url, timeout=2.5) # 2.5秒后超时"
   ]
  }
 ],
 "metadata": {
  "kernelspec": {
   "display_name": "Python 3",
   "language": "python",
   "name": "python3"
  },
  "language_info": {
   "codemirror_mode": {
    "name": "ipython",
    "version": 3
   },
   "file_extension": ".py",
   "mimetype": "text/x-python",
   "name": "python",
   "nbconvert_exporter": "python",
   "pygments_lexer": "ipython3",
   "version": "3.6.4"
  }
 },
 "nbformat": 4,
 "nbformat_minor": 2
}
