{
 "cells": [
  {
   "cell_type": "markdown",
   "metadata": {},
   "source": [
    "MySQL是Web世界中使用最广泛的数据库服务器。SQLite的特点是轻量级、可嵌入，但不能承受高并发访问，适合桌面和移动应用。而MySQL是为服务器端设计的数据库，能承受高并发访问，同时占用的内存也远远大于SQLite。\n",
    "\n",
    "此外，MySQL内部有多种数据库引擎，最常用的引擎是支持数据库**事务**的**InnoDB**。"
   ]
  },
  {
   "cell_type": "markdown",
   "metadata": {},
   "source": [
    "安装MySQL\n",
    "---\n",
    "可以直接从MySQL官方网站下载最新的MySQL Community Server版本。MySQL是跨平台的，选择对应的平台下载安装文件，安装即可。\n",
    "\n",
    "安装时，MySQL会提示输入root用户的口令。\n",
    "\n",
    "在Windows上，安装时请选择UTF-8编码，以便正确地处理中文。\n",
    "\n",
    "在Mac或Linux上，需要编辑MySQL的配置文件，把数据库默认的编码全部改为UTF-8。MySQL的配置文件默认存放在**/etc/my.cnf**或者**/etc/mysql/my.cnf**\n",
    "\n",
    "[client]  \n",
    "default-character-set = utf8  \n",
    "\n",
    "[mysqld]  \n",
    "default-storage-engine = INNODB  \n",
    "character-set-server = utf8  \n",
    "collation-server = utf8_general_ci"
   ]
  },
  {
   "cell_type": "raw",
   "metadata": {},
   "source": [
    "重启MySQL后，可以通过MySQL的客户端命令行检查编码，看到utf8字样就表示编码设置正确。\n",
    "\n",
    "$ mysql -u root -p\n",
    "Enter password: \n",
    "Welcome to the MySQL monitor...\n",
    "...\n",
    "\n",
    "mysql> show variables like '%char%';\n",
    "+--------------------------+--------------------------------------------------------+\n",
    "| Variable_name            | Value                                                  |\n",
    "+--------------------------+--------------------------------------------------------+\n",
    "| character_set_client     | utf8                                                   |\n",
    "| character_set_connection | utf8                                                   |\n",
    "| character_set_database   | utf8                                                   |\n",
    "| character_set_filesystem | binary                                                 |\n",
    "| character_set_results    | utf8                                                   |\n",
    "| character_set_server     | utf8                                                   |\n",
    "| character_set_system     | utf8                                                   |\n",
    "| character_sets_dir       | /usr/local/mysql-5.1.65-osx10.6-x86_64/share/charsets/ |\n",
    "+--------------------------+--------------------------------------------------------+\n",
    "8 rows in set (0.00 sec)"
   ]
  },
  {
   "cell_type": "markdown",
   "metadata": {},
   "source": [
    "注：如果MySQL的版本≥5.5.3，可以把编码设置为**utf8mb4**，utf8mb4和utf8完全兼容，但它支持最新的Unicode标准，可以显示**emoji**字符。"
   ]
  },
  {
   "cell_type": "markdown",
   "metadata": {},
   "source": [
    "安装MySQL驱动\n",
    "---\n",
    "由于MySQL服务器以独立的进程运行，并通过网络对外服务，所以，需要支持Python的MySQL驱动来连接到MySQL服务器。MySQL官方提供了**mysql-connector-python**驱动，但是安装的时候需要给pip命令加上参数**--allow-external**：\n",
    "\n",
    "$ pip install mysql-connector-python --allow-external mysql-connector-python  \n",
    "如果上面的命令安装失败，可以试试另一个驱动：\n",
    "\n",
    "$ pip install mysql-connector"
   ]
  },
  {
   "cell_type": "code",
   "execution_count": null,
   "metadata": {},
   "outputs": [],
   "source": [
    "# 导入MySQL驱动:\n",
    "import mysql.connector\n",
    "\n",
    "# 注意把password设为你的root口令:\n",
    "conn = mysql.connector.connect(user='root', password='password', database='test')\n",
    "cursor = conn.cursor()\n",
    "\n",
    "# 创建user表:\n",
    "cursor.execute('create table user (id varchar(20) primary key, name varchar(20))')\n",
    "\n",
    "# 插入一行记录，注意MySQL的占位符是%s:\n",
    "cursor.execute('insert into user (id, name) values (%s, %s)', ['1', 'Michael'])\n",
    "print(cursor.rowcount)\n",
    "\n",
    "# 提交事务:\n",
    "conn.commit()\n",
    "cursor.close()\n",
    "\n",
    "# 运行查询:\n",
    "cursor = conn.cursor()\n",
    "cursor.execute('select * from user where id = %s', ('1',))\n",
    "values = cursor.fetchall()\n",
    "print(values)\n",
    "\n",
    "# 关闭Cursor和Connection:\n",
    "cursor.close()\n",
    "conn.close()"
   ]
  },
  {
   "cell_type": "markdown",
   "metadata": {},
   "source": [
    "小结\n",
    "---\n",
    "执行INSERT等操作后要调用commit()提交事务；\n",
    "\n",
    "MySQL的SQL**占位符是%s**。"
   ]
  },
  {
   "cell_type": "markdown",
   "metadata": {},
   "source": [
    "Mac安装Mysql过程记录\n",
    "---\n",
    "1. 下载.dmg文件，双击打开一路确定，当弹出一个MYSQL Installer提示框的时候复制粘贴记下弹出框的**密码**\n",
    "2. 打开mysql服务：系统偏好设置，Start MySQL Server\n",
    "3. 配置路径：  \n",
    "打开终端，修改.bash_profile：  \n",
    "vim ~/.bash_profile  \n",
    "加入：  \n",
    "export MYSQL_HOME=/usr/local/mysql  \n",
    "export PATH=\\$PATH:$MYSQL_HOME/bin  \n",
    "保存关闭终端即可生效。\n",
    "4. 登陆 MySQL：mysql -u root -p  \n",
    "修改密码：SET PASSWORD FOR 'root'@'localhost' = PASSWORD('newpass');  \n"
   ]
  }
 ],
 "metadata": {
  "kernelspec": {
   "display_name": "Python 3",
   "language": "python",
   "name": "python3"
  },
  "language_info": {
   "codemirror_mode": {
    "name": "ipython",
    "version": 3
   },
   "file_extension": ".py",
   "mimetype": "text/x-python",
   "name": "python",
   "nbconvert_exporter": "python",
   "pygments_lexer": "ipython3",
   "version": "3.6.4"
  }
 },
 "nbformat": 4,
 "nbformat_minor": 2
}
