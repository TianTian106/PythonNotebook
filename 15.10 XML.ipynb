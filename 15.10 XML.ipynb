{
 "cells": [
  {
   "cell_type": "markdown",
   "metadata": {},
   "source": [
    "DOM vs SAX\n",
    "---\n",
    "操作XML有两种方法：DOM和SAX。DOM会把整个XML读入内存，解析为树，因此占用内存大，解析慢，优点是可以任意遍历树的节点。SAX是流模式，边读边解析，占用内存小，解析快，缺点是我们需要自己处理**事件**。\n",
    "\n",
    "正常情况下，优先考虑**SAX**，因为DOM实在太占内存。\n",
    "\n",
    "在Python中使用SAX解析XML非常简洁，通常我们关心的事件是**start_element，end_element，char_data**，准备好这3个函数，然后就可以解析xml了。\n",
    "\n",
    "例如，当SAX解析器读到一个节点：&lt;a href=\"/\">python&lt;/a>  \n",
    "会产生3个事件：\n",
    "1. start_element事件，在读取&lt;a href=\"/\">时；\n",
    "2. char_data事件，在读取python时；\n",
    "3. end_element事件，在读取&lt;/a>时。\n",
    "\n",
    "\n",
    "需要注意的是读取一大段字符串时，CharacterDataHandler可能被多次调用，所以需要自己保存起来，在EndElementHandler里面再合并。?"
   ]
  },
  {
   "cell_type": "code",
   "execution_count": 23,
   "metadata": {},
   "outputs": [
    {
     "name": "stdout",
     "output_type": "stream",
     "text": [
      "sax:start_element: ol, attrs: {}\n",
      "sax:char_data: \n",
      "\n",
      "sax:char_data:     \n",
      "sax:start_element: li, attrs: {}\n",
      "sax:start_element: a, attrs: {'href': '/python'}\n",
      "sax:char_data: Python\n",
      "sax:end_element: a\n",
      "sax:end_element: li\n",
      "sax:char_data: \n",
      "\n",
      "sax:char_data:     \n",
      "sax:start_element: li, attrs: {}\n",
      "sax:start_element: a, attrs: {'href': '/ruby'}\n",
      "sax:char_data: Ruby\n",
      "sax:end_element: a\n",
      "sax:end_element: li\n",
      "sax:char_data: \n",
      "\n",
      "sax:end_element: ol\n"
     ]
    },
    {
     "data": {
      "text/plain": [
       "1"
      ]
     },
     "execution_count": 23,
     "metadata": {},
     "output_type": "execute_result"
    }
   ],
   "source": [
    "from xml.parsers.expat import ParserCreate\n",
    "\n",
    "class DefaultSaxHandler(object):\n",
    "    def start_element(self, name, attrs):\n",
    "        print('sax:start_element: %s, attrs: %s' % (name, str(attrs)))\n",
    "\n",
    "    def end_element(self, name):\n",
    "        print('sax:end_element: %s' % name)\n",
    "\n",
    "    def char_data(self, text):\n",
    "        print('sax:char_data: %s' % text)\n",
    "\n",
    "xml = r'''<?xml version=\"1.0\"?>\n",
    "<ol>\n",
    "    <li><a href=\"/python\">Python</a></li>\n",
    "    <li><a href=\"/ruby\">Ruby</a></li>\n",
    "</ol>\n",
    "'''\n",
    "\n",
    "handler = DefaultSaxHandler()\n",
    "parser = ParserCreate()\n",
    "parser.StartElementHandler = handler.start_element\n",
    "parser.EndElementHandler = handler.end_element\n",
    "parser.CharacterDataHandler = handler.char_data\n",
    "parser.Parse(xml)"
   ]
  },
  {
   "cell_type": "markdown",
   "metadata": {},
   "source": [
    "除了解析XML外，如何生成XML呢？99%的情况下需要生成的XML结构都是非常简单的，因此，最简单也是最有效的生成XML的方法是拼接字符串。如果要生成复杂的XML建议不要用XML，改成JSON。"
   ]
  },
  {
   "cell_type": "code",
   "execution_count": 18,
   "metadata": {},
   "outputs": [
    {
     "data": {
      "text/plain": [
       "'<?xml version=\"1.0\"?><root>some & data</root>'"
      ]
     },
     "execution_count": 18,
     "metadata": {},
     "output_type": "execute_result"
    }
   ],
   "source": [
    "\n",
    "L = []\n",
    "L.append(r'<?xml version=\"1.0\"?>')\n",
    "L.append(r'<root>')\n",
    "L.append('some & data')\n",
    "L.append(r'</root>')\n",
    "''.join(L)"
   ]
  },
  {
   "cell_type": "markdown",
   "metadata": {},
   "source": [
    "小结\n",
    "---\n",
    "解析XML时，注意找出自己感兴趣的节点，响应事件时，把节点数据保存起来。解析完毕后，就可以处理数据。\n",
    "\n",
    "练习\n",
    "---\n",
    "请利用SAX编写程序解析Yahoo的XML格式的天气预报，获取天气预报：\n",
    "\n",
    "https://query.yahooapis.com/v1/public/yql?q=select%20*%20from%20weather.forecast%20where%20woeid%20%3D%202151330&format=xml\n",
    "\n",
    "参数woeid是城市代码，要查询某个城市代码，可以在weather.yahoo.com搜索城市，浏览器地址栏的URL就包含城市代码。"
   ]
  },
  {
   "cell_type": "code",
   "execution_count": 37,
   "metadata": {},
   "outputs": [
    {
     "name": "stdout",
     "output_type": "stream",
     "text": [
      "{'city': 'Beijing', 'forecast': [{'date': '22 Mar 2018', 'high': '67', 'low': '31'}, {'date': '23 Mar 2018', 'high': '64', 'low': '39'}, {'date': '24 Mar 2018', 'high': '68', 'low': '37'}, {'date': '25 Mar 2018', 'high': '74', 'low': '40'}, {'date': '26 Mar 2018', 'high': '74', 'low': '43'}, {'date': '27 Mar 2018', 'high': '77', 'low': '46'}, {'date': '28 Mar 2018', 'high': '77', 'low': '50'}, {'date': '29 Mar 2018', 'high': '63', 'low': '49'}, {'date': '30 Mar 2018', 'high': '60', 'low': '45'}, {'date': '31 Mar 2018', 'high': '60', 'low': '43'}]}\n"
     ]
    }
   ],
   "source": [
    "from xml.parsers.expat import ParserCreate\n",
    "from urllib import request\n",
    "\n",
    "class DefaultSaxHandler(object):\n",
    "    def __init__(self):\n",
    "        self.res = {'city':'','forecast':[]}\n",
    "        \n",
    "    def start_element(self, name, attrs):\n",
    "        if attrs.__contains__('city'):\n",
    "            self.res['city'] = attrs['city']\n",
    "        \n",
    "        if 'date' in attrs and 'high' in attrs and 'low' in attrs:\n",
    "            self.res['forecast'].append({'date':attrs['date'],'high':attrs['high'],'low':attrs['low']})\n",
    "            \n",
    "def parseXml(xml_str):\n",
    "    handler = DefaultSaxHandler()\n",
    "    parser = ParserCreate()\n",
    "    parser.StartElementHandler = handler.start_element\n",
    "    parser.Parse(xml_str)\n",
    "    return handler.res\n",
    "\n",
    "# 测试:\n",
    "URL = 'https://query.yahooapis.com/v1/public/yql?q=select%20*%20from%20weather.forecast%20where%20woeid%20%3D%202151330&format=xml'\n",
    "\n",
    "with request.urlopen(URL, timeout=4) as f:\n",
    "    data = f.read()\n",
    "\n",
    "result = parseXml(data.decode('utf-8'))\n",
    "assert result['city'] == 'Beijing'\n",
    "print(result)"
   ]
  }
 ],
 "metadata": {
  "kernelspec": {
   "display_name": "Python 3",
   "language": "python",
   "name": "python3"
  },
  "language_info": {
   "codemirror_mode": {
    "name": "ipython",
    "version": 3
   },
   "file_extension": ".py",
   "mimetype": "text/x-python",
   "name": "python",
   "nbconvert_exporter": "python",
   "pygments_lexer": "ipython3",
   "version": "3.6.4"
  }
 },
 "nbformat": 4,
 "nbformat_minor": 2
}
