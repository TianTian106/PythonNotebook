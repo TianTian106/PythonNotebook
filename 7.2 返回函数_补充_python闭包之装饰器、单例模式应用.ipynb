{
 "cells": [
  {
   "cell_type": "code",
   "execution_count": 1,
   "metadata": {
    "collapsed": false
   },
   "outputs": [
    {
     "name": "stdout",
     "output_type": "stream",
     "text": [
      "__main__\n",
      "time\n"
     ]
    }
   ],
   "source": [
    "\"命名空间和作用域\"\n",
    "#通过 __name__ 属性获取命名空间的名字，主文件的命名空间是叫做 '__main__'，而模块的命名空间就是模块名。\n",
    "import time\n",
    "print(__name__)\n",
    "print(time.__name__)\n",
    "#作用域：当python寻找一个变量的时候，首先在当前命名空间找，如果没有，到上一级命名空间找，以此类推，如果最后都没找到，触发变量没找到异常。"
   ]
  },
  {
   "cell_type": "code",
   "execution_count": 2,
   "metadata": {
    "collapsed": false
   },
   "outputs": [
    {
     "name": "stdout",
     "output_type": "stream",
     "text": [
      "6\n",
      "11\n",
      "7\n",
      "12\n"
     ]
    }
   ],
   "source": [
    "#修改闭包变量的实例\n",
    "# outer是外部函数 a和b都是外函数的临时变量\n",
    "def outer( a ):\n",
    "    b = 10  # a和b都是闭包变量\n",
    "    c = [a] #这里对应修改闭包变量的方法2\n",
    "    # inner是内函数\n",
    "    def inner():\n",
    "        #内函数中想修改闭包变量\n",
    "        # 方法1 nonlocal关键字声明\n",
    "        nonlocal  b\n",
    "        b+=1\n",
    "        # 方法二，把闭包变量修改成可变数据类型 比如列表\n",
    "        c[0] += 1\n",
    "        print(c[0])\n",
    "        print(b)\n",
    "    # 外函数的返回值是内函数的引用\n",
    "    return inner\n",
    "\n",
    "demo = outer(5)\n",
    "demo() # 6  11\n",
    "demo() # 7  12"
   ]
  },
  {
   "cell_type": "code",
   "execution_count": 4,
   "metadata": {
    "collapsed": false
   },
   "outputs": [
    {
     "name": "stdout",
     "output_type": "stream",
     "text": [
      "我在传入的函数执行之前做一些操作\n",
      "我进行了登录功能\n",
      "我在目标函数执行后再做一些事情\n"
     ]
    }
   ],
   "source": [
    "\"装饰器\"\n",
    "def decorator(func):  # 装饰函数\n",
    "    def inner():\n",
    "        print('我在传入的函数执行之前做一些操作')\n",
    "        func()  # 执行函数\n",
    "        print('我在目标函数执行后再做一些事情')\n",
    "    return inner\n",
    "\n",
    "def login():    # 被装饰函数\n",
    "    print('我进行了登录功能')\n",
    "\n",
    "login = decorator(login)   # 我将被装饰的函数传入装饰函数中，并覆盖了原函数的入口\n",
    "login()     # 此时执行的就是被装饰后的函数了\n",
    "\n",
    "# 1.函数的参数传递的其实是引用，而不是值。\n",
    "# 2.函数名也是一个变量，所以可以重新赋值。\n",
    "# 3.赋值操作的时候，先执行等号右边的。\n",
    "# 装饰器就是在闭包的基础上传递了一个函数，然后覆盖原来函数的执行入口，以后调用这个函数的时候，就可以额外实现一些功能。装饰器的存在主要是为了不修改原函数的代码，也不修改其他调用这个函数的代码，就能实现功能的拓展。"
   ]
  },
  {
   "cell_type": "code",
   "execution_count": 10,
   "metadata": {
    "collapsed": false
   },
   "outputs": [
    {
     "name": "stdout",
     "output_type": "stream",
     "text": [
      "我在传入的函数执行之前做一些操作\n",
      "我进行了登录功能\n",
      "我在目标函数执行后再做一些事情\n"
     ]
    }
   ],
   "source": [
    "#Python简化重命名操作\n",
    "def decorator(func):\n",
    "    def inner():\n",
    "        print('我在传入的函数执行之前做一些操作')\n",
    "        func()  # 执行函数\n",
    "        print('我在目标函数执行后再做一些事情')\n",
    "    return inner\n",
    "\n",
    "@decorator    # 自动将其下面的函数作为参数传到装饰函数中去\n",
    "def login():\n",
    "    print('我进行了登录功能')\n",
    "\n",
    "login()"
   ]
  },
  {
   "cell_type": "code",
   "execution_count": 18,
   "metadata": {
    "collapsed": false
   },
   "outputs": [
    {
     "name": "stdout",
     "output_type": "stream",
     "text": [
      "我是装饰器的参数 123\n",
      "我在传入的函数执行之前做一些操作\n",
      "我进行了登录功能\n",
      "我在目标函数执行后再做一些事情\n"
     ]
    }
   ],
   "source": [
    "#带参数的装饰器\n",
    "def decorator(a):\n",
    "    print('我是装饰器的参数', a)\n",
    "    def inner(func):\n",
    "        print('我在传入的函数执行之前做一些操作')\n",
    "        func()  # 执行函数\n",
    "        print('我在目标函数执行后再做一些事情')\n",
    "    return inner\n",
    "\n",
    "@decorator('123')\n",
    "def login():\n",
    "    print('我进行了登录功能')\n",
    "\n",
    "#　相当于： login = decorator(123)(login) ，所以在这里没有调用就执行了。"
   ]
  },
  {
   "cell_type": "code",
   "execution_count": null,
   "metadata": {
    "collapsed": true
   },
   "outputs": [],
   "source": [
    "#装饰器的嵌套(略)\n",
    "@deco1(deco_arg) \n",
    "@deco2 \n",
    "def func(): \n",
    "    pass\n",
    "# 相当于： func = deco1(deco_arg)(deco2(func))  "
   ]
  },
  {
   "cell_type": "code",
   "execution_count": 35,
   "metadata": {
    "collapsed": false
   },
   "outputs": [
    {
     "name": "stdout",
     "output_type": "stream",
     "text": [
      "<__main__.test_singleton object at 0x0000000004DA5860>\n",
      "<__main__.test_singleton object at 0x0000000004DA5860>\n",
      "True\n",
      "1\n",
      "2\n",
      "2\n"
     ]
    }
   ],
   "source": [
    "\"单例模式\"\n",
    "def singleton(cls, *args, **kw):  \n",
    "    instance={}  \n",
    "    def _singleton():  \n",
    "        if cls not in instance:  \n",
    "            instance[cls]=cls(*args, **kw)  \n",
    "        return instance[cls]  \n",
    "    return _singleton  \n",
    "\n",
    "@singleton  \n",
    "class test_singleton(object):  \n",
    "    def __init__(self):  \n",
    "        self.num_sum=0  \n",
    "    def add(self):  \n",
    "        self.num_sum += 1  \n",
    "\n",
    "obj1 = test_singleton()\n",
    "obj2 = test_singleton()\n",
    "print(obj1)\n",
    "print(obj2)\n",
    "print(obj1==obj2)\n",
    "obj1.add()\n",
    "print(obj2.num_sum)\n",
    "obj2.add()\n",
    "print(obj1.num_sum)\n",
    "print(obj2.num_sum)"
   ]
  },
  {
   "cell_type": "code",
   "execution_count": null,
   "metadata": {
    "collapsed": true
   },
   "outputs": [],
   "source": []
  }
 ],
 "metadata": {
  "anaconda-cloud": {},
  "kernelspec": {
   "display_name": "Python [default]",
   "language": "python",
   "name": "python3"
  },
  "language_info": {
   "codemirror_mode": {
    "name": "ipython",
    "version": 3
   },
   "file_extension": ".py",
   "mimetype": "text/x-python",
   "name": "python",
   "nbconvert_exporter": "python",
   "pygments_lexer": "ipython3",
   "version": "3.5.2"
  }
 },
 "nbformat": 4,
 "nbformat_minor": 1
}
