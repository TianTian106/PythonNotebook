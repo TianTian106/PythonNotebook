{
 "cells": [
  {
   "cell_type": "markdown",
   "metadata": {},
   "source": [
    "itertools提供了非常有用的用于操作迭代对象的函数。它们的返回值不是list，而是Iterator，只有用for循环迭代的时候才真正计算。\n",
    "\n",
    "“无限”迭代器：count()、cycle()、repeat()\n",
    "---\n",
    "无限序列只有在for迭代时才会无限地迭代下去，如果只是创建了一个迭代对象，它不会事先把无限个元素生成出来，事实上也不可能在内存中创建无限多个元素。\n",
    "\n",
    "无限序列虽然可以无限迭代下去，但是通常我们会通过**takewhile()**等函数根据条件判断来截取出一个有限的序列。"
   ]
  },
  {
   "cell_type": "code",
   "execution_count": 5,
   "metadata": {},
   "outputs": [
    {
     "name": "stdout",
     "output_type": "stream",
     "text": [
      "1\n",
      "2\n",
      "3\n",
      "takewhile:  [4, 5, 6, 7, 8, 9, 10]\n"
     ]
    }
   ],
   "source": [
    "import itertools\n",
    "naturals = itertools.count(1)    # count()会创建一个无限的迭代器\n",
    "for n in naturals:\n",
    "    print(n)\n",
    "    if n==3 :\n",
    "        break\n",
    "        \n",
    "ns = itertools.takewhile(lambda x:x<=10 , naturals)\n",
    "print('takewhile: ',list(ns))"
   ]
  },
  {
   "cell_type": "code",
   "execution_count": 1,
   "metadata": {},
   "outputs": [
    {
     "name": "stdout",
     "output_type": "stream",
     "text": [
      "A\n",
      "B\n"
     ]
    }
   ],
   "source": [
    "import itertools\n",
    "cs = itertools.cycle('ABC')    # cycle()会把传入的一个序列无限重复下去\n",
    "n = 1\n",
    "for c in cs :\n",
    "    print(c)\n",
    "    n += 1\n",
    "    if n==3 :\n",
    "        break"
   ]
  },
  {
   "cell_type": "code",
   "execution_count": 2,
   "metadata": {},
   "outputs": [
    {
     "name": "stdout",
     "output_type": "stream",
     "text": [
      "T\n",
      "T\n",
      "T\n"
     ]
    }
   ],
   "source": [
    "import itertools\n",
    "ns = itertools.repeat('T',3)    #repeat()负责把一个元素无限重复下去，不过如果提供第二个参数就可以限定重复次数\n",
    "for n in ns:\n",
    "    print(n)"
   ]
  },
  {
   "cell_type": "markdown",
   "metadata": {},
   "source": [
    "chain()\n",
    "---\n",
    "chain()可以把一组迭代对象串联起来，形成一个更大的迭代器。"
   ]
  },
  {
   "cell_type": "code",
   "execution_count": 13,
   "metadata": {},
   "outputs": [
    {
     "name": "stdout",
     "output_type": "stream",
     "text": [
      "A\n",
      "B\n",
      "C\n",
      "X\n",
      "Y\n",
      "Z\n"
     ]
    }
   ],
   "source": [
    "for c in itertools.chain('ABC', 'XYZ'):\n",
    "    print(c)\n",
    "# 迭代效果：'A' 'B' 'C' 'X' 'Y' 'Z'"
   ]
  },
  {
   "cell_type": "markdown",
   "metadata": {},
   "source": [
    "groupby()\n",
    "---\n",
    "groupby()把迭代器中相邻的重复元素挑出来放在一起。"
   ]
  },
  {
   "cell_type": "code",
   "execution_count": 8,
   "metadata": {},
   "outputs": [
    {
     "name": "stdout",
     "output_type": "stream",
     "text": [
      "A ['A', 'A', 'A']\n",
      "B ['B', 'B', 'B']\n",
      "C ['C', 'C']\n",
      "A ['A', 'A', 'A']\n"
     ]
    }
   ],
   "source": [
    "for key, group in itertools.groupby('AAABBBCCAAA'):\n",
    "    print(key, list(group))"
   ]
  },
  {
   "cell_type": "markdown",
   "metadata": {},
   "source": [
    "实际上挑选规则是通过函数完成的，只要作用于函数的两个元素返回的值相等，这两个元素就被认为是在一组的，而函数返回值作为组的key。如果我们要忽略大小写分组，就可以让元素'A'和'a'都返回相同的key："
   ]
  },
  {
   "cell_type": "code",
   "execution_count": 10,
   "metadata": {},
   "outputs": [
    {
     "name": "stdout",
     "output_type": "stream",
     "text": [
      "A ['A', 'a', 'a']\n",
      "B ['B', 'B', 'b']\n",
      "C ['c', 'C']\n",
      "A ['A', 'A', 'a']\n"
     ]
    }
   ],
   "source": [
    "for key, group in itertools.groupby('AaaBBbcCAAa', lambda c: c.upper())print(key, list(group))"
   ]
  },
  {
   "cell_type": "code",
   "execution_count": 15,
   "metadata": {},
   "outputs": [
    {
     "name": "stdout",
     "output_type": "stream",
     "text": [
      "3.0418396189294032\n",
      "3.1315929035585537\n",
      "3.140592653839794\n",
      "3.1414926535900345\n",
      "ok\n"
     ]
    }
   ],
   "source": [
    "# 练习：计算圆周率可以根据公式，利用Python提供的itertools模块，我们来计算这个序列的前N项和\n",
    "import itertools\n",
    "def pi(N):\n",
    "    ' 计算pi的值 '\n",
    "    # step 1: 创建一个奇数序列: 1, 3, 5, 7, 9, ...\n",
    "    odd = itertools.count(1,2)  # count(起始数,步长)\n",
    "    # step 2: 取该序列的前N项: 1, 3, 5, 7, 9, ..., 2*N-1.\n",
    "    odd_n = itertools.takewhile(lambda x:x<=2*N-1 , odd)\n",
    "    # step 3: 添加正负符号并用4除: 4/1, -4/3, 4/5, -4/7, 4/9, ...\n",
    "    div4 = itertools.cycle([4, -4])\n",
    "    quotient = map(lambda x: next(div4)/x,odd_n)\n",
    "    # step 4: 求和:\n",
    "    result = sum(quotient)\n",
    "    return result\n",
    "\n",
    "# 测试:\n",
    "print(pi(10))\n",
    "print(pi(100))\n",
    "print(pi(1000))\n",
    "print(pi(10000))\n",
    "assert 3.04 < pi(10) < 3.05\n",
    "assert 3.13 < pi(100) < 3.14\n",
    "assert 3.140 < pi(1000) < 3.141\n",
    "assert 3.1414 < pi(10000) < 3.1415\n",
    "print('ok')"
   ]
  }
 ],
 "metadata": {
  "kernelspec": {
   "display_name": "Python 3",
   "language": "python",
   "name": "python3"
  },
  "language_info": {
   "codemirror_mode": {
    "name": "ipython",
    "version": 3
   },
   "file_extension": ".py",
   "mimetype": "text/x-python",
   "name": "python",
   "nbconvert_exporter": "python",
   "pygments_lexer": "ipython3",
   "version": "3.6.4"
  }
 },
 "nbformat": 4,
 "nbformat_minor": 2
}
