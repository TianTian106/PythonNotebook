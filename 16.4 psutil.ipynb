{
 "cells": [
  {
   "cell_type": "markdown",
   "metadata": {},
   "source": [
    "用Python来编写脚本简化日常的运维工作是Python的一个重要用途。在Linux下，有许多系统命令可以让我们时刻监控系统运行的状态，如ps，top，free等等。要获取这些系统信息，Python可以通过**subprocess**模块调用并获取结果。但这样做显得很麻烦，尤其是要写很多解析代码。\n",
    "\n",
    "在Python中获取系统信息的另一个好办法是使用**psutil**这个第三方模块。顾名思义，psutil = process and system utilities，它不仅可以通过一两行代码实现系统监控，还可以跨平台使用，支持Linux／UNIX／OSX／Windows等，是系统管理员和运维小伙伴不可或缺的必备模块。\n",
    "\n",
    "如果安装了Anaconda，psutil就已经可用了。否则，需要在命令行下通过pip安装：$ pip install psutil\n",
    "\n",
    "如果遇到Permission denied安装失败，请加上sudo重试。"
   ]
  },
  {
   "cell_type": "markdown",
   "metadata": {},
   "source": [
    "获取CPU信息\n",
    "---\n"
   ]
  },
  {
   "cell_type": "code",
   "execution_count": null,
   "metadata": {},
   "outputs": [],
   "source": [
    "import psutil\n",
    "print(psutil.cpu_count())    # CPU逻辑数量\n",
    "print(psutil.cpu_count(logical=False))    # CPU物理核心"
   ]
  },
  {
   "cell_type": "code",
   "execution_count": null,
   "metadata": {},
   "outputs": [],
   "source": [
    "# 统计CPU的用户／系统／空闲时间：\n",
    "print(psutil.cpu_times())\n",
    "\n",
    "# 实现类似top命令的CPU使用率，每秒刷新一次，累计10次：\n",
    "for x in range(10):\n",
    "    print(psutil.cpu_percent(interval=1, percpu=True))"
   ]
  },
  {
   "cell_type": "markdown",
   "metadata": {},
   "source": [
    "获取内存信息\n",
    "---\n",
    "**物理内存**和**交换内存**信息\n",
    "\n",
    "返回的是字节为单位的整数，可以看到，总内存大小是total/pow(1024,3) GB，已用used/pow(1024,3) GB，使用了percent%。\n",
    "\n",
    "而交换区大小是total/pow(1024,3) GB。"
   ]
  },
  {
   "cell_type": "code",
   "execution_count": null,
   "metadata": {},
   "outputs": [],
   "source": [
    "print(psutil.virtual_memory())\n",
    "print(psutil.swap_memory())"
   ]
  },
  {
   "cell_type": "markdown",
   "metadata": {},
   "source": [
    "获取磁盘信息\n",
    "---\n",
    "**磁盘分区**、**磁盘使用率**和**磁盘IO**信息\n",
    "\n",
    "可以看到，磁盘'/'的总容量是total/pow(1024,3) GB，使用了percent%。文件格式见fstype。  \n",
    "opts中包含rw表示可读写、journaled表示支持日志。"
   ]
  },
  {
   "cell_type": "code",
   "execution_count": null,
   "metadata": {},
   "outputs": [],
   "source": [
    "print(psutil.disk_partitions())    # 磁盘分区信息\n",
    "print(psutil.disk_usage('/'))    # 磁盘使用情况\n",
    "print(psutil.disk_io_counters())    # 磁盘IO"
   ]
  },
  {
   "cell_type": "markdown",
   "metadata": {},
   "source": [
    "获取网络信息\n",
    "---\n",
    "获取**网络接口**和**网络连接**信息"
   ]
  },
  {
   "cell_type": "code",
   "execution_count": null,
   "metadata": {},
   "outputs": [],
   "source": [
    "print(psutil.net_io_counters())    # 获取网络读写字节／包的个数\n",
    "print(psutil.net_if_addrs())    # 获取网络接口信息\n",
    "print(psutil.net_if_stats())     # 获取网络接口状态"
   ]
  },
  {
   "cell_type": "markdown",
   "metadata": {},
   "source": [
    "使用net_connections()获取当前网络连接信息。  \n",
    "你可能会得到一个AccessDenied错误，原因是psutil获取信息也是要走系统接口，而获取网络连接信息需要root权限，这种情况下，可以退出Python交互环境，用sudo重新启动。\n",
    "\n",
    "$ sudo python3  \n",
    "Password:  \n",
    "\\>>> import psutil  \n",
    "\\>>> psutil.net_connections()  "
   ]
  },
  {
   "cell_type": "code",
   "execution_count": null,
   "metadata": {},
   "outputs": [],
   "source": [
    "print(psutil.net_connections())    # 获取当前网络连接信息"
   ]
  },
  {
   "cell_type": "markdown",
   "metadata": {},
   "source": [
    "获取进程信息\n",
    "---\n",
    "和获取网络连接类似，获取一个root用户的进程需要root权限，启动Python交互环境或者.py文件时，需要sudo权限。"
   ]
  },
  {
   "cell_type": "code",
   "execution_count": null,
   "metadata": {},
   "outputs": [],
   "source": [
    "import psutil\n",
    "\n",
    "print(psutil.pids()) # 所有进程ID\n",
    "\n",
    "p = psutil.Process(46169)    # 获取指定进程ID=46169，其实就是当前Python交互环境\n",
    "print('进程名称：',p.name())    # 进程名称\n",
    "print('进程exe路径：',p.exe())    # 进程exe路径\n",
    "print('进程工作目录：',p.cwd())    # 进程工作目录\n",
    "print('进程启动的命令行：',p.cmdline())    # 进程启动的命令行\n",
    "print('父进程ID：',p.ppid())    # 父进程ID\n",
    "\n",
    "pp = p.parent()    # 父进程\n",
    "print('父进程：',pp)\n",
    "print('子进程列表：',pp.children())    # 子进程列表\n",
    "\n",
    "print('进程状态：',p.status())    # 进程状态\n",
    "print('进程用户名：',p.username())    # 进程用户名\n",
    "print('进程创建时间：',p.create_time())    # 进程创建时间\n",
    "\n",
    "print('进程终端',p.terminal()) # 进程终端\n",
    "\n",
    "print('进程使用的CPU时间',p.cpu_times())    # 进程使用的CPU时间\n",
    "print('进程使用的内存',p.memory_info())    # 进程使用的内存\n",
    "print('进程打开的文件',p.open_files())    # 进程打开的文件\n",
    "print('进程相关网络连接',p.connections())    # 进程相关网络连接\n",
    "print('进程的线程数量',p.num_threads())    # 进程的线程数量\n",
    "print('所有线程信息',p.threads())    # 所有线程信息\n",
    "print('进程环境变量',p.environ())    # 进程环境变量\n",
    "print('结束进程',p.terminate())    # 结束进程(自己把自己结束了)"
   ]
  },
  {
   "cell_type": "markdown",
   "metadata": {},
   "source": [
    "psutil还提供了一个test()函数，可以模拟出**ps命令**的效果\n"
   ]
  },
  {
   "cell_type": "code",
   "execution_count": null,
   "metadata": {},
   "outputs": [],
   "source": [
    "import psutil\n",
    "psutil.test()"
   ]
  }
 ],
 "metadata": {
  "kernelspec": {
   "display_name": "Python 3",
   "language": "python",
   "name": "python3"
  },
  "language_info": {
   "codemirror_mode": {
    "name": "ipython",
    "version": 3
   },
   "file_extension": ".py",
   "mimetype": "text/x-python",
   "name": "python",
   "nbconvert_exporter": "python",
   "pygments_lexer": "ipython3",
   "version": "3.6.4"
  }
 },
 "nbformat": 4,
 "nbformat_minor": 2
}
