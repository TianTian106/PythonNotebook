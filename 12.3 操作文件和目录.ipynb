{
 "cells": [
  {
   "cell_type": "markdown",
   "metadata": {},
   "source": [
    "操作系统提供的命令，比如dir、cp等，只是简单地调用了操作系统提供的接口函数。\n",
    "\n",
    "Python内置的os模块也可以直接调用操作系统提供的接口函数。os模块的某些函数是跟操作系统相关的。"
   ]
  },
  {
   "cell_type": "code",
   "execution_count": null,
   "metadata": {},
   "outputs": [],
   "source": [
    "import os\n",
    "print(os.name)\n",
    "# Linux、Unix、Mac OS X: posix\n",
    "# Windows: nt\n",
    "\n",
    "print(os.uname())    #详细的系统信息，Windows上不提供。"
   ]
  },
  {
   "cell_type": "markdown",
   "metadata": {},
   "source": [
    "环境变量\n",
    "\n",
    "操作系统中定义的环境变量，全部保存在os.environ这个变量中。"
   ]
  },
  {
   "cell_type": "code",
   "execution_count": null,
   "metadata": {},
   "outputs": [],
   "source": [
    "import os\n",
    "print(os.environ)\n",
    "\n",
    "#获取某个环境变量的值:\n",
    "print(os.environ.get('PATH'))\n",
    "print(os.environ.get('x', 'default'))"
   ]
  },
  {
   "cell_type": "markdown",
   "metadata": {},
   "source": [
    "操作文件和目录\n",
    "\n",
    "一部分在os模块，一部分在os.path模块。"
   ]
  },
  {
   "cell_type": "code",
   "execution_count": 16,
   "metadata": {},
   "outputs": [
    {
     "name": "stdout",
     "output_type": "stream",
     "text": [
      "/Users/tiantian/Workspace/pythonProjects/PythonNotebook\n",
      "../test/testdir\n"
     ]
    }
   ],
   "source": [
    "# 查看当前目录的绝对路径:\n",
    "print(os.path.abspath('.'))\n",
    "\n",
    "# 拼接目录的完整路径:\n",
    "print(os.path.join('../test', 'testdir'))\n",
    "\n",
    "# 创建一个目录:\n",
    "os.mkdir(os.path.join('../test', 'testdir'))\n",
    "# 删掉一个目录:\n",
    "os.rmdir(os.path.join('../test', 'testdir'))"
   ]
  },
  {
   "cell_type": "markdown",
   "metadata": {},
   "source": [
    "把两个路径合成一个时，不要直接拼字符串，而要通过os.path.join()函数，这样可以正确处理不同操作系统的路径分隔符。\n",
    "\n",
    "要拆分路径时，也不要直接去拆字符串，而要通过os.path.split()函数。\n",
    "\n",
    "Linux/Unix/Mac: 'part-1/part-2'\n",
    "\n",
    "Windows: 'part-1\\part-2'\n",
    "\n",
    "这些合并、拆分路径的函数并不要求目录和文件要真实存在，它们只对字符串进行操作。"
   ]
  },
  {
   "cell_type": "code",
   "execution_count": 20,
   "metadata": {},
   "outputs": [
    {
     "data": {
      "text/plain": [
       "('/Users/tiantian/testdir', 'file.txt')"
      ]
     },
     "execution_count": 20,
     "metadata": {},
     "output_type": "execute_result"
    }
   ],
   "source": [
    "os.path.split('/Users/tiantian/testdir/file.txt')"
   ]
  },
  {
   "cell_type": "markdown",
   "metadata": {},
   "source": [
    "获得文件扩展名: os.path.splitext()"
   ]
  },
  {
   "cell_type": "code",
   "execution_count": 21,
   "metadata": {},
   "outputs": [
    {
     "data": {
      "text/plain": [
       "('/path/to/file', '.txt')"
      ]
     },
     "execution_count": 21,
     "metadata": {},
     "output_type": "execute_result"
    }
   ],
   "source": [
    "os.path.splitext('/path/to/file.txt')"
   ]
  },
  {
   "cell_type": "code",
   "execution_count": null,
   "metadata": {},
   "outputs": [],
   "source": [
    "# 对文件重命名:\n",
    "os.rename('test.txt', 'test.py')\n",
    "# 删掉文件:\n",
    "os.remove('test.py')"
   ]
  },
  {
   "cell_type": "markdown",
   "metadata": {},
   "source": [
    "os模块中不存在复制文件的函数。因为复制文件并非由操作系统提供的系统调用。\n",
    "\n",
    "shutil模块提供了copyfile()的函数等很多实用函数，可以看做是os模块的补充。\n"
   ]
  },
  {
   "cell_type": "code",
   "execution_count": 27,
   "metadata": {},
   "outputs": [
    {
     "name": "stdout",
     "output_type": "stream",
     "text": [
      "['.git', '.ipynb_checkpoints']\n"
     ]
    }
   ],
   "source": [
    "# 列出当前目录下的所有目录：\n",
    "dirlist = [x for x in os.listdir('.') if os.path.isdir(x)]\n",
    "print(dirlist)\n",
    "\n",
    "# 列出当前目录下的所有文件：\n",
    "filelist = [x for x in os.listdir('.') if os.path.isfile(x)]\n",
    "\n",
    "#列出所有的.py文件:\n",
    "pyliest = [x for x in os.listdir('.') if os.path.isfile(x) and os.path.splitext(x)[1]=='.py']"
   ]
  },
  {
   "cell_type": "code",
   "execution_count": 51,
   "metadata": {},
   "outputs": [
    {
     "name": "stdout",
     "output_type": "stream",
     "text": [
      "['./test/myTest.py', './test/test.txt']\n"
     ]
    }
   ],
   "source": [
    "#练习：编写一个程序，能在当前目录以及当前目录的所有子目录下查找文件名包含指定字符串的文件，并打印出相对路径。\n",
    "import os\n",
    "def findfile(keyword) :\n",
    "    filelist = []\n",
    "    pathlist = ['.']\n",
    "\n",
    "    while len(pathlist)>0:\n",
    "        prefix = pathlist.pop()\n",
    "        filelist += [os.path.join(prefix, x) for x in os.listdir(prefix) if os.path.isfile(os.path.join(prefix, x)) and keyword in x]\n",
    "        pathlist += [os.path.join(prefix, x) for x in os.listdir(prefix) if os.path.isdir(os.path.join(prefix, x))]\n",
    "    return filelist\n",
    "    \n",
    "result = findfile('est')\n",
    "print(result)\n",
    "\n"
   ]
  },
  {
   "cell_type": "code",
   "execution_count": 52,
   "metadata": {},
   "outputs": [
    {
     "name": "stdout",
     "output_type": "stream",
     "text": [
      "./test/myTest.py\n",
      "./test/test.txt\n"
     ]
    }
   ],
   "source": [
    "import os \n",
    "def findfile(keyword, prefix='.'):\n",
    "    for x in os.listdir(prefix):\n",
    "        fullpath = os.path.join(prefix, x)\n",
    "        if os.path.isfile(fullpath) and keyword in x:\n",
    "            print(fullpath)\n",
    "        elif os.path.isdir(fullpath):\n",
    "            findfile(keyword, fullpath)\n",
    "    return\n",
    "\n",
    "findfile('est')\n",
    "            "
   ]
  },
  {
   "cell_type": "code",
   "execution_count": null,
   "metadata": {},
   "outputs": [],
   "source": []
  }
 ],
 "metadata": {
  "kernelspec": {
   "display_name": "Python 3",
   "language": "python",
   "name": "python3"
  },
  "language_info": {
   "codemirror_mode": {
    "name": "ipython",
    "version": 3
   },
   "file_extension": ".py",
   "mimetype": "text/x-python",
   "name": "python",
   "nbconvert_exporter": "python",
   "pygments_lexer": "ipython3",
   "version": "3.6.4"
  }
 },
 "nbformat": 4,
 "nbformat_minor": 2
}
