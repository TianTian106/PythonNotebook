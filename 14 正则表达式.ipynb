{
 "cells": [
  {
   "cell_type": "markdown",
   "metadata": {},
   "source": [
    "直接给出字符，即精确匹配。  \n",
    "\\d 匹配一个数字。  \n",
    "\\w 匹配一个字母或数字。  \n",
    "\\s 匹配一个空格（也包括Tab等空白符）  \n",
    ". 匹配任意一个字符。  \n",
    "\n",
    "\\* 表示任意个字符（包括0个）。  \n",
    "+表示至少一个字符。  \n",
    "?表示0个或1个字符。  \n",
    "{n}表示n个字符。  \n",
    "{n,m}表示n~m个字符。  \n",
    "\n",
    "[]表示范围。\n",
    "\n",
    "A|B可以匹配A或B。  \n",
    "\n",
    "^表示行的开头。\n",
    "\n",
    "$表示行的结束。  \n",
    "\n",
    "re模块\n",
    "---\n",
    "Python的字符串本身也用\\转义，所以要特别注意。  \n",
    "建议使用Python的r前缀，就不用考虑转义的问题了。  "
   ]
  },
  {
   "cell_type": "code",
   "execution_count": null,
   "metadata": {},
   "outputs": [],
   "source": [
    "s = 'ABC\\\\-001' # Python的字符串\n",
    "# 对应的正则表达式字符串变成：\n",
    "# 'ABC\\-001'\n",
    "\n",
    "s = r'ABC\\-001' # Python的字符串\n",
    "# 对应的正则表达式字符串不变：\n",
    "# 'ABC\\-001'"
   ]
  },
  {
   "cell_type": "code",
   "execution_count": 1,
   "metadata": {},
   "outputs": [
    {
     "name": "stdout",
     "output_type": "stream",
     "text": [
      "<_sre.SRE_Match object; span=(0, 9), match='010-12345'>\n",
      "None\n"
     ]
    }
   ],
   "source": [
    "# 判断正则表达式是否匹配\n",
    "import re\n",
    "rst1 = re.match(r'^\\d{3}\\-\\d{3,8}$', '010-12345') \n",
    "print(rst1)\n",
    "rst2 = re.match(r'^\\d{3}\\-\\d{3,8}$', '010 12345')\n",
    "print(rst2)"
   ]
  },
  {
   "cell_type": "markdown",
   "metadata": {},
   "source": [
    "match()方法判断是否匹配，如果匹配成功，返回一个Match对象，否则返回None"
   ]
  },
  {
   "cell_type": "code",
   "execution_count": null,
   "metadata": {},
   "outputs": [],
   "source": [
    "test = '用户输入的字符串'\n",
    "if re.match(r'正则表达式', test):\n",
    "    print('ok')\n",
    "else:\n",
    "    print('failed')"
   ]
  },
  {
   "cell_type": "markdown",
   "metadata": {},
   "source": [
    "切分字符串\n",
    "---\n",
    "用正则表达式切分字符串比用固定的字符更灵活。"
   ]
  },
  {
   "cell_type": "code",
   "execution_count": 2,
   "metadata": {},
   "outputs": [
    {
     "name": "stdout",
     "output_type": "stream",
     "text": [
      "['a', 'b', '', '', 'c']\n",
      "['a', 'b', 'c']\n",
      "['a', 'b', 'c', 'd']\n"
     ]
    }
   ],
   "source": [
    "rst1 = 'a b   c'.split(' ')\n",
    "print(rst1)\n",
    "\n",
    "rst2 = re.split(r'\\s+', 'a b   c')\n",
    "print(rst2)\n",
    "\n",
    "rst3 = re.split(r'[\\s\\,\\;]+', 'a,b;; c  d')\n",
    "print(rst3)"
   ]
  },
  {
   "cell_type": "markdown",
   "metadata": {},
   "source": [
    "分组\n",
    "---\n",
    "正则表达式还有提取子串的强大功能。用()表示的就是要提取的分组（Group）。  \n",
    "如果正则表达式中定义了组，就可以在Match对象上用group()方法提取出子串来。  \n",
    "注意到group(0)永远是原始字符串，group(1)、group(2)……表示第1、2、……个子串。  \n",
    "groups()表示第1、2、……个子串tuple。  "
   ]
  },
  {
   "cell_type": "code",
   "execution_count": 3,
   "metadata": {},
   "outputs": [
    {
     "name": "stdout",
     "output_type": "stream",
     "text": [
      "<_sre.SRE_Match object; span=(0, 9), match='010-12345'>\n",
      "010-12345\n",
      "010\n",
      "12345\n"
     ]
    }
   ],
   "source": [
    "m = re.match(r'^(\\d{3})-(\\d{3,8})$', '010-12345')\n",
    "print(m)\n",
    "print(m.group(0))\n",
    "print(m.group(1))\n",
    "print(m.group(2))"
   ]
  },
  {
   "cell_type": "code",
   "execution_count": 4,
   "metadata": {},
   "outputs": [
    {
     "name": "stdout",
     "output_type": "stream",
     "text": [
      "('19', '05', '30')\n"
     ]
    }
   ],
   "source": [
    "t = '19:05:30'\n",
    "# 识别合法的时间\n",
    "m = re.match(r'^(0[0-9]|1[0-9]|2[0-3]|[0-9])\\:(0[0-9]|1[0-9]|2[0-9]|3[0-9]|4[0-9]|5[0-9]|[0-9])\\:(0[0-9]|1[0-9]|2[0-9]|3[0-9]|4[0-9]|5[0-9]|[0-9])$', t)\n",
    "print(m.groups())"
   ]
  },
  {
   "cell_type": "markdown",
   "metadata": {},
   "source": [
    "贪婪匹配\n",
    "---\n",
    "正则匹配默认是贪婪匹配，也就是匹配尽可能多的字符。  \n",
    "增加?就可以采用非贪婪匹配。"
   ]
  },
  {
   "cell_type": "code",
   "execution_count": 7,
   "metadata": {},
   "outputs": [
    {
     "name": "stdout",
     "output_type": "stream",
     "text": [
      "('102300', '')\n",
      "('1023', '00')\n"
     ]
    }
   ],
   "source": [
    "rst1 = re.match(r'^(\\d+)(0*)$', '102300').groups()\n",
    "print(rst1)\n",
    "\n",
    "rst2 = re.match(r'^(\\d+?)(0*)$', '102300').groups()    # \\d+采用非贪婪匹配\n",
    "print(rst2)"
   ]
  },
  {
   "cell_type": "markdown",
   "metadata": {},
   "source": [
    "编译\n",
    "---\n",
    "当我们在Python中使用正则表达式时，re模块内部会干两件事情：\n",
    "1. 编译正则表达式，如果正则表达式的字符串本身不合法，会报错；\n",
    "2. 用编译后的正则表达式去匹配字符串。\n",
    "\n",
    "如果一个正则表达式要重复使用几千次，出于效率的考虑，我们可以预编译该正则表达式，接下来重复使用时就不需要编译这个步骤了，直接匹配。"
   ]
  },
  {
   "cell_type": "code",
   "execution_count": 8,
   "metadata": {},
   "outputs": [
    {
     "name": "stdout",
     "output_type": "stream",
     "text": [
      "('010', '12345')\n",
      "('010', '8086')\n"
     ]
    }
   ],
   "source": [
    "import re\n",
    "# 编译\n",
    "re_telephone = re.compile(r'^(\\d{3})-(\\d{3,8})$')    # 编译后生成Regular Expression对象\n",
    "# 使用\n",
    "print(re_telephone.match('010-12345').groups())\n",
    "print(re_telephone.match('010-8086').groups())"
   ]
  }
 ],
 "metadata": {
  "kernelspec": {
   "display_name": "Python 3",
   "language": "python",
   "name": "python3"
  },
  "language_info": {
   "codemirror_mode": {
    "name": "ipython",
    "version": 3
   },
   "file_extension": ".py",
   "mimetype": "text/x-python",
   "name": "python",
   "nbconvert_exporter": "python",
   "pygments_lexer": "ipython3",
   "version": "3.6.4"
  }
 },
 "nbformat": 4,
 "nbformat_minor": 2
}
