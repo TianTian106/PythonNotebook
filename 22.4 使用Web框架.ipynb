{
 "cells": [
  {
   "cell_type": "markdown",
   "metadata": {},
   "source": [
    "使用Web框架\n",
    "---\n",
    "了解了WSGI框架，我们发现：其实一个Web App，就是写一个WSGI的处理函数，针对每个HTTP请求进行响应。\n",
    "\n",
    "但是如何处理HTTP请求不是问题，问题是如何处理100个不同的URL。\n",
    "\n",
    "每一个URL可以对应GET和POST请求，当然还有PUT、DELETE等请求，但是我们通常只考虑最常见的GET和POST请求。\n",
    "\n",
    "一个最简单的想法是从environ变量里取出HTTP请求的信息，然后逐个判断：\n",
    "\n"
   ]
  },
  {
   "cell_type": "code",
   "execution_count": null,
   "metadata": {},
   "outputs": [],
   "source": [
    "def application(environ, start_response):\n",
    "    method = environ['REQUEST_METHOD']\n",
    "    path = environ['PATH_INFO']\n",
    "    if method=='GET' and path=='/':\n",
    "        return handle_home(environ, start_response)\n",
    "    if method=='POST' and path='/signin':\n",
    "        return handle_signin(environ, start_response)\n",
    "    ...\n"
   ]
  },
  {
   "cell_type": "markdown",
   "metadata": {},
   "source": [
    "只是这么写下去代码是肯定没法维护了。\n",
    "\n",
    "代码这么写没法维护的原因是因为WSGI提供的接口虽然比HTTP接口高级了不少，但和Web App的处理逻辑比，还是比较低级，我们需要在WSGI接口之上能进一步抽象，让我们专注于用一个函数处理一个URL，至于**URL到函数的映射**，就交给**Web框架**来做。\n",
    "\n",
    "由于用Python开发一个Web框架十分容易，所以Python有上百个开源的Web框架。这里我们先不讨论各种Web框架的优缺点，直接选择一个比较流行的Web框架——Flask来使用。\n",
    "\n",
    "用Flask编写Web App比WSGI接口简单。\n",
    "\n",
    "pip安装Flask： $ pip install flask\n",
    "\n",
    "写一个app.py，处理3个URL，分别是：\n",
    "1. GET /：首页，返回Home；\n",
    "2. GET /signin：登录页，显示登录表单；\n",
    "3. POST /signin：处理登录表单，显示登录结果。\n",
    "\n",
    "注意噢，同一个URL/signin分别有GET和POST两种请求，映射到两个处理函数中。\n",
    "\n",
    "Flask通过Python的**装饰器**在内部自动地把URL和函数给关联起来。\n",
    "\n",
    "运行python app.py，Flask自带的Server在端口5000上监听：\n"
   ]
  },
  {
   "cell_type": "code",
   "execution_count": null,
   "metadata": {},
   "outputs": [],
   "source": [
    "# app.py\n",
    "\n",
    "from flask import Flask\n",
    "from flask import request\n",
    "\n",
    "app = Flask(__name__)\n",
    "\n",
    "@app.route('/', methods=['GET', 'POST'])\n",
    "def home():\n",
    "    return '<h1>Home</h1>'\n",
    "\n",
    "@app.route('/signin', methods=['GET'])\n",
    "def signin_form():\n",
    "    return '''<form action=\"/signin\" method=\"post\">\n",
    "              <p><input name=\"username\"></p>\n",
    "              <p><input name=\"password\" type=\"password\"></p>\n",
    "              <p><button type=\"submit\">Sign In</button></p>\n",
    "              </form>'''\n",
    "\n",
    "@app.route('/signin', methods=['POST'])\n",
    "def signin():\n",
    "    # 需要从request对象读取表单内容：\n",
    "    if request.form['username']=='admin' and request.form['password']=='password':\n",
    "        return '<h3>Hello, admin!</h3>'\n",
    "    return '<h3>Bad username or password.</h3>'\n",
    "\n",
    "if __name__ == '__main__':\n",
    "    app.run()"
   ]
  },
  {
   "cell_type": "markdown",
   "metadata": {},
   "source": [
    "实际的Web App应该拿到用户名和口令后，去数据库查询再比对，来判断用户是否能登录成功。\n",
    "\n",
    "除了Flask，常见的Python Web框架还有：\n",
    "\n",
    "1. Django：全能型Web框架；\n",
    "2. web.py：一个小巧的Web框架；\n",
    "3. Bottle：和Flask类似的Web框架；\n",
    "4. Tornado：Facebook的开源异步Web框架。\n",
    "\n",
    "当然了，因为开发Python的Web框架也不是什么难事，我们后面也会讲到开发Web框架的内容。\n",
    "\n",
    "小结\n",
    "---\n",
    "有了Web框架，我们在编写Web应用时，注意力就从WSGI处理函数转移到URL+对应的处理函数，这样，编写Web App就更加简单了。\n",
    "\n",
    "在编写URL处理函数时，除了配置URL外，从HTTP请求拿到用户数据也是非常重要的。Web框架都提供了自己的API来实现这些功能。Flask通过request.form['name']来获取表单的内容。\n"
   ]
  }
 ],
 "metadata": {
  "kernelspec": {
   "display_name": "Python 3",
   "language": "python",
   "name": "python3"
  },
  "language_info": {
   "codemirror_mode": {
    "name": "ipython",
    "version": 3
   },
   "file_extension": ".py",
   "mimetype": "text/x-python",
   "name": "python",
   "nbconvert_exporter": "python",
   "pygments_lexer": "ipython3",
   "version": "3.6.4"
  }
 },
 "nbformat": 4,
 "nbformat_minor": 2
}
