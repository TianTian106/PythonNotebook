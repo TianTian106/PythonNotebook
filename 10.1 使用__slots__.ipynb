{
 "cells": [
  {
   "cell_type": "markdown",
   "metadata": {},
   "source": [
    "定义了一个class，创建了一个class实例后，可以给该实例绑定任何属性和方法。"
   ]
  },
  {
   "cell_type": "code",
   "execution_count": 17,
   "metadata": {
    "collapsed": false
   },
   "outputs": [
    {
     "name": "stdout",
     "output_type": "stream",
     "text": [
      "25\n"
     ]
    }
   ],
   "source": [
    "class Student(object):\n",
    "    pass\n",
    "\n",
    "s = Student()\n",
    "s.name = 'Michael' #动态给实例绑定一个属性\n",
    "\n",
    "def set_age(self, age) : \n",
    "    self.age = age\n",
    "\n",
    "\n",
    "from types import MethodType \n",
    "\n",
    "s.set_age = MethodType(set_age, s) # 给实例绑定一个方法\n",
    "s.set_age(25) \n",
    "print(s.age)"
   ]
  },
  {
   "cell_type": "code",
   "execution_count": 19,
   "metadata": {
    "collapsed": false
   },
   "outputs": [
    {
     "name": "stdout",
     "output_type": "stream",
     "text": [
      "25\n"
     ]
    },
    {
     "ename": "TypeError",
     "evalue": "set_age() missing 1 required positional argument: 'age'",
     "output_type": "error",
     "traceback": [
      "\u001b[0;31m---------------------------------------------------------------------------\u001b[0m",
      "\u001b[0;31mTypeError\u001b[0m                                 Traceback (most recent call last)",
      "\u001b[0;32m<ipython-input-19-e93c426775f0>\u001b[0m in \u001b[0;36m<module>\u001b[0;34m()\u001b[0m\n\u001b[1;32m      9\u001b[0m \u001b[0mprint\u001b[0m\u001b[1;33m(\u001b[0m\u001b[0ms1\u001b[0m\u001b[1;33m.\u001b[0m\u001b[0mage\u001b[0m\u001b[1;33m)\u001b[0m\u001b[1;33m\u001b[0m\u001b[0m\n\u001b[1;32m     10\u001b[0m \u001b[1;33m\u001b[0m\u001b[0m\n\u001b[0;32m---> 11\u001b[0;31m \u001b[0ms1\u001b[0m\u001b[1;33m.\u001b[0m\u001b[0mset_age\u001b[0m\u001b[1;33m(\u001b[0m\u001b[1;36m18\u001b[0m\u001b[1;33m)\u001b[0m\u001b[1;33m\u001b[0m\u001b[0m\n\u001b[0m",
      "\u001b[0;31mTypeError\u001b[0m: set_age() missing 1 required positional argument: 'age'"
     ]
    }
   ],
   "source": [
    "s1 = Student()\n",
    "s2 = Student()\n",
    "\n",
    "def set_age(self, age) : \n",
    "    self.age = age\n",
    "\n",
    "s1.set_age = set_age # 给实例绑定一个方法\n",
    "s1.set_age(s1,25) \n",
    "print(s1.age)\n",
    "\n",
    "s1.set_age(18)\n",
    "\n",
    "#提示还缺少一个age参数，说明输入的25被当成self参数。\n",
    "#因此，在给类(Class)进行绑定时才能直接用Student.set_age=set_age的方式，而给实例进行绑定则要使用s.set_age = MethodType(set_age, s)的方式。\n",
    "#或者用s1.set_age(s1,25) "
   ]
  },
  {
   "cell_type": "markdown",
   "metadata": {},
   "source": [
    "给一个实例绑定的方法，对另一个实例是不起作用的。\n",
    "\n",
    "为了给所有实例都绑定方法，可以给class绑定方法。"
   ]
  },
  {
   "cell_type": "code",
   "execution_count": 6,
   "metadata": {
    "collapsed": false
   },
   "outputs": [
    {
     "name": "stdout",
     "output_type": "stream",
     "text": [
      "100 99\n",
      "99 99\n"
     ]
    }
   ],
   "source": [
    "def set_score(self, score):\n",
    "    self.score = score\n",
    "    \n",
    "Student.set_score = set_score  # 将这个方法直接写到Stu类内部\n",
    "s1 = Student()\n",
    "s2 = Student()  \n",
    "\n",
    "s1.set_score(100)\n",
    "s2.set_score(99)\n",
    "print(s1.score,s2.score)\n",
    "\n",
    "\n",
    "Student.set_score = MethodType(set_score, Student)  # 直接用类来创建一个方法，此时用链接的方式在类外的内存中创建\n",
    "\n",
    "# 此时在创建实例的时候外部方法 set_age 也会复制，这些实例和Student类都指向同一个set_age方法\n",
    "s1 = Student()\n",
    "s2 = Student()  \n",
    "\n",
    "s1.set_score(100)\n",
    "s2.set_score(99) # 覆盖了\n",
    "print(s1.score,s2.score)"
   ]
  },
  {
   "cell_type": "markdown",
   "metadata": {},
   "source": [
    "\\__slots__变量，限制class实例能添加的属性。\n",
    "\n",
    "\\__slots__仅对当前类实例起作用，对继承的子类是不起作用的。\n",
    "\n",
    "除非在子类中也定义\\__slots\\__，这样，子类实例允许定义的属性就是自身的\\__slots\\__加上父类的\\__slots\\__。"
   ]
  },
  {
   "cell_type": "code",
   "execution_count": 7,
   "metadata": {
    "collapsed": false
   },
   "outputs": [
    {
     "name": "stdout",
     "output_type": "stream",
     "text": [
      "25\n"
     ]
    },
    {
     "ename": "AttributeError",
     "evalue": "'Student' object has no attribute 'score'",
     "output_type": "error",
     "traceback": [
      "\u001b[0;31m---------------------------------------------------------------------------\u001b[0m",
      "\u001b[0;31mAttributeError\u001b[0m                            Traceback (most recent call last)",
      "\u001b[0;32m<ipython-input-7-c6a2c0741ab4>\u001b[0m in \u001b[0;36m<module>\u001b[0;34m()\u001b[0m\n\u001b[1;32m      5\u001b[0m \u001b[0ms\u001b[0m\u001b[1;33m.\u001b[0m\u001b[0mage\u001b[0m \u001b[1;33m=\u001b[0m \u001b[1;36m25\u001b[0m\u001b[1;33m\u001b[0m\u001b[0m\n\u001b[1;32m      6\u001b[0m \u001b[0mprint\u001b[0m\u001b[1;33m(\u001b[0m\u001b[0ms\u001b[0m\u001b[1;33m.\u001b[0m\u001b[0mage\u001b[0m\u001b[1;33m)\u001b[0m\u001b[1;33m\u001b[0m\u001b[0m\n\u001b[0;32m----> 7\u001b[0;31m \u001b[0ms\u001b[0m\u001b[1;33m.\u001b[0m\u001b[0mscore\u001b[0m \u001b[1;33m=\u001b[0m \u001b[1;36m99\u001b[0m\u001b[1;33m\u001b[0m\u001b[0m\n\u001b[0m",
      "\u001b[0;31mAttributeError\u001b[0m: 'Student' object has no attribute 'score'"
     ]
    }
   ],
   "source": [
    "class Student(object):\n",
    "    __slots__ = ('name', 'age')\n",
    "\n",
    "s = Student()\n",
    "s.age = 25\n",
    "print(s.age)\n",
    "s.score = 99 # AttributeError"
   ]
  },
  {
   "cell_type": "code",
   "execution_count": 8,
   "metadata": {
    "collapsed": false
   },
   "outputs": [
    {
     "name": "stdout",
     "output_type": "stream",
     "text": [
      "100\n"
     ]
    }
   ],
   "source": [
    "class GranduateStudent(Student):\n",
    "    pass \n",
    "\n",
    "g = GranduateStudent()\n",
    "g.score = 100 \n",
    "print(g.score)"
   ]
  },
  {
   "cell_type": "code",
   "execution_count": 13,
   "metadata": {
    "collapsed": false
   },
   "outputs": [
    {
     "name": "stdout",
     "output_type": "stream",
     "text": [
      "18\n"
     ]
    }
   ],
   "source": [
    "class GranduateStudent(Student):\n",
    "    __slots__ = ('name', 'gender')\n",
    "    pass \n",
    "\n",
    "g = GranduateStudent()\n",
    "g.age = 18 \n",
    "print(g.age)"
   ]
  },
  {
   "cell_type": "code",
   "execution_count": null,
   "metadata": {
    "collapsed": true
   },
   "outputs": [],
   "source": []
  }
 ],
 "metadata": {
  "anaconda-cloud": {},
  "kernelspec": {
   "display_name": "Python [default]",
   "language": "python",
   "name": "python3"
  },
  "language_info": {
   "codemirror_mode": {
    "name": "ipython",
    "version": 3
   },
   "file_extension": ".py",
   "mimetype": "text/x-python",
   "name": "python",
   "nbconvert_exporter": "python",
   "pygments_lexer": "ipython3",
   "version": "3.5.2"
  }
 },
 "nbformat": 4,
 "nbformat_minor": 1
}
