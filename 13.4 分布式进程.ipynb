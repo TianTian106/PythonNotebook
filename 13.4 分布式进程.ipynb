{
 "cells": [
  {
   "cell_type": "markdown",
   "metadata": {},
   "source": [
    "在Thread和Process中，应当优选Process，因为Process更稳定，而且，Process可以分布到多台机器上，而Thread最多只能分布到同一台机器的多个CPU上。\n",
    "\n",
    "Python的multiprocessing模块不但支持多进程，其中managers子模块还支持把多进程分布到多台机器上。一个服务进程可以作为调度者，将任务分布到其他多个进程中，依靠网络通信。由于managers模块封装很好，不必了解网络通信的细节，就可以很容易地编写分布式多进程程序。"
   ]
  },
  {
   "cell_type": "markdown",
   "metadata": {},
   "source": [
    "例子：如果我们已经有一个通过Queue通信的多进程程序在同一台机器上运行，现在，由于处理任务的进程任务繁重，希望把发送任务的进程和处理任务的进程分布到两台机器上。怎么用分布式进程实现？\n",
    "\n",
    "原有的Queue可以继续使用，但是，通过managers模块把Queue通过网络暴露出去，就可以让其他机器的进程访问Queue了。"
   ]
  },
  {
   "cell_type": "code",
   "execution_count": null,
   "metadata": {},
   "outputs": [],
   "source": [
    "# 服务进程负责启动Queue，把Queue注册到网络上，然后往Queue里面写入任务：\n",
    "# task_master.py\n",
    "\n",
    "import random, time, queue\n",
    "from multiprocessing.managers import BaseManager\n",
    "\n",
    "# 发送任务的队列:\n",
    "task_queue = queue.Queue()\n",
    "# 接收结果的队列:\n",
    "result_queue = queue.Queue()\n",
    "\n",
    "# 从BaseManager继承的QueueManager:\n",
    "class QueueManager(BaseManager):\n",
    "    pass\n",
    "\n",
    "# 把两个Queue都注册到网络上, callable参数关联了Queue对象:\n",
    "QueueManager.register('get_task_queue', callable=lambda: task_queue)\n",
    "QueueManager.register('get_result_queue', callable=lambda: result_queue)\n",
    "# 绑定端口5000, 设置验证码'abc':\n",
    "manager = QueueManager(address=('', 5000), authkey=b'abc')\n",
    "# 启动Queue:\n",
    "manager.start()\n",
    "# 获得通过网络访问的Queue对象:\n",
    "task = manager.get_task_queue()\n",
    "result = manager.get_result_queue()\n",
    "# 放几个任务进去:\n",
    "for i in range(10):\n",
    "    n = random.randint(0, 10000)\n",
    "    print('Put task %d...' % n)\n",
    "    task.put(n)\n",
    "# 从result队列读取结果:\n",
    "print('Try get results...')\n",
    "for i in range(10):\n",
    "    r = result.get(timeout=10)\n",
    "    print('Result: %s' % r)\n",
    "# 关闭:\n",
    "manager.shutdown()\n",
    "print('master exit.')"
   ]
  },
  {
   "cell_type": "markdown",
   "metadata": {},
   "source": [
    "注意，当我们在一台机器上写多进程程序时，创建的Queue可以直接拿来用，但是，在分布式多进程环境下，添加任务到Queue不可以直接对原始的task_queue进行操作，那样就绕过了QueueManager的封装，必须通过manager.get_task_queue()获得的Queue接口添加。"
   ]
  },
  {
   "cell_type": "code",
   "execution_count": null,
   "metadata": {},
   "outputs": [],
   "source": [
    "# 在另一台机器上启动任务进程（本机上启动也可以）：\n",
    "# task_worker.py\n",
    "\n",
    "import time, sys, queue\n",
    "from multiprocessing.managers import BaseManager\n",
    "\n",
    "# 创建类似的QueueManager:\n",
    "class QueueManager(BaseManager):\n",
    "    pass\n",
    "\n",
    "# 由于这个QueueManager只从网络上获取Queue，所以注册时只提供名字:\n",
    "QueueManager.register('get_task_queue')\n",
    "QueueManager.register('get_result_queue')\n",
    "\n",
    "# 连接到服务器，也就是运行task_master.py的机器:\n",
    "server_addr = '127.0.0.1'\n",
    "print('Connect to server %s...' % server_addr)\n",
    "# 端口和验证码注意保持与task_master.py设置的完全一致:\n",
    "m = QueueManager(address=(server_addr, 5000), authkey=b'abc')\n",
    "# 从网络连接:\n",
    "m.connect()\n",
    "# 获取Queue的对象:\n",
    "task = m.get_task_queue()\n",
    "result = m.get_result_queue()\n",
    "# 从task队列取任务,并把结果写入result队列:\n",
    "for i in range(10):\n",
    "    try:\n",
    "        n = task.get(timeout=1)\n",
    "        print('run task %d * %d...' % (n, n))\n",
    "        r = '%d * %d = %d' % (n, n, n*n)\n",
    "        time.sleep(1)\n",
    "        result.put(r)\n",
    "    except Queue.Empty:\n",
    "        print('task queue is empty.')\n",
    "# 处理结束:\n",
    "print('worker exit.')"
   ]
  },
  {
   "cell_type": "markdown",
   "metadata": {},
   "source": [
    "任务进程要通过网络连接到服务进程，所以要指定服务进程的IP。"
   ]
  },
  {
   "cell_type": "markdown",
   "metadata": {},
   "source": [
    "这个简单的Master/Worker模型有什么用？其实这就是一个简单但真正的分布式计算，把代码稍加改造，启动多个worker，就可以把任务分布到几台甚至几十台机器上，比如把计算n*n的代码换成发送邮件，就实现了邮件队列的异步发送。\n",
    "\n",
    "Queue对象存储在哪？注意到task_worker.py中根本没有创建Queue的代码，所以，Queue对象存储在task_master.py进程中：\n"
   ]
  },
  {
   "cell_type": "raw",
   "metadata": {},
   "source": [
    "\n",
    "                                             │\n",
    "┌─────────────────────────────────────────┐     ┌──────────────────────────────────────┐\n",
    "│task_master.py                           │  │  │task_worker.py                        │\n",
    "│                                         │     │                                      │\n",
    "│  task = manager.get_task_queue()        │  │  │  task = manager.get_task_queue()     │\n",
    "│  result = manager.get_result_queue()    │     │  result = manager.get_result_queue() │\n",
    "│              │                          │  │  │              │                       │\n",
    "│              │                          │     │              │                       │\n",
    "│              ▼                          │  │  │              │                       │\n",
    "│  ┌─────────────────────────────────┐    │     │              │                       │\n",
    "│  │QueueManager                     │    │  │  │              │                       │\n",
    "│  │ ┌────────────┐ ┌──────────────┐ │    │     │              │                       │\n",
    "│  │ │ task_queue │ │ result_queue │ │<───┼──┼──┼──────────────┘                       │\n",
    "│  │ └────────────┘ └──────────────┘ │    │     │                                      │\n",
    "│  └─────────────────────────────────┘    │  │  │                                      │\n",
    "└─────────────────────────────────────────┘     └──────────────────────────────────────┘\n",
    "                                             │\n",
    "\n",
    "                                          Network"
   ]
  },
  {
   "cell_type": "markdown",
   "metadata": {},
   "source": [
    "而Queue之所以能通过网络访问，就是通过QueueManager实现的。由于QueueManager管理的不止一个Queue，所以，要给每个Queue的网络调用接口起个名字，比如get_task_queue。\n",
    "\n",
    "authkey有什么用？这是为了保证两台机器正常通信，不被其他机器恶意干扰。如果task_worker.py的authkey和task_master.py的authkey不一致，肯定连接不上。"
   ]
  },
  {
   "cell_type": "markdown",
   "metadata": {},
   "source": [
    "小结\n",
    "----------\n",
    "Python的分布式进程接口简单，封装良好，适合需要把繁重任务分布到多台机器的环境下。\n",
    "\n",
    "注意Queue的作用是用来传递任务和接收结果，每个任务的描述数据量要尽量小。比如发送一个处理日志文件的任务，就不要发送几百兆的日志文件本身，而是发送日志文件存放的完整路径，由Worker进程再去共享的磁盘上读取文件。"
   ]
  }
 ],
 "metadata": {
  "kernelspec": {
   "display_name": "Python 3",
   "language": "python",
   "name": "python3"
  },
  "language_info": {
   "codemirror_mode": {
    "name": "ipython",
    "version": 3
   },
   "file_extension": ".py",
   "mimetype": "text/x-python",
   "name": "python",
   "nbconvert_exporter": "python",
   "pygments_lexer": "ipython3",
   "version": "3.6.4"
  }
 },
 "nbformat": 4,
 "nbformat_minor": 2
}
