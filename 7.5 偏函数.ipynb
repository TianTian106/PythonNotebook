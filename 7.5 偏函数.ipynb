{
 "cells": [
  {
   "cell_type": "code",
   "execution_count": 4,
   "metadata": {
    "collapsed": false
   },
   "outputs": [
    {
     "name": "stdout",
     "output_type": "stream",
     "text": [
      "85\n",
      "100000\n"
     ]
    }
   ],
   "source": [
    "\"偏函数（Partial function）\"\n",
    "\n",
    "def int2(x, base=2):\n",
    "    return int(x, base)\n",
    "\n",
    "#functools.partial的作用就是，把一个函数的某些参数给固定住（也就是设置默认值），返回一个新的函数，调用这个新函数会更简单。\n",
    "import functools\n",
    "int2 = functools.partial(int,base=2)\n",
    "print(int2('1010101'))\n",
    "\n",
    "#上面的新的int2函数，仅仅是把base参数重新设定默认值为2，但也可以在函数调用时传入其他值：\n",
    "print(int2('100000',base=10))"
   ]
  },
  {
   "cell_type": "code",
   "execution_count": 6,
   "metadata": {
    "collapsed": false
   },
   "outputs": [
    {
     "name": "stdout",
     "output_type": "stream",
     "text": [
      "18\n",
      "18\n",
      "10\n",
      "10\n"
     ]
    }
   ],
   "source": [
    "#创建偏函数时，实际上可以接收函数对象、*args和**kw这3个参数。\n",
    "\n",
    "int2 = functools.partial(int, base=2)\n",
    "#实际上固定了int()函数的关键字参数base\n",
    "print(int2('10010'))\n",
    "#相当于\n",
    "kw = { 'base': 2 }\n",
    "print(int('10010', **kw))\n",
    "\n",
    "\n",
    "max2 = functools.partial(max, 10)\n",
    "#实际上会把10作为*args的一部分自动加到左边\n",
    "print(max2(5,6,7))\n",
    "#相当于：\n",
    "args = (10, 5, 6, 7)\n",
    "print(max(*args))"
   ]
  },
  {
   "cell_type": "code",
   "execution_count": null,
   "metadata": {
    "collapsed": true
   },
   "outputs": [],
   "source": []
  }
 ],
 "metadata": {
  "kernelspec": {
   "display_name": "Python [default]",
   "language": "python",
   "name": "python3"
  },
  "language_info": {
   "codemirror_mode": {
    "name": "ipython",
    "version": 3
   },
   "file_extension": ".py",
   "mimetype": "text/x-python",
   "name": "python",
   "nbconvert_exporter": "python",
   "pygments_lexer": "ipython3",
   "version": "3.5.2"
  }
 },
 "nbformat": 4,
 "nbformat_minor": 1
}
