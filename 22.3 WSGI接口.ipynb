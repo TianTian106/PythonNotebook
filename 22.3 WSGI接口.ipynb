{
 "cells": [
  {
   "cell_type": "markdown",
   "metadata": {},
   "source": [
    "WSGI接口\n",
    "---\n",
    "Web应用的本质：\n",
    "1. 浏览器发送一个HTTP请求；\n",
    "2. 服务器收到请求，生成一个HTML文档；\n",
    "3. 服务器把HTML文档作为HTTP响应的Body发送给浏览器；\n",
    "4. 浏览器收到HTTP响应，从HTTP Body取出HTML文档并显示。\n",
    "\n",
    "所以，最简单的Web应用就是先把HTML用文件保存好，用一个现成的HTTP服务器软件，接收用户请求，从文件中读取HTML，返回。**Apache、Nginx、Lighttpd**等这些常见的**静态服务器**就是干这件事情的。\n",
    "\n",
    "如果要动态生成HTML，就需要把上述步骤自己来实现。不过，接受HTTP请求、解析HTTP请求、发送HTTP响应都是苦力活，如果我们自己来写这些底层代码，还没开始写动态HTML呢，就得花个把月去读HTTP规范。\n",
    "\n",
    "正确的做法是底层代码由专门的服务器软件实现，我们用Python专注于生成HTML文档。因为我们不希望接触到TCP连接、HTTP原始请求和响应格式，所以，需要一个统一的接口，让我们专心用Python编写Web业务。\n",
    "\n",
    "这个接口就是**WSGI：Web Server Gateway Interface。**\n",
    "\n",
    "WSGI接口定义非常简单，它只要求Web开发者实现一个函数，就可以响应HTTP请求。我们来看一个最简单的Web版本的“Hello, web!”："
   ]
  },
  {
   "cell_type": "code",
   "execution_count": null,
   "metadata": {},
   "outputs": [],
   "source": [
    "def application(environ, start_response):\n",
    "    start_response('200 OK', [('Content-Type', 'text/html')])\n",
    "    return [b'<h1>Hello, web!</h1>']"
   ]
  },
  {
   "cell_type": "markdown",
   "metadata": {},
   "source": [
    "上面的application()函数就是符合WSGI标准的一个HTTP处理函数，它接收两个参数：\n",
    "1. **environ**：一个包含所有HTTP请求信息的dict对象；\n",
    "2. **start_response**：一个发送HTTP响应的函数。\n",
    "\n",
    "在application()函数中，调用：  \n",
    "start_response('200 OK', [('Content-Type', 'text/html')])  \n",
    "就发送了HTTP响应的Header，注意**Header只能发送一次**，也就是**只能调用一次start_response()函数**。start_response()函数接收两个参数，一个是HTTP响应码，一个是一组list表示的HTTP Header，每个Header用一个包含两个str的tuple表示。\n",
    "\n",
    "通常情况下，都应该把Content-Type头发送给浏览器。其他很多常用的HTTP Header也应该发送。\n",
    "\n",
    "然后，**函数的返回值**将作为HTTP响应的**Body**发送给浏览器。\n",
    "\n",
    "有了WSGI，我们关心的就是如何从environ这个dict对象拿到HTTP请求信息，然后构造HTML，通过start_response()发送Header，最后返回Body。\n",
    "\n",
    "整个application()函数本身没有涉及到任何解析HTTP的部分，也就是说，底层代码不需要我们自己编写，我们只负责在更高层次上考虑如何响应请求就可以了。\n",
    "\n",
    "不过，等等，这个application()函数怎么调用？如果我们自己调用，两个参数environ和start_response我们没法提供，返回的bytes也没法发给浏览器。\n",
    "\n",
    "所以application()函数必须由**WSGI服务器**来调用。有很多符合WSGI规范的服务器，我们可以挑选一个来用。但是现在，我们只想尽快测试一下我们编写的application()函数真的可以把HTML输出到浏览器，所以，要赶紧找一个最简单的WSGI服务器，把我们的Web应用程序跑起来。\n",
    "\n",
    "好消息是Python内置了一个WSGI服务器，这个模块叫**wsgiref**，它是用纯Python编写的WSGI服务器的参考实现。所谓“参考实现”是指该实现完全符合WSGI标准，但是不考虑任何运行效率，仅供开发和测试使用。\n"
   ]
  },
  {
   "cell_type": "markdown",
   "metadata": {},
   "source": [
    "运行WSGI服务\n",
    "---\n",
    "1. 先编写hello.py，实现Web应用程序的WSGI处理函数application()。\n",
    "\n",
    "2. 再编写一个server.py，负责启动WSGI服务器，加载application()函数。\n",
    "\n",
    "3. 确保以上两个文件在同一个目录下，然后在命令行输入python server.py来启动WSGI服务器。\n",
    "\n",
    "注意：如果8000端口已被其他程序占用，启动将失败，请修改成其他端口。\n",
    "\n",
    "启动成功后，打开浏览器，输入 http://localhost:8000/， 就可以看到结果了。\n",
    "\n",
    "在命令行可以看到wsgiref打印的log信息。\n",
    "\n",
    "按Ctrl+C终止服务器。\n",
    "\n",
    "稍微改造一下，从environ里读取PATH_INFO，这样可以显示更加动态的内容：输入 http://localhost:8000/tiantian，  将返回hello, tiantian!"
   ]
  },
  {
   "cell_type": "code",
   "execution_count": null,
   "metadata": {},
   "outputs": [],
   "source": [
    "# hello.py\n",
    "\n",
    "def application(environ, start_response):\n",
    "    start_response('200 OK', [('Content-Type', 'text/html')])\n",
    "    return [b'<h1>Hello, web!</h1>']\n"
   ]
  },
  {
   "cell_type": "code",
   "execution_count": null,
   "metadata": {},
   "outputs": [],
   "source": [
    "# hello.py\n",
    "\n",
    "def application(environ, start_response):\n",
    "    start_response('200 OK', [('Content-Type', 'text/html')])\n",
    "    body = '<h1>Hello, %s!</h1>' % (environ['PATH_INFO'][1:] or 'web')\n",
    "    return [body.encode('utf-8')]"
   ]
  },
  {
   "cell_type": "code",
   "execution_count": null,
   "metadata": {},
   "outputs": [],
   "source": [
    "# server.py\n",
    "\n",
    "# 从wsgiref模块导入:\n",
    "from wsgiref.simple_server import make_server\n",
    "# 导入我们自己编写的application函数:\n",
    "from hello import application\n",
    "\n",
    "# 创建一个服务器，IP地址为空，端口是8000，处理函数是application:\n",
    "httpd = make_server('', 8000, application)\n",
    "print('Serving HTTP on port 8000...')\n",
    "# 开始监听HTTP请求:\n",
    "httpd.serve_forever()"
   ]
  },
  {
   "cell_type": "markdown",
   "metadata": {},
   "source": [
    "小结\n",
    "---\n",
    "无论多么复杂的Web应用程序，入口都是一个WSGI处理函数。HTTP请求的所有输入信息都可以通过environ获得，HTTP响应的输出都可以通过start_response()加上函数返回值作为Body。\n",
    "\n",
    "复杂的Web应用程序，光靠一个WSGI函数来处理还是太底层了，我们需要在WSGI之上再抽象出**Web框架**，进一步简化Web开发。"
   ]
  }
 ],
 "metadata": {
  "kernelspec": {
   "display_name": "Python 3",
   "language": "python",
   "name": "python3"
  },
  "language_info": {
   "codemirror_mode": {
    "name": "ipython",
    "version": 3
   },
   "file_extension": ".py",
   "mimetype": "text/x-python",
   "name": "python",
   "nbconvert_exporter": "python",
   "pygments_lexer": "ipython3",
   "version": "3.6.4"
  }
 },
 "nbformat": 4,
 "nbformat_minor": 2
}
