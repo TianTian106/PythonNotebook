{
 "cells": [
  {
   "cell_type": "markdown",
   "metadata": {},
   "source": [
    "**Socket**是网络编程的一个抽象概念。通常我们用一个Socket表示“打开了一个**网络链接**”，而打开一个Socket需要知道目标计算机的**IP地址**和**端口号**，再指定**协议类型**即可。\n"
   ]
  },
  {
   "cell_type": "markdown",
   "metadata": {},
   "source": [
    "客户端\n",
    "---\n",
    "大多数连接都是**可靠的TCP连接**。创建TCP连接时，主动发起连接的叫**客户端**，被动响应连接的叫**服务器**。\n",
    "\n",
    "举个例子，当我们在浏览器中访问新浪时，我们自己的计算机就是客户端，浏览器会主动向新浪的服务器发起连接。如果一切顺利，新浪的服务器接受了我们的连接，一个TCP连接就建立起来的，后面的通信就是发送网页内容了。"
   ]
  },
  {
   "cell_type": "code",
   "execution_count": 1,
   "metadata": {},
   "outputs": [],
   "source": [
    "'''创建一个基于TCP连接的Socket'''\n",
    "# 导入socket库:\n",
    "import socket\n",
    "\n",
    "# 创建一个socket:\n",
    "s = socket.socket(socket.AF_INET, socket.SOCK_STREAM)\n",
    "\n",
    "# 建立连接: 注意参数是一个tuple，包含地址和端口号。\n",
    "s.connect(('www.sina.com.cn', 80))"
   ]
  },
  {
   "cell_type": "markdown",
   "metadata": {},
   "source": [
    "创建一个Socket对象参数(还没有建立连接)：\n",
    "1. AF_INET：IPv4协议\n",
    "2. AF_INET6：IPv6协议\n",
    "3. SOCK_STREAM：指定使用面向流的TCP协议，\n",
    "\n",
    "客户端要主动发起TCP连接，必须知道服务器的IP地址和端口号。新浪网站的IP地址可以用域名 www.sina.com.cn 自动转换到IP地址，但是怎么知道新浪服务器的端口号呢？\n",
    "\n",
    "答案是作为服务器，提供什么样的服务，端口号就必须固定下来。由于我们想要访问网页，因此新浪提供网页服务的服务器必须把端口号固定在80端口，因为**80端口**是**Web服务**的标准端口。其他服务都有对应的标准端口号，例如**SMTP服务**是**25端口**，**FTP服务**是**21端口**，等等。端口号小于1024的是Internet标准服务的端口，端口号大于1024的，可以任意使用。\n",
    "\n",
    "建立TCP连接后，就可以向新浪服务器发送请求，要求返回首页的内容："
   ]
  },
  {
   "cell_type": "code",
   "execution_count": 2,
   "metadata": {},
   "outputs": [
    {
     "data": {
      "text/plain": [
       "60"
      ]
     },
     "execution_count": 2,
     "metadata": {},
     "output_type": "execute_result"
    }
   ],
   "source": [
    "# 发送数据:\n",
    "s.send(b'GET / HTTP/1.1\\r\\nHost: www.sina.com.cn\\r\\nConnection: close\\r\\n\\r\\n')"
   ]
  },
  {
   "cell_type": "markdown",
   "metadata": {},
   "source": [
    "TCP连接创建的是**双向通道**，双方都可以同时给对方发数据。但是谁先发谁后发，怎么协调，要根据具体的协议来决定。例如，HTTP协议规定客户端必须先发请求给服务器，服务器收到后才发数据给客户端。\n",
    "\n",
    "发送的文本格式必须符合HTTP标准，如果格式没问题，接下来就可以接收新浪服务器返回的数据了。  \n",
    "**接收数据**时，调用**recv(max)**方法，一次最多接收指定的字节数，因此，在一个while循环中反复接收，直到recv()返回空数据，表示接收完毕，退出循环。"
   ]
  },
  {
   "cell_type": "code",
   "execution_count": 3,
   "metadata": {},
   "outputs": [],
   "source": [
    "# 接收数据:\n",
    "buffer = []\n",
    "while True:\n",
    "    # 每次最多接收1k字节:\n",
    "    d = s.recv(1024)\n",
    "    if d:\n",
    "        buffer.append(d)\n",
    "    else:\n",
    "        break\n",
    "data = b''.join(buffer)"
   ]
  },
  {
   "cell_type": "markdown",
   "metadata": {},
   "source": [
    "当我们接收完数据后，调用close()方法关闭Socket，这样，一次完整的网络通信就结束了。"
   ]
  },
  {
   "cell_type": "code",
   "execution_count": 5,
   "metadata": {},
   "outputs": [],
   "source": [
    "s.close()"
   ]
  },
  {
   "cell_type": "markdown",
   "metadata": {},
   "source": [
    "接收到的数据包括HTTP头和网页本身，我们只需要把HTTP头和网页分离一下，把HTTP头打印出来，网页内容保存到文件。"
   ]
  },
  {
   "cell_type": "code",
   "execution_count": null,
   "metadata": {},
   "outputs": [],
   "source": [
    "header, html = data.split(b'\\r\\n\\r\\n', 1)\n",
    "print(header.decode('utf-8'))\n",
    "# 把接收的数据写入文件:\n",
    "with open('sina.html', 'wb') as f:\n",
    "    f.write(html)"
   ]
  },
  {
   "cell_type": "markdown",
   "metadata": {},
   "source": [
    "服务器\n",
    "---\n",
    "服务器进程首先要绑定一个**端口**并**监听**来自其他客户端的连接。如果某个客户端连接过来了，服务器就与该客户端建立Socket连接，随后的通信就靠这个Socket连接了。\n",
    "\n",
    "所以，服务器会打开固定端口（比如80）监听，每来一个客户端连接，就创建该Socket连接。由于服务器会有大量来自客户端的连接，所以，服务器要能够区分一个Socket连接是和哪个客户端绑定的。一个Socket依赖4项来唯一确定一个Socket：\n",
    "1. 服务器地址、\n",
    "2. 服务器端口、\n",
    "3. 客户端地址、\n",
    "4. 客户端端口\n",
    "\n",
    "\n",
    "但是服务器还需要同时响应多个客户端的请求，所以，每个连接都需要一个新的**进程**或者新的**线程**来处理，否则，服务器一次就只能服务一个客户端了。\n",
    "\n",
    "一个简单的服务器程序：接收客户端连接，把客户端发过来的字符串加上Hello再发回去。\n",
    "1. 首先，创建一个基于IPv4和TCP协议的Socket。\n",
    "2. 然后，要绑定监听的地址和端口。服务器可能有多块网卡，可以绑定到某一块网卡的IP地址上，也可以用0.0.0.0绑定到所有的网络地址，还可以用127.0.0.1绑定到本机地址。127.0.0.1是一个特殊的IP地址，表示本机地址，如果绑定到这个地址，客户端必须同时在本机运行才能连接，也就是说，外部的计算机无法连接进来。端口号需要预先指定。因为我们写的这个服务不是标准服务，所以用9999这个端口号。请注意，小于1024的端口号必须要有管理员权限才能绑定。\n",
    "3. 调用listen()方法开始监听端口，传入的参数指定等待连接的最大数量。\n",
    "4. 服务器程序通过一个永久循环来接受来自客户端的连接，accept()会等待并返回一个客户端的连接。每个连接都必须创建新线程（或进程）来处理，否则，单线程在处理连接的过程中，无法接受其他客户端的连接。"
   ]
  },
  {
   "cell_type": "code",
   "execution_count": null,
   "metadata": {},
   "outputs": [],
   "source": [
    "'''服务器程序'''\n",
    "import socket,threading,time\n",
    "\n",
    "# 创建一个socket:\n",
    "s = socket.socket(socket.AF_INET, socket.SOCK_STREAM)\n",
    "\n",
    "# 绑定监听端口:\n",
    "s.bind(('127.0.0.1', 9999))\n",
    "\n",
    "# 开始监听端口\n",
    "s.listen(5)\n",
    "print('Waiting for connection...')\n",
    "\n",
    "\n",
    "    \n",
    "def tcplink(sock, addr):\n",
    "    print('Accept new connection from %s:%s...' % addr)\n",
    "    sock.send(b'Welcome!')\n",
    "    while True:\n",
    "        data = sock.recv(1024)\n",
    "        time.sleep(1)\n",
    "        if not data or data.decode('utf-8') == 'exit':\n",
    "            break\n",
    "        sock.send(('Hello, %s!' % data.decode('utf-8')).encode('utf-8'))\n",
    "    sock.close()\n",
    "    print('Connection from %s:%s closed.' % addr)\n",
    "\n",
    "while True:\n",
    "    # 接受一个新连接:\n",
    "    sock, addr = s.accept()\n",
    "    # 创建新线程来处理TCP连接:\n",
    "    t = threading.Thread(target=tcplink, args=(sock, addr))\n",
    "    t.start()\n"
   ]
  },
  {
   "cell_type": "code",
   "execution_count": null,
   "metadata": {},
   "outputs": [],
   "source": [
    "'''客户端程序'''\n",
    "import socket\n",
    "\n",
    "s = socket.socket(socket.AF_INET, socket.SOCK_STREAM)\n",
    "# 建立连接:\n",
    "s.connect(('127.0.0.1', 9999))\n",
    "# 接收欢迎消息:\n",
    "print(s.recv(1024).decode('utf-8'))\n",
    "for data in [b'Michael', b'Tracy', b'Sarah']:\n",
    "    # 发送数据:\n",
    "    s.send(data)\n",
    "    print(s.recv(1024).decode('utf-8'))\n",
    "s.send(b'exit')\n",
    "s.close()"
   ]
  },
  {
   "cell_type": "markdown",
   "metadata": {},
   "source": [
    "小结\n",
    "---\n",
    "用TCP协议进行Socket编程在Python中十分简单，对于客户端，要主动连接服务器的IP和指定端口，对于服务器，要首先监听指定端口，然后，对每一个新的连接，创建一个线程或进程来处理。通常，服务器程序会无限运行下去。\n",
    "\n",
    "同一个端口，被一个Socket绑定了以后，就不能被别的Socket绑定了。"
   ]
  }
 ],
 "metadata": {
  "kernelspec": {
   "display_name": "Python 3",
   "language": "python",
   "name": "python3"
  },
  "language_info": {
   "codemirror_mode": {
    "name": "ipython",
    "version": 3
   },
   "file_extension": ".py",
   "mimetype": "text/x-python",
   "name": "python",
   "nbconvert_exporter": "python",
   "pygments_lexer": "ipython3",
   "version": "3.6.4"
  }
 },
 "nbformat": 4,
 "nbformat_minor": 2
}
