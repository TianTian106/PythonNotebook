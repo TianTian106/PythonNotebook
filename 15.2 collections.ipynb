{
 "cells": [
  {
   "cell_type": "markdown",
   "metadata": {},
   "source": [
    "namedtuple\n",
    "---\n",
    "tuple可以表示不变集合。\n",
    "\n",
    "namedtuple是一个函数，它用来创建一个自定义的tuple对象，并且规定了tuple元素的个数，并可以用属性而不是索引来引用tuple的某个元素。\n",
    "\n",
    "这样一来，我们用namedtuple可以很方便地定义一种数据类型，它具备tuple的不变性，又可以根据属性来引用。"
   ]
  },
  {
   "cell_type": "code",
   "execution_count": 3,
   "metadata": {},
   "outputs": [
    {
     "name": "stdout",
     "output_type": "stream",
     "text": [
      "1 , 2\n"
     ]
    }
   ],
   "source": [
    "# 例如，一个点的二维坐标就可以表示成：\n",
    "p = (1, 2)\n",
    "# 但是，看到(1, 2)，很难看出这个tuple是用来表示一个坐标的。定义一个class又小题大做了\n",
    "\n",
    "from collections import namedtuple\n",
    "Point = namedtuple('Point',['x','y'])\n",
    "\n",
    "p = Point(1,2)\n",
    "print(p.x, ',', p.y)"
   ]
  },
  {
   "cell_type": "code",
   "execution_count": 4,
   "metadata": {},
   "outputs": [
    {
     "name": "stdout",
     "output_type": "stream",
     "text": [
      "True\n",
      "True\n"
     ]
    }
   ],
   "source": [
    "# 可以验证创建的Point对象是tuple的一种子类：\n",
    "print(isinstance(p, Point))\n",
    "print(isinstance(p, tuple))"
   ]
  },
  {
   "cell_type": "code",
   "execution_count": null,
   "metadata": {},
   "outputs": [],
   "source": [
    "# namedtuple('名称', [属性list]):\n",
    "Circle = namedtuple('Circle', ['x', 'y', 'r'])"
   ]
  },
  {
   "cell_type": "markdown",
   "metadata": {},
   "source": [
    "deque\n",
    "---\n",
    "使用list存储数据时，按索引访问元素很快，但是插入和删除元素就很慢了，因为list是线性存储，数据量大的时候，插入和删除效率很低。\n",
    "\n",
    "deque是为了高效实现插入和删除操作的双向列表，适合用于队列和栈。\n",
    "\n",
    "deque除了实现list的append()和pop()外，还支持appendleft()和popleft()，这样就可以非常高效地往头部添加或删除元素。"
   ]
  },
  {
   "cell_type": "code",
   "execution_count": 1,
   "metadata": {},
   "outputs": [
    {
     "data": {
      "text/plain": [
       "deque(['y', 'a', 'b', 'c', 'x'])"
      ]
     },
     "execution_count": 1,
     "metadata": {},
     "output_type": "execute_result"
    }
   ],
   "source": [
    "from collections import deque\n",
    "\n",
    "q = deque(['a', 'b', 'c'])\n",
    "q.append('x')\n",
    "q.appendleft('y')\n",
    "\n",
    "q"
   ]
  },
  {
   "cell_type": "markdown",
   "metadata": {},
   "source": [
    "defaultdict\n",
    "---\n",
    "使用dict时，如果引用的Key不存在，就会抛出KeyError。如果希望key不存在时，返回一个默认值，就可以用defaultdict。\n",
    "\n",
    "注意默认值是调用函数返回的，而函数在创建defaultdict对象时传入。\n",
    "\n",
    "除了在Key不存在时返回默认值，defaultdict的其他行为跟dict是完全一样的。"
   ]
  },
  {
   "cell_type": "code",
   "execution_count": 2,
   "metadata": {},
   "outputs": [
    {
     "name": "stdout",
     "output_type": "stream",
     "text": [
      "abc\n",
      "N/A\n"
     ]
    }
   ],
   "source": [
    "from collections import defaultdict\n",
    "\n",
    "dd = defaultdict(lambda : 'N/A')\n",
    "dd['key1'] = 'abc'\n",
    "print(dd['key1'])\n",
    "print(dd['key2'])"
   ]
  },
  {
   "cell_type": "markdown",
   "metadata": {},
   "source": [
    "OrderedDict\n",
    "---\n",
    "使用dict时，Key是无序的。在对dict做迭代时，我们无法确定Key的顺序。\n",
    "\n",
    "如果要保持Key的顺序，可以用OrderedDict。\n",
    "\n",
    "注意，OrderedDict的Key会按照插入的顺序排列，不是Key本身排序。"
   ]
  },
  {
   "cell_type": "code",
   "execution_count": 6,
   "metadata": {},
   "outputs": [
    {
     "name": "stdout",
     "output_type": "stream",
     "text": [
      "{'a': 1, 'b': 2, 'c': 3}\n",
      "OrderedDict([('a', 1), ('b', 2), ('c', 3)])\n"
     ]
    }
   ],
   "source": [
    "from collections import OrderedDict\n",
    "d = dict([('a',1),('b',2),('c',3)])\n",
    "print(d)\n",
    "\n",
    "od = OrderedDict([('a',1),('b',2),('c',3)])\n",
    "print(od)"
   ]
  },
  {
   "cell_type": "code",
   "execution_count": 7,
   "metadata": {},
   "outputs": [
    {
     "data": {
      "text/plain": [
       "['z', 'y', 'x']"
      ]
     },
     "execution_count": 7,
     "metadata": {},
     "output_type": "execute_result"
    }
   ],
   "source": [
    "od = OrderedDict()\n",
    "od['z'] = 1\n",
    "od['y'] = 2\n",
    "od['x'] = 3\n",
    "list(od.keys())"
   ]
  },
  {
   "cell_type": "code",
   "execution_count": 5,
   "metadata": {},
   "outputs": [
    {
     "name": "stdout",
     "output_type": "stream",
     "text": [
      "add: ('z', 1)\n",
      "set: ('z', 8)\n",
      "add: ('y', 2)\n",
      "LastUpdatedOrderedDict([('z', 8), ('y', 2)])\n",
      "remove: ('z', 8)\n",
      "add: ('x', 3)\n",
      "LastUpdatedOrderedDict([('y', 2), ('x', 3)])\n"
     ]
    }
   ],
   "source": [
    "# OrderedDict可以实现一个FIFO（先进先出）的dict，当容量超出限制时，先删除最早添加的Key：\n",
    "from collections import OrderedDict\n",
    "\n",
    "class LastUpdatedOrderedDict(OrderedDict):\n",
    "\n",
    "    def __init__(self, capacity):\n",
    "        super(LastUpdatedOrderedDict, self).__init__()\n",
    "        self._capacity = capacity\n",
    "\n",
    "    def __setitem__(self, key, value):\n",
    "        containsKey = 1 if key in self else 0\n",
    "        if len(self) - containsKey >= self._capacity:\n",
    "            last = self.popitem(last=False)\n",
    "            print('remove:', last)\n",
    "        if containsKey:\n",
    "            del self[key]\n",
    "            print('set:', (key, value))\n",
    "        else:\n",
    "            print('add:', (key, value))\n",
    "        OrderedDict.__setitem__(self, key, value)\n",
    "        \n",
    "luod = LastUpdatedOrderedDict(2)\n",
    "luod['z'] = 1\n",
    "luod['z'] = 8\n",
    "luod['y'] = 2\n",
    "print(luod)\n",
    "luod['x'] = 3\n",
    "print(luod)"
   ]
  },
  {
   "cell_type": "markdown",
   "metadata": {},
   "source": [
    "Counter\n",
    "---\n",
    "简单的计数器。\n",
    "Counter实际上也是dict的一个子类，下面的结果可以看出，字符'g'、'm'、'r'各出现了两次，其他字符各出现了一次。"
   ]
  },
  {
   "cell_type": "code",
   "execution_count": 1,
   "metadata": {},
   "outputs": [
    {
     "name": "stdout",
     "output_type": "stream",
     "text": [
      "Counter({'r': 2, 'g': 2, 'm': 2, 'p': 1, 'o': 1, 'a': 1, 'i': 1, 'n': 1})\n",
      "Counter({'r': 2, 'g': 2, 'm': 2, 'p': 1, 'o': 1, 'a': 1, 'i': 1, 'n': 1})\n",
      "{'p': 1, 'r': 2, 'o': 1, 'g': 2, 'a': 1, 'm': 2, 'i': 1, 'n': 1}\n"
     ]
    }
   ],
   "source": [
    "from collections import Counter\n",
    "c = Counter()\n",
    "for ch in 'programming':\n",
    "    c[ch] = c[ch] + 1\n",
    "print(c)\n",
    "\n",
    "\n",
    "print(Counter('programming'))\n",
    "\n",
    "print(dict(Counter('programming')))"
   ]
  }
 ],
 "metadata": {
  "kernelspec": {
   "display_name": "Python 3",
   "language": "python",
   "name": "python3"
  },
  "language_info": {
   "codemirror_mode": {
    "name": "ipython",
    "version": 3
   },
   "file_extension": ".py",
   "mimetype": "text/x-python",
   "name": "python",
   "nbconvert_exporter": "python",
   "pygments_lexer": "ipython3",
   "version": "3.6.4"
  }
 },
 "nbformat": 4,
 "nbformat_minor": 2
}
