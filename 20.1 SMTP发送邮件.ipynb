{
 "cells": [
  {
   "cell_type": "markdown",
   "metadata": {},
   "source": [
    "SMTP发送邮件\n",
    "---\n",
    "SMTP是发送邮件的协议，Python内置对SMTP的支持，可以发送纯文本邮件、HTML邮件以及带附件的邮件。\n",
    "\n",
    "Python对SMTP支持有smtplib和email两个模块，**email**负责**构造邮件**，**smtplib**负责**发送邮件**。"
   ]
  },
  {
   "cell_type": "code",
   "execution_count": null,
   "metadata": {},
   "outputs": [],
   "source": [
    "# 163->qq测试成功，根据内容注意查看垃圾邮件。\n",
    "'''构造纯文本邮件'''\n",
    "from email.mime.text import MIMEText\n",
    "msg = MIMEText('hello, send by Python...', 'plain', 'utf-8')\n",
    "\n",
    "'''通过SMTP发出去'''\n",
    "# 输入Email地址和口令（客户端授权密码）:\n",
    "from_addr = input('From: ')\n",
    "password = input('Password: ')\n",
    "# 输入收件人地址:\n",
    "to_addr = input('To: ')\n",
    "# 输入发件邮箱SMTP服务器地址:  smtp.163.com、smtp.qq.com\n",
    "smtp_server = input('SMTP server: ')\n",
    "\n",
    "# 防止错误smtplib.SMTPDataError: (554,...： 信封发件人和信头发件人不匹配导致\n",
    "msg['From'] = from_addr + ' <' + from_addr + '>'\n",
    "\n",
    "import smtplib\n",
    "server = smtplib.SMTP(smtp_server, 25) # SMTP协议默认端口是25\n",
    "server.set_debuglevel(1)\n",
    "server.login(from_addr, password)\n",
    "server.sendmail(from_addr, [to_addr], msg.as_string())\n",
    "server.quit()"
   ]
  },
  {
   "cell_type": "markdown",
   "metadata": {},
   "source": [
    "**MIMEText**第一个参数就是**邮件正文**，第二个参数是MIME的subtype，传入**'plain'表示纯文本**，最终的MIME就是**'text/plain'**，最后一定要用**utf-8编码**保证**多语言兼容性**。\n",
    "\n",
    "我们用**set_debuglevel(1)**就可以打印出和SMTP服务器**交互的所有信息**。SMTP协议就是简单的文本命令和响应。login()方法用来登录SMTP服务器，sendmail()方法就是发邮件，由于可以一次发给**多个人**，所以传入一个**list**，邮件正文是一个str，as_string()把MIMEText对象变成str。"
   ]
  },
  {
   "cell_type": "markdown",
   "metadata": {},
   "source": [
    "邮件主题、如何显示发件人、收件人等信息并不是通过SMTP协议发给MTA，而是包含在发给MTA的文本中的，所以，必须把**From**、**To**和**Subject**添加到**MIMEText**中，才是一封完整的邮件。"
   ]
  },
  {
   "cell_type": "code",
   "execution_count": null,
   "metadata": {},
   "outputs": [],
   "source": [
    "# 163->qq测试成功\n",
    "from email import encoders\n",
    "from email.header import Header\n",
    "from email.mime.text import MIMEText\n",
    "from email.utils import parseaddr, formataddr\n",
    "\n",
    "import smtplib\n",
    "\n",
    "def _format_addr(s):\n",
    "    name, addr = parseaddr(s)\n",
    "    return formataddr((Header(name, 'utf-8').encode(), addr))\n",
    "\n",
    "from_addr = input('From: ')\n",
    "password = input('Password: ')\n",
    "to_addr = input('To: ')\n",
    "smtp_server = input('SMTP server: ')\n",
    "\n",
    "# msg = MIMEText('hello, send by Python...', 'plain', 'utf-8')\n",
    "msg = MIMEText('<html><body><h1>Hello</h1>' +\n",
    "    '<p>send by <a href=\"http://www.python.org\">Python</a>...</p>' +\n",
    "    '</body></html>', 'html', 'utf-8')\n",
    "msg['From'] = _format_addr('Python爱好者 <%s>' % from_addr)\n",
    "msg['To'] = _format_addr('管理员 <%s>' % to_addr)\n",
    "msg['Subject'] = Header('来自SMTP的问候……', 'utf-8').encode()\n",
    "\n",
    "server = smtplib.SMTP(smtp_server, 25)\n",
    "server.set_debuglevel(1)\n",
    "server.login(from_addr, password)\n",
    "server.sendmail(from_addr, [to_addr], msg.as_string())\n",
    "server.quit()"
   ]
  },
  {
   "cell_type": "markdown",
   "metadata": {},
   "source": [
    "函数_format_addr()来格式化一个邮件地址。注意不能简单地传入name <addr@example.com>，因为如果包含中文，需要通过Header对象进行编码。\n",
    "\n",
    "msg['To']接收的是**字符串***而不是list，如果有多个邮件地址，用**,分隔**即可。\n"
   ]
  },
  {
   "cell_type": "markdown",
   "metadata": {},
   "source": [
    "你看到的收件人的名字很可能不是我们传入的管理员，因为很多邮件服务商在显示邮件时，会把**收件人名字自动替换为用户注册的名字**，但是其他收件人名字的显示不受影响。\n",
    "\n",
    "如果我们查看Email的原始内容，可以看到如下经过编码的邮件头：\n",
    "\n",
    "From: =?utf-8?b?UHl0aG9u54ix5aW96ICF?= <xxxxxx@163.com>  \n",
    "To: =?utf-8?b?566h55CG5ZGY?= <xxxxxx@qq.com>  \n",
    "Subject: =?utf-8?b?5p2l6IeqU01UUOeahOmXruWAmeKApuKApg==?=  \n",
    "\n",
    "这就是经过Header对象编码的文本，包含utf-8编码信息和Base64编码的文本。"
   ]
  },
  {
   "cell_type": "markdown",
   "metadata": {},
   "source": [
    "发送HTML邮件\n",
    "---\n",
    "在构造MIMEText对象时，把HTML字符串传进去，再把第二个参数由plain变为**html**就可以了。"
   ]
  },
  {
   "cell_type": "code",
   "execution_count": null,
   "metadata": {},
   "outputs": [],
   "source": [
    "msg = MIMEText('<html><body><h1>Hello</h1>' +\n",
    "    '<p>send by <a href=\"http://www.python.org\">Python</a>...</p>' +\n",
    "    '</body></html>', 'html', 'utf-8')"
   ]
  },
  {
   "cell_type": "markdown",
   "metadata": {},
   "source": [
    "发送附件\n",
    "---\n",
    "带附件的邮件可以看做包含若干部分的邮件：**文本**和**各个附件**本身，所以，可以构造一个**MIMEMultipart**对象代表邮件本身，然后往里面加上一个**MIMEText**作为邮件正文，再继续往里面加上表示附件的**MIMEBase**对象即可。"
   ]
  },
  {
   "cell_type": "code",
   "execution_count": null,
   "metadata": {},
   "outputs": [],
   "source": [
    "# 新增import：\n",
    "from email.mime.multipart import MIMEBase,MIMEMultipart\n",
    "\n",
    "# 邮件对象:\n",
    "msg = MIMEMultipart()\n",
    "msg['From'] = _format_addr('Python爱好者 <%s>' % from_addr)\n",
    "msg['To'] = _format_addr('管理员 <%s>' % to_addr)\n",
    "msg['Subject'] = Header('来自SMTP的问候……', 'utf-8').encode()\n",
    "\n",
    "# 邮件正文是MIMEText:\n",
    "#msg.attach(MIMEText('send with file...', 'plain', 'utf-8'))\n",
    "msg.attach(MIMEText('<html><body><h1>Hello</h1>' +\n",
    "    '<p><img src=\"cid:0\"></p>' +\n",
    "    '</body></html>', 'html', 'utf-8'))\n",
    "\n",
    "# 添加附件就是加上一个MIMEBase，从本地读取一个图片:\n",
    "with open(\"./test/Jeux_d'enfants.jpg\", 'rb') as f:\n",
    "    # 设置附件的MIME和文件名，这里是jpg, png类型:\n",
    "    mime = MIMEBase('image', 'jpg', filename=\"Jeux_d'enfants.jpg\")\n",
    "    # 加上必要的头信息:\n",
    "    mime.add_header('Content-Disposition', 'attachment', filename=\"Jeux_d'enfants.jpg\")\n",
    "    mime.add_header('Content-ID', '<0>')\n",
    "    mime.add_header('X-Attachment-Id', '0')\n",
    "    # 把附件的内容读进来:\n",
    "    mime.set_payload(f.read())\n",
    "    # 用Base64编码:\n",
    "    encoders.encode_base64(mime)\n",
    "    # 添加到MIMEMultipart:\n",
    "    msg.attach(mime)"
   ]
  },
  {
   "cell_type": "markdown",
   "metadata": {},
   "source": [
    "发送图片\n",
    "---\n",
    "如果要把一个图片嵌入到邮件正文中怎么做？直接在HTML邮件中链接图片地址行不行？答案是，大部分邮件服务商都会自动屏蔽带有外链的图片，因为不知道这些链接是否指向恶意网站。\n",
    "\n",
    "要把图片嵌入到邮件正文中，我们只需按照发送附件的方式，先把邮件作为附件添加进去，然后，在HTML中通过引用 **src=\"cid:0\"** 就可以把附件作为图片嵌入了。如果有多个图片，给它们依次编号，然后引用不同的 **cid:x** 即可。\n",
    "\n",
    "把上面代码加入MIMEMultipart的MIMEText从plain改为html，然后在适当的位置引用图片："
   ]
  },
  {
   "cell_type": "code",
   "execution_count": null,
   "metadata": {},
   "outputs": [],
   "source": [
    "msg.attach(MIMEText('<html><body><h1>Hello</h1>' +\n",
    "    '<p><img src=\"cid:0\"></p>' +\n",
    "    '</body></html>', 'html', 'utf-8'))"
   ]
  },
  {
   "cell_type": "markdown",
   "metadata": {},
   "source": [
    "同时支持HTML和Plain格式\n",
    "---\n",
    "如果我们发送HTML邮件，收件人通过浏览器或者Outlook之类的软件是可以正常浏览邮件内容的，但是，如果收件人使用的设备太古老，查看不了HTML邮件怎么办？\n",
    "\n",
    "办法是在发送HTML的同时再附加一个纯文本，如果收件人无法查看HTML格式的邮件，就可以**自动降级**查看纯文本邮件。\n",
    "\n",
    "利用**MIMEMultipart**就可以组合一个HTML和Plain，要注意指定**subtype是alternative**。"
   ]
  },
  {
   "cell_type": "code",
   "execution_count": null,
   "metadata": {},
   "outputs": [],
   "source": [
    "msg = MIMEMultipart('alternative')\n",
    "msg['From'] = ...\n",
    "msg['To'] = ...\n",
    "msg['Subject'] = ...\n",
    "\n",
    "msg.attach(MIMEText('hello', 'plain', 'utf-8'))\n",
    "msg.attach(MIMEText('<html><body><h1>Hello</h1></body></html>', 'html', 'utf-8'))\n",
    "# 正常发送msg对象..."
   ]
  },
  {
   "cell_type": "markdown",
   "metadata": {},
   "source": [
    "加密SMTP\n",
    "---\n",
    "使用标准的**25端口**连接SMTP服务器时，使用的是**明文传输**，发送邮件的整个过程可能会被**窃听**。要更安全地发送邮件，可以**加密SMTP会话**，实际上就是**先创建SSL安全连接**，然后再使用SMTP协议发送邮件。\n",
    "\n",
    "某些邮件服务商，例如Gmail，提供的SMTP服务必须要加密传输。我们来看看如何通过Gmail提供的安全SMTP发送邮件。\n",
    "\n",
    "Gmail的SMTP端口是587，因此，修改代码如下："
   ]
  },
  {
   "cell_type": "code",
   "execution_count": null,
   "metadata": {},
   "outputs": [],
   "source": [
    "smtp_server = 'smtp.gmail.com'\n",
    "smtp_port = 587\n",
    "server = smtplib.SMTP(smtp_server, smtp_port)\n",
    "server.starttls()    # 创建安全连接\n",
    "# 剩下的代码和前面的一模一样:\n",
    "server.set_debuglevel(1)\n",
    "..."
   ]
  },
  {
   "cell_type": "markdown",
   "metadata": {},
   "source": [
    "只需要在创建SMTP对象后，立刻调用**starttls()**方法，就创建了安全连接。"
   ]
  },
  {
   "cell_type": "markdown",
   "metadata": {},
   "source": [
    "小结\n",
    "---\n",
    "使用Python的smtplib发送邮件十分简单，只要掌握了各种邮件类型的构造方法，正确设置好邮件头，就可以顺利发出。\n",
    "\n",
    "构造一个邮件对象就是一个Messag对象，如果构造一个MIMEText对象，就表示一个文本邮件对象，如果构造一个**MIMEImage**对象，就表示一个作为附件的图片，要把多个对象组合起来，就用MIMEMultipart对象，而**MIMEBase可以表示任何对象**。它们的继承关系如下：\n",
    "\n",
    "Message  \n",
    "&ensp;&ensp;&ensp;&ensp;MIMEBase  \n",
    "&ensp;&ensp;&ensp;&ensp;&ensp;&ensp;&ensp;&ensp;MIMEMultipart  \n",
    "&ensp;&ensp;&ensp;&ensp;&ensp;&ensp;&ensp;&ensp;MIMENonMultipart  \n",
    "&ensp;&ensp;&ensp;&ensp;&ensp;&ensp;&ensp;&ensp;&ensp;&ensp;&ensp;&ensp;MIMEMessage  \n",
    "&ensp;&ensp;&ensp;&ensp;&ensp;&ensp;&ensp;&ensp;&ensp;&ensp;&ensp;&ensp;MIMEText  \n",
    "&ensp;&ensp;&ensp;&ensp;&ensp;&ensp;&ensp;&ensp;&ensp;&ensp;&ensp;&ensp;MIMEImage  \n",
    "\n",
    "这种嵌套关系就可以构造出任意复杂的邮件。\n",
    "\n",
    "参考文献：https://my.oschina.net/jhao104/blog/613774"
   ]
  }
 ],
 "metadata": {
  "kernelspec": {
   "display_name": "Python 3",
   "language": "python",
   "name": "python3"
  },
  "language_info": {
   "codemirror_mode": {
    "name": "ipython",
    "version": 3
   },
   "file_extension": ".py",
   "mimetype": "text/x-python",
   "name": "python",
   "nbconvert_exporter": "python",
   "pygments_lexer": "ipython3",
   "version": "3.6.4"
  }
 },
 "nbformat": 4,
 "nbformat_minor": 2
}
