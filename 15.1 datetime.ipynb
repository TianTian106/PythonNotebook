{
 "cells": [
  {
   "cell_type": "markdown",
   "metadata": {},
   "source": [
    "获取当前日期和时间\n",
    "---\n",
    "注意datetime是模块，datetime模块还包含一个datetime类，通过from datetime import datetime导入的才是datetime这个类。如果仅导入import datetime，则必须引用全名datetime.datetime。\n",
    "\n",
    "datetime.now()返回当前日期和时间，其类型是datetime。"
   ]
  },
  {
   "cell_type": "code",
   "execution_count": 1,
   "metadata": {},
   "outputs": [
    {
     "name": "stdout",
     "output_type": "stream",
     "text": [
      "2018-03-20 22:03:53.915946\n",
      "<class 'datetime.datetime'>\n"
     ]
    }
   ],
   "source": [
    "from datetime import datetime\n",
    "\n",
    "now = datetime.now()\n",
    "print(now)\n",
    "print(type(now))"
   ]
  },
  {
   "cell_type": "markdown",
   "metadata": {},
   "source": [
    "获取指定日期和时间\n",
    "---\n",
    "要指定某个日期和时间，我们直接用参数构造一个datetime。"
   ]
  },
  {
   "cell_type": "code",
   "execution_count": 3,
   "metadata": {},
   "outputs": [
    {
     "name": "stdout",
     "output_type": "stream",
     "text": [
      "2018-03-20 10:21:12\n"
     ]
    }
   ],
   "source": [
    "from datetime import datetime\n",
    "\n",
    "dt = datetime(2018,3,20,10,21,12)    #年，月，日，时，分，秒\n",
    "print(dt)"
   ]
  },
  {
   "cell_type": "markdown",
   "metadata": {},
   "source": [
    "datetime与timestamp转换\n",
    "---\n",
    "在计算机中，时间实际上是用数字表示的。我们把1970年1月1日 00:00:00 UTC+00:00时区的时刻称为epoch time，记为0（1970年以前的时间timestamp为负数），当前时间就是相对于epoch time的秒数，称为timestamp。  \n",
    "即：  \n",
    "timestamp = 0 = 1970-1-1 00:00:00 UTC+0:00  \n",
    "timestamp = 0 = 1970-1-1 08:00:00 UTC+8:00  （北京时间）\n",
    "\n",
    "可见timestamp的值与时区毫无关系，因为timestamp一旦确定，其UTC时间就确定了，转换到任意时区的时间也是完全确定的，这就是为什么计算机存储的当前时间是以timestamp表示的，因为全球各地的计算机在任意时刻的timestamp都是完全相同的（假定时间已校准）。"
   ]
  },
  {
   "cell_type": "code",
   "execution_count": 11,
   "metadata": {},
   "outputs": [
    {
     "name": "stdout",
     "output_type": "stream",
     "text": [
      "2018-03-20 10:21:12\n",
      "1521512472.0\n",
      "1521512472.0\n"
     ]
    }
   ],
   "source": [
    "from datetime import datetime\n",
    "\n",
    "t = 1521512472.0\n",
    "dt = datetime(2018,3,20,10,21,12)\n",
    "\n",
    "print(datetime.fromtimestamp(t))    #timestamp转换为datetime\n",
    "print(datetime.timestamp(dt))    # datetime转换为timestamp\n",
    "print(dt.timestamp())    # datetime转换为timestamp"
   ]
  },
  {
   "cell_type": "markdown",
   "metadata": {},
   "source": [
    "timestamp是一个浮点数，小数位表示**毫秒数**，某些编程语言（如Java和JavaScript）的timestamp使用整数表示毫秒数，这种情况下只需要把timestamp除以**1000**就得到Python的浮点表示方法。\n",
    "\n",
    "timestamp没有时区的概念，而datetime是有时区的。上述转换是在timestamp和本地时间做转换。\n",
    "\n",
    "本地时间是指当前操作系统设定的时区。timestamp也可以直接被转换到UTC标准时区的时间："
   ]
  },
  {
   "cell_type": "code",
   "execution_count": 12,
   "metadata": {},
   "outputs": [
    {
     "name": "stdout",
     "output_type": "stream",
     "text": [
      "2018-03-20 10:21:12\n",
      "2018-03-20 02:21:12\n"
     ]
    }
   ],
   "source": [
    "from datetime import datetime\n",
    "\n",
    "t = 1521512472.0\n",
    "print(datetime.fromtimestamp(t))    # 本地时间\n",
    "print(datetime.utcfromtimestamp(t))    # UTC时间"
   ]
  },
  {
   "cell_type": "markdown",
   "metadata": {},
   "source": [
    "str转换为datetime\n",
    "---\n",
    "datetime.strptime()  \n",
    "注意转换后的datetime是没有时区信息的。"
   ]
  },
  {
   "cell_type": "code",
   "execution_count": 16,
   "metadata": {},
   "outputs": [
    {
     "name": "stdout",
     "output_type": "stream",
     "text": [
      "2018-03-20 10:21:12\n"
     ]
    }
   ],
   "source": [
    "from datetime import datetime\n",
    "\n",
    "cday = datetime.strptime('2018-03-20 10:21:12', '%Y-%m-%d %H:%M:%S')\n",
    "print(cday)"
   ]
  },
  {
   "cell_type": "markdown",
   "metadata": {},
   "source": [
    "datetime转换为str\n",
    "---\n",
    "strftime()"
   ]
  },
  {
   "cell_type": "code",
   "execution_count": 17,
   "metadata": {},
   "outputs": [
    {
     "name": "stdout",
     "output_type": "stream",
     "text": [
      "2018-03-20 23:18:05.029746\n",
      "Tue, Mar 20 23:18\n"
     ]
    }
   ],
   "source": [
    "from datetime import datetime\n",
    "\n",
    "now = datetime.now()\n",
    "print(now)\n",
    "print(now.strftime('%a, %b %d %H:%M'))"
   ]
  },
  {
   "cell_type": "markdown",
   "metadata": {},
   "source": [
    "datetime加减\n",
    "---\n",
    "加减可以直接用+和-运算符，不过需要导入timedelta这个类。"
   ]
  },
  {
   "cell_type": "code",
   "execution_count": 19,
   "metadata": {},
   "outputs": [
    {
     "name": "stdout",
     "output_type": "stream",
     "text": [
      "2018-03-20 23:21:36.106831\n",
      "2018-03-21 09:21:36.106831\n",
      "2018-03-19 23:21:36.106831\n",
      "2018-03-23 11:21:36.106831\n"
     ]
    }
   ],
   "source": [
    "from datetime import datetime, timedelta\n",
    "\n",
    "now = datetime.now()\n",
    "print(now)\n",
    "\n",
    "print(now + timedelta(hours = 10))\n",
    "print(now - timedelta(days = 1))\n",
    "print(now + timedelta(days = 2, hours = 12))"
   ]
  },
  {
   "cell_type": "markdown",
   "metadata": {},
   "source": [
    "本地时间转换为UTC时间\n",
    "---\n",
    "本地时间是指系统设定时区的时间，例如北京时间是UTC+8:00时区的时间，而UTC时间指UTC+0:00时区的时间。\n",
    "\n",
    "一个datetime类型有一个时区属性tzinfo，但是默认为None，所以无法区分这个datetime到底是哪个时区，除非强行给datetime设置一个时区。"
   ]
  },
  {
   "cell_type": "code",
   "execution_count": 24,
   "metadata": {},
   "outputs": [
    {
     "name": "stdout",
     "output_type": "stream",
     "text": [
      "2018-03-20 23:28:24.557781\n",
      "2018-03-20 23:28:24.557781+08:00\n"
     ]
    }
   ],
   "source": [
    "from datetime import datetime, timedelta, timezone\n",
    "\n",
    "tz_utc_8 = timezone(timedelta(hours=8))    # 创建时区UTC+8:00\n",
    "now = datetime.now()\n",
    "dt = now.replace(tzinfo=tz_utc_8)    # 强制设置为UTC+8:00\n",
    "\n",
    "print(now)\n",
    "print(dt)\n"
   ]
  },
  {
   "cell_type": "markdown",
   "metadata": {},
   "source": [
    "时区转换\n",
    "---\n",
    "可以先通过utcnow()拿到当前的UTC时间，再转换为任意时区的时间。\n",
    "\n",
    "时区转换的关键在于，拿到一个datetime时，要获知其正确的时区，然后强制设置时区，作为基准时间。\n",
    "\n",
    "利用带时区的datetime，通过astimezone()方法，可以转换到任意时区。\n",
    "\n",
    "注：不是必须从UTC+0:00时区转换到其他时区，任何带时区的datetime都可以正确转换，例如上述bj_dt到tokyo_dt2的转换。\n"
   ]
  },
  {
   "cell_type": "code",
   "execution_count": 30,
   "metadata": {},
   "outputs": [
    {
     "name": "stdout",
     "output_type": "stream",
     "text": [
      "2018-03-20 15:34:45.248935+00:00\n",
      "2018-03-20 23:34:45.248935+08:00\n",
      "2018-03-21 00:34:45.248935+09:00\n",
      "2018-03-21 00:34:45.248935+09:00\n"
     ]
    }
   ],
   "source": [
    "utc_dt = datetime.utcnow().replace(tzinfo=timezone.utc)\n",
    "print(utc_dt)\n",
    "\n",
    "bj_dt = utc_dt.astimezone(timezone(timedelta(hours=8)))\n",
    "print(bj_dt)\n",
    "\n",
    "tokyo_dt = utc_dt.astimezone(timezone(timedelta(hours=9)))\n",
    "print(tokyo_dt)\n",
    "\n",
    "tokyo_dt2 = bj_dt.astimezone(timezone(timedelta(hours=9)))\n",
    "print(tokyo_dt2)"
   ]
  },
  {
   "cell_type": "markdown",
   "metadata": {},
   "source": [
    "小结\n",
    "---\n",
    "datetime表示的时间需要时区信息才能确定一个特定的时间，否则只能视为本地时间。\n",
    "\n",
    "如果要存储datetime，最佳方法是将其转换为timestamp再存储，因为timestamp的值与时区完全无关。"
   ]
  },
  {
   "cell_type": "code",
   "execution_count": 46,
   "metadata": {},
   "outputs": [
    {
     "name": "stdout",
     "output_type": "stream",
     "text": [
      "ok\n"
     ]
    }
   ],
   "source": [
    "# 练习：假设你获取了用户输入的日期和时间如2015-1-21 9:01:30，以及一个时区信息如UTC+5:00，均是str，请编写一个函数将其转换为timestamp：\n",
    "def to_timestamp(dt_str, tz_str):\n",
    "    tz = int(tz_str.split(':')[0].replace('UTC',''))\n",
    "    # tz = int(re.match(r'UTC([+-]\\d+):\\d+', tz_str).group(1)) \n",
    "    return datetime.strptime(dt_str, '%Y-%m-%d %H:%M:%S').replace(tzinfo=timezone(timedelta(hours=tz))).timestamp()\n",
    "\n",
    "# 测试:\n",
    "t1 = to_timestamp('2015-6-1 08:10:30', 'UTC+7:00')\n",
    "assert t1 == 1433121030.0, t1\n",
    "\n",
    "t2 = to_timestamp('2015-5-31 16:10:30', 'UTC-09:00')\n",
    "assert t2 == 1433121030.0, t2\n",
    "\n",
    "print('ok')"
   ]
  }
 ],
 "metadata": {
  "kernelspec": {
   "display_name": "Python 3",
   "language": "python",
   "name": "python3"
  },
  "language_info": {
   "codemirror_mode": {
    "name": "ipython",
    "version": 3
   },
   "file_extension": ".py",
   "mimetype": "text/x-python",
   "name": "python",
   "nbconvert_exporter": "python",
   "pygments_lexer": "ipython3",
   "version": "3.6.4"
  }
 },
 "nbformat": 4,
 "nbformat_minor": 2
}
