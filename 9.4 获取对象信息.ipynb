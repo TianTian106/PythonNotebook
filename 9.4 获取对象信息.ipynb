{
 "cells": [
  {
   "cell_type": "markdown",
   "metadata": {},
   "source": [
    "type()判断对象类型。返回对应的Class类型。"
   ]
  },
  {
   "cell_type": "code",
   "execution_count": 5,
   "metadata": {},
   "outputs": [
    {
     "name": "stdout",
     "output_type": "stream",
     "text": [
      "True\n",
      "True\n",
      "True\n",
      "True\n",
      "True\n",
      "True\n",
      "True\n",
      "True\n"
     ]
    }
   ],
   "source": [
    "print(type(123)==type(456))\n",
    "print(type(123)==int)\n",
    "print(type('abc')==type('123'))\n",
    "print(type('abc')==str)\n",
    "\n",
    "import types\n",
    "\n",
    "def fn():\n",
    "    pass \n",
    "\n",
    "print(type(fn)==types.FunctionType)\n",
    "print(type(abs)==types.BuiltinFunctionType)\n",
    "print(type(lambda x: x)==types.LambdaType)\n",
    "print(type((x for x in range(10)))==types.GeneratorType)"
   ]
  },
  {
   "cell_type": "markdown",
   "metadata": {},
   "source": [
    "isinstance()判断的是一个对象是否是该类型本身，或者位于该类型的父继承链上。"
   ]
  },
  {
   "cell_type": "code",
   "execution_count": 6,
   "metadata": {},
   "outputs": [
    {
     "name": "stdout",
     "output_type": "stream",
     "text": [
      "True\n",
      "True\n",
      "True\n",
      "True\n",
      "True\n"
     ]
    }
   ],
   "source": [
    "print(isinstance('a', str))\n",
    "print(isinstance(123, int))\n",
    "print(isinstance(b'a', bytes))\n",
    "print(isinstance([1, 2, 3], (list, tuple)))\n",
    "print(isinstance((1, 2, 3), (list, tuple)))"
   ]
  },
  {
   "cell_type": "markdown",
   "metadata": {},
   "source": [
    "dir()获得一个对象的所有属性和方法。它返回一个包含字符串的list。"
   ]
  },
  {
   "cell_type": "code",
   "execution_count": 10,
   "metadata": {},
   "outputs": [
    {
     "name": "stdout",
     "output_type": "stream",
     "text": [
      "['__add__', '__class__', '__contains__', '__delattr__', '__dir__', '__doc__', '__eq__', '__format__', '__ge__', '__getattribute__', '__getitem__', '__getnewargs__', '__gt__', '__hash__', '__init__', '__init_subclass__', '__iter__', '__le__', '__len__', '__lt__', '__mod__', '__mul__', '__ne__', '__new__', '__reduce__', '__reduce_ex__', '__repr__', '__rmod__', '__rmul__', '__setattr__', '__sizeof__', '__str__', '__subclasshook__', 'capitalize', 'casefold', 'center', 'count', 'encode', 'endswith', 'expandtabs', 'find', 'format', 'format_map', 'index', 'isalnum', 'isalpha', 'isdecimal', 'isdigit', 'isidentifier', 'islower', 'isnumeric', 'isprintable', 'isspace', 'istitle', 'isupper', 'join', 'ljust', 'lower', 'lstrip', 'maketrans', 'partition', 'replace', 'rfind', 'rindex', 'rjust', 'rpartition', 'rsplit', 'rstrip', 'split', 'splitlines', 'startswith', 'strip', 'swapcase', 'title', 'translate', 'upper', 'zfill']\n"
     ]
    }
   ],
   "source": [
    "print(dir('ABC'))"
   ]
  },
  {
   "cell_type": "raw",
   "metadata": {},
   "source": [
    "类似__xxx__的属性和方法在Python中都是有特殊用途的，比如__len__方法返回长度。在Python中，如果你调用len()函数试图获取一个对象的长度，实际上，在len()函数内部，它自动去调用该对象的__len__()方法，所以，下面的代码是等价的：\n",
    "\n",
    "我们自己写的类，如果也想用len(myObj)的话，就自己写一个__len__()方法。"
   ]
  },
  {
   "cell_type": "code",
   "execution_count": 13,
   "metadata": {},
   "outputs": [
    {
     "name": "stdout",
     "output_type": "stream",
     "text": [
      "True\n",
      "100\n",
      "abc\n"
     ]
    }
   ],
   "source": [
    "print(len('ABC')=='ABC'.__len__())\n",
    "\n",
    "class MyDog(object):\n",
    "    def __len__(self):\n",
    "        return 100 \n",
    "\n",
    "dog = MyDog()\n",
    "print(len(dog))\n",
    "\n",
    "print('ABC'.lower())"
   ]
  },
  {
   "cell_type": "markdown",
   "metadata": {},
   "source": [
    "仅仅把属性和方法列出来是不够的，配合getattr()、setattr()以及hasattr()，我们可以直接操作一个对象的状态。"
   ]
  },
  {
   "cell_type": "code",
   "execution_count": 20,
   "metadata": {},
   "outputs": [
    {
     "name": "stdout",
     "output_type": "stream",
     "text": [
      "测试对象属性：\n",
      "True :  9\n",
      "False\n",
      "True :  19\n",
      "19\n",
      "测试对象方法：\n",
      "True\n",
      "<bound method MyObject.power of <__main__.MyObject object at 0x10f35d4a8>>\n",
      "<bound method MyObject.power of <__main__.MyObject object at 0x10f35d4a8>>\n",
      "81\n"
     ]
    }
   ],
   "source": [
    "class MyObject(object):\n",
    "    def __init__(self):\n",
    "        self.x = 9\n",
    "    def power(self):\n",
    "        return self.x * self.x\n",
    "\n",
    "obj = MyObject()\n",
    "\n",
    "print('测试对象属性：')\n",
    "print(hasattr(obj, 'x'), ': ', obj.x)\n",
    "print(hasattr(obj, 'y'))\n",
    "setattr(obj, 'y', 19)\n",
    "print(hasattr(obj, 'y'), ': ', obj.y)\n",
    "print(getattr(obj, 'y'))\n",
    "print('测试对象方法：')\n",
    "print(hasattr(obj, 'power'))\n",
    "print(getattr(obj, 'power'))\n",
    "fn = getattr(obj, 'power') # 获取属性'power'并赋值到变量fn\n",
    "print(fn)\n",
    "print(fn())"
   ]
  },
  {
   "cell_type": "code",
   "execution_count": 18,
   "metadata": {},
   "outputs": [
    {
     "ename": "AttributeError",
     "evalue": "'MyObject' object has no attribute 'z'",
     "output_type": "error",
     "traceback": [
      "\u001b[0;31m---------------------------------------------------------------------------\u001b[0m",
      "\u001b[0;31mAttributeError\u001b[0m                            Traceback (most recent call last)",
      "\u001b[0;32m<ipython-input-18-95c3c0ec4e01>\u001b[0m in \u001b[0;36m<module>\u001b[0;34m()\u001b[0m\n\u001b[0;32m----> 1\u001b[0;31m \u001b[0mgetattr\u001b[0m\u001b[0;34m(\u001b[0m\u001b[0mobj\u001b[0m\u001b[0;34m,\u001b[0m \u001b[0;34m'z'\u001b[0m\u001b[0;34m)\u001b[0m\u001b[0;34m\u001b[0m\u001b[0m\n\u001b[0m",
      "\u001b[0;31mAttributeError\u001b[0m: 'MyObject' object has no attribute 'z'"
     ]
    }
   ],
   "source": [
    "getattr(obj, 'z')"
   ]
  },
  {
   "cell_type": "code",
   "execution_count": 19,
   "metadata": {},
   "outputs": [
    {
     "data": {
      "text/plain": [
       "'404'"
      ]
     },
     "execution_count": 19,
     "metadata": {},
     "output_type": "execute_result"
    }
   ],
   "source": [
    "getattr(obj, 'z' , '404')\n",
    "#传入default参数，如果属性不存在，就返回默认值。"
   ]
  },
  {
   "cell_type": "code",
   "execution_count": null,
   "metadata": {},
   "outputs": [],
   "source": [
    "#只有在不知道对象信息的时候，才会去获取对象信息。\n",
    "def readImage(fp):\n",
    "    if hasattr(fp, 'read'):\n",
    "        return readData(fp)\n",
    "    return None"
   ]
  },
  {
   "cell_type": "code",
   "execution_count": 22,
   "metadata": {},
   "outputs": [
    {
     "name": "stdout",
     "output_type": "stream",
     "text": [
      "11\n"
     ]
    }
   ],
   "source": [
    "class MyObject(object):\n",
    "    def __init__(self):\n",
    "        self.x = 9\n",
    "    def add(self):\n",
    "        return self.x + self.x\n",
    "\n",
    "    def pow(self):\n",
    "        return self.x * self.x\n",
    "\n",
    "    def sub(self):\n",
    "        return self.x - self.x\n",
    "\n",
    "    def div(self):\n",
    "        return self.x / self.x\n",
    "    \n",
    "# computer=MyObject()\n",
    "# def run():\n",
    "#     inp = input('method>')\n",
    "\n",
    "#     if inp == 'add':\n",
    "#         computer.add()\n",
    "#     elif inp == 'sub':\n",
    "#         computer.sub()\n",
    "#     elif inp == 'div':\n",
    "#         computer.div()\n",
    "#     elif inp == 'pow':\n",
    "#         computer.pow()\n",
    "#     else:\n",
    "#         print('404')\n",
    "        \n",
    "computer=MyObject()\n",
    "def run(x):\n",
    "    inp = input('<method>')\n",
    "    # 判断是否有这个属性\n",
    "    if hasattr(computer,inp):\n",
    "    # 有就获取然后赋值给新的变量\n",
    "        func = getattr(computer,inp)\n",
    "        print(func())\n",
    "    else:\n",
    "    # 没有我们来set一个\n",
    "        setattr(computer,inp,lambda x:x+1)\n",
    "        func = getattr(computer,inp)\n",
    "        print(func(x))\n",
    "\n",
    "run(10)\n",
    "\n",
    "#python的反射特性、动态加载模块类。"
   ]
  },
  {
   "cell_type": "code",
   "execution_count": null,
   "metadata": {},
   "outputs": [],
   "source": []
  }
 ],
 "metadata": {
  "kernelspec": {
   "display_name": "Python 3",
   "language": "python",
   "name": "python3"
  },
  "language_info": {
   "codemirror_mode": {
    "name": "ipython",
    "version": 3
   },
   "file_extension": ".py",
   "mimetype": "text/x-python",
   "name": "python",
   "nbconvert_exporter": "python",
   "pygments_lexer": "ipython3",
   "version": "3.6.4"
  }
 },
 "nbformat": 4,
 "nbformat_minor": 2
}
