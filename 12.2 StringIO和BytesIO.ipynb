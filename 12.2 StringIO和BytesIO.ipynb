{
 "cells": [
  {
   "cell_type": "markdown",
   "metadata": {},
   "source": [
    "很多时候，数据读写不一定是文件，也可以在内存中读写。\n",
    "\n",
    "StringIO和BytesIO是在内存中操作str和bytes的方法，使得和读写文件具有一致的接口。\n",
    "\n",
    "要把str写入StringIO，我们需要先创建一个StringIO，然后，像文件一样写入即可。"
   ]
  },
  {
   "cell_type": "code",
   "execution_count": 1,
   "metadata": {},
   "outputs": [
    {
     "name": "stdout",
     "output_type": "stream",
     "text": [
      "6\n",
      "3\n",
      "10\n",
      "hello\n",
      ", \n",
      "tiantian!\n",
      "\n"
     ]
    }
   ],
   "source": [
    "from io import StringIO\n",
    "f = StringIO()\n",
    "print(f.write('hello\\n'))\n",
    "print(f.write(', \\n'))\n",
    "print(f.write('tiantian!\\n'))\n",
    "print(f.getvalue())    #获得写入后的str"
   ]
  },
  {
   "cell_type": "code",
   "execution_count": 2,
   "metadata": {},
   "outputs": [
    {
     "name": "stdout",
     "output_type": "stream",
     "text": [
      "Hello!\n",
      "Hi!\n",
      "Goodbye!\n"
     ]
    }
   ],
   "source": [
    "#要读取StringIO，可以用一个str初始化StringIO，然后，像读文件一样读取\n",
    "from io import StringIO\n",
    "f = StringIO('Hello!\\nHi!\\nGoodbye!')\n",
    "while True:\n",
    "    s = f.readline()\n",
    "    if s == '':\n",
    "        break\n",
    "    print(s.strip())"
   ]
  },
  {
   "cell_type": "markdown",
   "metadata": {},
   "source": [
    "BytesIO，在内存中读写bytes\n",
    "\n",
    "StringIO操作的只能是str，如果要操作二进制数据，就需要使用BytesIO。"
   ]
  },
  {
   "cell_type": "code",
   "execution_count": 6,
   "metadata": {},
   "outputs": [
    {
     "name": "stdout",
     "output_type": "stream",
     "text": [
      "6\n",
      "b'\\xe4\\xb8\\xad\\xe6\\x96\\x87'\n"
     ]
    }
   ],
   "source": [
    "from io import BytesIO\n",
    "f = BytesIO()\n",
    "print(f.write('中文'.encode('utf-8')))\n",
    "print(f.getvalue())"
   ]
  },
  {
   "cell_type": "code",
   "execution_count": 9,
   "metadata": {},
   "outputs": [
    {
     "name": "stdout",
     "output_type": "stream",
     "text": [
      "b'\\xe4\\xb8\\xad\\xe6\\x96\\x87'\n"
     ]
    }
   ],
   "source": [
    "#可以用一个bytes初始化BytesIO，然后，像读文件一样读取\n",
    "from io import BytesIO\n",
    "f = BytesIO(b'\\xe4\\xb8\\xad\\xe6\\x96\\x87')\n",
    "print(f.read())"
   ]
  },
  {
   "cell_type": "code",
   "execution_count": null,
   "metadata": {},
   "outputs": [],
   "source": [
    "# stringIO 比如说，这时候，你需要对获取到的数据进行操作，但是你并不想把数据写到本地硬盘上，这时候你就可以用stringIO\n",
    "from io import StringIO\n",
    "from io import BytesIO\n",
    "def outputstring():\n",
    "    return 'string \\nfrom \\noutputstring \\nfunction'\n",
    "\n",
    "s = outputstring()\n",
    "\n",
    "# 将函数返回的数据在内存中读\n",
    "sio = StringIO(s)\n",
    "# 可以用StringIO本身的方法\n",
    "print(sio.getvalue())\n",
    "# 也可以用file-like object的方法\n",
    "s = sio.readlines()\n",
    "for i in s:\n",
    "    print(i.strip())\n",
    "\n",
    "\n",
    "# 将函数返回的数据在内存中写\n",
    "sio = StringIO()\n",
    "sio.write(s)\n",
    "# 可以用StringIO本身的方法查看\n",
    "s=sio.getvalue()\n",
    "print(s)\n",
    "\n",
    "# 如果你用file-like object的方法查看的时候，你会发现数据为空\n",
    "\n",
    "sio = StringIO()\n",
    "sio.write(s)\n",
    "for i in sio.readlines():\n",
    "    print(i.strip())\n",
    "\n",
    "# 这时候我们需要修改下文件的指针位置\n",
    "# 我们发现可以打印出内容了\n",
    "sio = StringIO()\n",
    "sio.write(s)\n",
    "sio.seek(0,0)\n",
    "print(sio.tell())\n",
    "for i in sio.readlines():\n",
    "    print(i.strip())\n",
    "\n",
    "# 这就涉及到了两个方法seek 和 tell\n",
    "# tell 方法获取当前文件读取指针的位置\n",
    "# seek 方法，用于移动文件读写指针到指定位置,有两个参数，第一个offset: 偏移量，需要向前或向后的字节数，正为向后，负为向前；第二个whence: 可选值，默认为0，表示文件开头，1表示相对于当前的位置，2表示文件末尾\n",
    "# 用seek方法时，需注意，如果你打开的文件没有用'b'的方式打开，则offset无法使用负值哦\n",
    "\n",
    "\n",
    "\n",
    "# stringIO 只能操作str，如果要操作二进制数据，就需要用到BytesIO\n",
    "# 上面的sio无法用seek从当前位置向前移动，这时候，我们用'b'的方式写入数据，就可以向前移动了\n",
    "bio = BytesIO()\n",
    "bio.write(s.encode('utf-8'))\n",
    "print(bio.getvalue())\n",
    "bio.seek(-36,1)\n",
    "print(bio.tell())\n",
    "for i in bio.readlines():\n",
    "    print(i.strip())"
   ]
  }
 ],
 "metadata": {
  "kernelspec": {
   "display_name": "Python 3",
   "language": "python",
   "name": "python3"
  },
  "language_info": {
   "codemirror_mode": {
    "name": "ipython",
    "version": 3
   },
   "file_extension": ".py",
   "mimetype": "text/x-python",
   "name": "python",
   "nbconvert_exporter": "python",
   "pygments_lexer": "ipython3",
   "version": "3.6.4"
  }
 },
 "nbformat": 4,
 "nbformat_minor": 2
}
