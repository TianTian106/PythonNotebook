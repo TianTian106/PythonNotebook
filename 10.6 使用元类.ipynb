{
 "cells": [
  {
   "cell_type": "markdown",
   "metadata": {},
   "source": [
    "动态语言和静态语言最大的不同，就是函数和类的定义，不是编译时定义的，而是运行时动态创建的。\n",
    "\n",
    "静态语言在运行期创建类，必须构造源代码字符串再调用编译器，或者借助一些工具生成字节码实现\n",
    "\n",
    "type()函数既可以返回一个对象的类型，又可以创建出新的类型。"
   ]
  },
  {
   "cell_type": "code",
   "execution_count": 1,
   "metadata": {},
   "outputs": [
    {
     "name": "stdout",
     "output_type": "stream",
     "text": [
      "<class 'type'>\n",
      "<class '__main__.Hello'>\n"
     ]
    }
   ],
   "source": [
    "class Hello(object):\n",
    "    def hello(self, name='world'):\n",
    "        print('Hello, %s.' % name)\n",
    "        \n",
    "h = Hello()\n",
    "print(type(Hello))  #Hello是一个class，它的类型就是type\n",
    "print(type(h))  #h是一个实例，它的类型就是class Hello"
   ]
  },
  {
   "cell_type": "markdown",
   "metadata": {},
   "source": [
    "class的定义是运行时动态创建的，而创建class的方法就是使用type()函数。"
   ]
  },
  {
   "cell_type": "code",
   "execution_count": 3,
   "metadata": {},
   "outputs": [
    {
     "name": "stdout",
     "output_type": "stream",
     "text": [
      "Hello, world.\n"
     ]
    }
   ],
   "source": [
    "#通过type()函数创建出Hello类\n",
    "def fn(self, name='world'): # 先定义函数\n",
    "    print('Hello, %s.' % name)\n",
    "    \n",
    "Hello = type('Hello', (object,), dict(hello=fn)) # 创建Hello class\n",
    "\n",
    "h = Hello()\n",
    "h.hello()"
   ]
  },
  {
   "cell_type": "markdown",
   "metadata": {},
   "source": [
    "要创建一个class对象，type()函数依次传入3个参数：\n",
    "1. class的名称；\n",
    "2. 继承的父类集合，注意Python支持多重继承，如果只有一个父类，别忘了tuple的单元素写法；\n",
    "3. class的方法名称与函数绑定，这里我们把函数fn绑定到方法名hello上。\n",
    "\n",
    "通过type()函数创建的类和直接写class是完全一样的，因为Python解释器遇到class定义时，仅仅是扫描一下class定义的语法，然后调用type()函数创建出class。"
   ]
  },
  {
   "cell_type": "markdown",
   "metadata": {},
   "source": [
    "metaclass（元类）：控制类的创建行为。可以把类看成是metaclass创建出来的“实例”。\n",
    "\n",
    "先定义metaclass，就可以创建类，最后创建实例。"
   ]
  },
  {
   "cell_type": "code",
   "execution_count": 5,
   "metadata": {},
   "outputs": [
    {
     "name": "stdout",
     "output_type": "stream",
     "text": [
      "['good']\n"
     ]
    }
   ],
   "source": [
    "# metaclass是类的模板，所以必须从`type`类型派生：\n",
    "class ListMetaclass(type):\n",
    "    def __new__(cls, name, bases, attrs):\n",
    "        attrs['add'] = lambda self, value: self.append(value)\n",
    "        return type.__new__(cls, name, bases, attrs)\n",
    "\n",
    "#给自定义的MyList增加一个add方法    \n",
    "class MyList(list, metaclass=ListMetaclass):\n",
    "    pass\n",
    "\n",
    "l = MyList()\n",
    "l.add('good')\n",
    "print(l)"
   ]
  },
  {
   "cell_type": "markdown",
   "metadata": {},
   "source": [
    "传入关键字参数metaclass，它指示Python解释器在创建MyList时，通过ListMetaclass.\\__new\\__()来创建，在此，我们可以修改类的定义，比如，加上新的方法，然后，返回修改后的定义。\n",
    "\n",
    "\\__new\\__()方法接收到的参数依次是：\n",
    "\n",
    "1. 当前准备创建的类的对象；\n",
    "2. 类的名字；\n",
    "3. 类继承的父类集合；\n",
    "4. 类的方法集合。\n"
   ]
  },
  {
   "cell_type": "markdown",
   "metadata": {},
   "source": [
    "ORM全称“Object Relational Mapping”，即对象-关系映射，就是把关系数据库的一行映射为一个对象，也就是一个类对应一个表，这样，写代码更简单，不用直接操作SQL语句。要编写一个ORM框架，所有的类都只能动态定义，因为只有使用者才能根据表的结构定义出对应的类来。"
   ]
  },
  {
   "cell_type": "code",
   "execution_count": 8,
   "metadata": {},
   "outputs": [
    {
     "name": "stdout",
     "output_type": "stream",
     "text": [
      "Found model: User\n",
      "Found mapping: id ==> <IntegerField:id>\n",
      "Found mapping: name ==> <StringField:username>\n",
      "Found mapping: email ==> <StringField:email>\n",
      "Found mapping: password ==> <StringField:password>\n",
      "SQL: insert into User (id,username,email,password) values (?,?,?,?)\n",
      "ARGS: [12345, 'Michael', 'test@orm.org', 'my-pwd']\n"
     ]
    }
   ],
   "source": [
    "#1. 编写底层模块的第一步，就是先把调用接口写出来。\n",
    "#父类Model和属性类型StringField、IntegerField是由ORM框架提供的\n",
    "#剩下的方法比如save()全部由metaclass自动完成。虽然metaclass的编写会比较复杂，但ORM的使用者用起来却异常简单。\n",
    "class User(Model):\n",
    "    # 定义类的属性到列的映射：\n",
    "    id = IntegerField('id')\n",
    "    name = StringField('username')\n",
    "    email = StringField('email')\n",
    "    password = StringField('password')\n",
    "\n",
    "# 创建一个实例：\n",
    "u = User(id=12345, name='Michael', email='test@orm.org', password='my-pwd')\n",
    "# 保存到数据库：\n",
    "u.save()\n",
    "\n"
   ]
  },
  {
   "cell_type": "code",
   "execution_count": 9,
   "metadata": {},
   "outputs": [
    {
     "name": "stdout",
     "output_type": "stream",
     "text": [
      "cls:  <class '__main__.ModelMetaclass'> ; name:  Model ; bases :  (<class 'dict'>,) ; attrs:  {'__module__': '__main__', '__qualname__': 'Model', '__init__': <function Model.__init__ at 0x10fb97730>, '__getattr__': <function Model.__getattr__ at 0x10fb976a8>, '__setattr__': <function Model.__setattr__ at 0x10fb97840>, 'save': <function Model.save at 0x10fb97950>, '__classcell__': <cell at 0x10fb06fd8: empty>}\n"
     ]
    }
   ],
   "source": [
    "#2. 按上面的接口来实现该ORM。\n",
    "#Field负责保存数据库表的字段名和字段类型\n",
    "class Field(object):\n",
    "\n",
    "    def __init__(self, name, column_type):\n",
    "        self.name = name\n",
    "        self.column_type = column_type\n",
    "\n",
    "    def __str__(self):\n",
    "        return '<%s:%s>' % (self.__class__.__name__, self.name)\n",
    "    \n",
    "class StringField(Field):\n",
    "\n",
    "    def __init__(self, name):\n",
    "        super(StringField, self).__init__(name, 'varchar(100)')  # python2\n",
    "        #super().__init__(name, 'varchar(100)')  # python3\n",
    "        \n",
    "class IntegerField(Field):\n",
    "\n",
    "    def __init__(self, name):\n",
    "        super(IntegerField, self).__init__(name, 'bigint')  # python2\n",
    "        #super().__init__(name, 'bigint')  # python3\n",
    "        \n",
    "        \n",
    "class ModelMetaclass(type):\n",
    "\n",
    "    def __new__(cls, name, bases, attrs):\n",
    "        print('cls: ',cls,'; name: ',name, '; bases : ',bases,'; attrs: ',attrs)\n",
    "        if name=='Model':\n",
    "            return type.__new__(cls, name, bases, attrs)\n",
    "        print('Found model: %s' % name)\n",
    "        mappings = dict()\n",
    "        for k, v in attrs.items():\n",
    "            if isinstance(v, Field):\n",
    "                print('Found mapping: %s ==> %s' % (k, v))\n",
    "                mappings[k] = v\n",
    "        for k in mappings.keys():\n",
    "            attrs.pop(k)\n",
    "        attrs['__mappings__'] = mappings # 保存属性和列的映射关系\n",
    "        attrs['__table__'] = name # 假设表名和类名一致\n",
    "        return type.__new__(cls, name, bases, attrs)\n",
    "    \n",
    "class Model(dict, metaclass=ModelMetaclass):\n",
    "\n",
    "    def __init__(self, **kw):\n",
    "        super(Model, self).__init__(**kw)\n",
    "\n",
    "    def __getattr__(self, key):\n",
    "        try:\n",
    "            return self[key]\n",
    "        except KeyError:\n",
    "            raise AttributeError(r\"'Model' object has no attribute '%s'\" % key)\n",
    "\n",
    "    def __setattr__(self, key, value):\n",
    "        self[key] = value\n",
    "\n",
    "    def save(self):\n",
    "        fields = []\n",
    "        params = []\n",
    "        args = []\n",
    "        for k, v in self.__mappings__.items():\n",
    "            fields.append(v.name)\n",
    "            params.append('?')\n",
    "            args.append(getattr(self, k, None))\n",
    "        sql = 'insert into %s (%s) values (%s)' % (self.__table__, ','.join(fields), ','.join(params))\n",
    "        print('SQL: %s' % sql)\n",
    "        print('ARGS: %s' % str(args))"
   ]
  },
  {
   "cell_type": "markdown",
   "metadata": {},
   "source": [
    "当用户定义一个class User(Model)时，Python解释器首先在当前类User的定义中查找metaclass，如果没有找到，就继续在父类Model中查找metaclass，找到了，就使用Model中定义的metaclass的ModelMetaclass来创建User类，也就是说，metaclass可以隐式地继承到子类，但子类自己却感觉不到。"
   ]
  },
  {
   "cell_type": "code",
   "execution_count": 10,
   "metadata": {},
   "outputs": [
    {
     "name": "stdout",
     "output_type": "stream",
     "text": [
      "SQL: insert into User (id,name,email,password) values (?,?,?,?)\n",
      "ARGS: [12345, 'Michael', 'test@orm.org', 'my-pwd']\n"
     ]
    }
   ],
   "source": [
    "class Field(object):\n",
    "\n",
    "    def __init__(self, name, column_type):\n",
    "        self.name = name\n",
    "        self.column_type = column_type\n",
    "\n",
    "    def __str__(self):\n",
    "        return '<%s:%s>' % (self.__class__.__name__, self.name)\n",
    "\n",
    "\n",
    "class StringField(Field):\n",
    "    def __init__(self, name):\n",
    "        super(StringField, self).__init__(name, 'varchar(100')\n",
    "\n",
    "\n",
    "class IntegerField(Field):\n",
    "    def __init__(self, name):\n",
    "        super(IntegerField, self).__init__(name, 'bigint')\n",
    "\n",
    "\n",
    "class Model(dict):\n",
    "    def __init__(self, **kw):\n",
    "        super(Model, self).__init__(**kw)\n",
    "\n",
    "    def save(self):\n",
    "        fields = []\n",
    "        params = []\n",
    "        args = []\n",
    "        for k in self.keys():\n",
    "            fields.append(k)\n",
    "            params.append('?')\n",
    "            args.append(self[k])\n",
    "        sql = 'insert into %s (%s) values (%s)' % (self.__class__.__name__, ','.join(fields), ','.join(params))\n",
    "        print('SQL: %s' % sql)\n",
    "        print('ARGS: %s' % str(args))\n",
    "\n",
    "\n",
    "class User(Model):\n",
    "    # 定义类的属性到列的映射：\n",
    "    id = IntegerField('id')\n",
    "    name = StringField('username')\n",
    "    email = StringField('email')\n",
    "    password = StringField('password')\n",
    "\n",
    "\n",
    "# 创建一个实例：\n",
    "u = User(id=12345, name='Michael', email='test@orm.org', password='my-pwd')\n",
    "# 保存到数据库\n",
    "u.save()"
   ]
  },
  {
   "cell_type": "code",
   "execution_count": null,
   "metadata": {},
   "outputs": [],
   "source": []
  }
 ],
 "metadata": {
  "kernelspec": {
   "display_name": "Python 3",
   "language": "python",
   "name": "python3"
  },
  "language_info": {
   "codemirror_mode": {
    "name": "ipython",
    "version": 3
   },
   "file_extension": ".py",
   "mimetype": "text/x-python",
   "name": "python",
   "nbconvert_exporter": "python",
   "pygments_lexer": "ipython3",
   "version": "3.6.4"
  }
 },
 "nbformat": 4,
 "nbformat_minor": 2
}
