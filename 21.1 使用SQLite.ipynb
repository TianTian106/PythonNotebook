{
 "cells": [
  {
   "cell_type": "markdown",
   "metadata": {},
   "source": [
    "SQLite是一种嵌入式数据库，它的数据库就是一个文件。由于SQLite本身是C写的，而且体积很小，所以，经常被集成到各种应用程序中，甚至在iOS和Android的App中都可以集成。\n",
    "\n",
    "Python就内置了SQLite3，所以，在Python中使用SQLite，不需要安装任何东西，直接使用。\n",
    "\n",
    "几个概念：\n",
    "\n",
    "**表**是数据库中存放关系数据的集合，一个数据库里面通常都包含多个表，比如学生的表，班级的表，学校的表，等等。表和表之间通过**外键**关联。\n",
    "\n",
    "要操作关系数据库，首先需要连接到数据库，一个数据库**连接**称为**Connection**；\n",
    "\n",
    "连接到数据库后，需要打开**游标**，称之为**Cursor**，通过Cursor执行SQL语句，然后，获得执行结果。\n",
    "\n",
    "Python定义了一套操作数据库的API接口，任何数据库要连接到Python，只需要提供符合Python标准的数据库驱动即可。\n",
    "\n",
    "由于SQLite的驱动内置在Python标准库中，所以可以直接来操作SQLite数据库。"
   ]
  },
  {
   "cell_type": "code",
   "execution_count": 1,
   "metadata": {},
   "outputs": [
    {
     "name": "stdout",
     "output_type": "stream",
     "text": [
      "1\n"
     ]
    }
   ],
   "source": [
    "# 导入SQLite驱动:\n",
    "import sqlite3\n",
    "\n",
    "# 连接到SQLite数据库\n",
    "# 数据库文件是test.db\n",
    "# 如果文件不存在，会自动在当前目录创建:\n",
    "conn = sqlite3.connect('test.db')\n",
    "\n",
    "# 创建一个Cursor:\n",
    "cursor = conn.cursor()\n",
    "\n",
    "# 执行一条SQL语句，创建user表:\n",
    "cursor.execute('create table user (id varchar(20) primary key, name varchar(20))')\n",
    "\n",
    "# 继续执行一条SQL语句，插入一条记录:\n",
    "cursor.execute('insert into user (id, name) values (\\'1\\', \\'Michael\\')')\n",
    "\n",
    "# 通过rowcount获得插入的行数:\n",
    "print(cursor.rowcount)\n",
    "\n",
    "# 关闭Cursor:\n",
    "cursor.close()\n",
    "\n",
    "# 提交事务:\n",
    "conn.commit()\n",
    "\n",
    "# 关闭Connection:\n",
    "conn.close()"
   ]
  },
  {
   "cell_type": "code",
   "execution_count": 13,
   "metadata": {},
   "outputs": [
    {
     "name": "stdout",
     "output_type": "stream",
     "text": [
      "[('1', 'Michael')]\n"
     ]
    }
   ],
   "source": [
    "#查询记录:\n",
    "conn = sqlite3.connect('test.db')\n",
    "cursor = conn.cursor()\n",
    "cursor.execute('select * from user where id=?', ('1',))\n",
    "values = cursor.fetchall()\n",
    "print(values)\n",
    "cursor.close()\n",
    "conn.close()"
   ]
  },
  {
   "cell_type": "markdown",
   "metadata": {},
   "source": [
    "使用Python的DB-API时，只要搞清楚**Connection**和**Cursor**对象，打开后一定记得**关闭**，就可以放心地使用。\n",
    "\n",
    "使用Cursor对象执行insert，update，delete语句时，执行结果由**rowcount**返回**影响的行数**，就可以拿到执行结果。\n",
    "\n",
    "使用Cursor对象执行select语句时，通过featchall()可以拿到结果集。结果集是一个**list**，每个元素都是一个**tuple**，对应一行记录。\n",
    "\n",
    "如果SQL语句带有参数，那么需要把参数按照位置传递给execute()方法，有几个**?占位符**就必须对应几个参数，例如：\n",
    "\n",
    "cursor.execute('select * from user where name=? and pwd=?', ('abc', 'password'))\n",
    "\n",
    "SQLite支持常见的标准SQL语句以及几种常见的数据类型。具体文档请参阅SQLite官方网站。\n",
    "\n",
    "小结\n",
    "---\n",
    "在Python中操作数据库时，要先导入数据库对应的驱动，然后，通过Connection对象和Cursor对象操作数据。\n",
    "\n",
    "要确保打开的Connection对象和Cursor对象都正确地被关闭，否则，资源就会泄露。\n",
    "\n",
    "如何才能确保出错的情况下也关闭掉Connection对象和Cursor对象呢？请回忆try:...except:...finally:...的用法。\n",
    "\n",
    "练习\n",
    "---\n",
    "请编写函数，在Sqlite中根据分数段查找指定的名字："
   ]
  },
  {
   "cell_type": "code",
   "execution_count": 20,
   "metadata": {},
   "outputs": [
    {
     "name": "stdout",
     "output_type": "stream",
     "text": [
      "Pass\n"
     ]
    }
   ],
   "source": [
    "\n",
    "\n",
    "# -*- coding: utf-8 -*-\n",
    "\n",
    "import os, sqlite3\n",
    "\n",
    "# db_file = os.path.join(os.path.dirname(__file__), 'test.db')\n",
    "db_file='test.db'\n",
    "if os.path.isfile(db_file):\n",
    "    os.remove(db_file)\n",
    "\n",
    "# 初始数据:\n",
    "conn = sqlite3.connect(db_file)\n",
    "cursor = conn.cursor()\n",
    "cursor.execute('create table user(id varchar(20) primary key, name varchar(20), score int)')\n",
    "cursor.execute(r\"insert into user values ('A-001', 'Adam', 95)\")\n",
    "cursor.execute(r\"insert into user values ('A-002', 'Bart', 62)\")\n",
    "cursor.execute(r\"insert into user values ('A-003', 'Lisa', 78)\")\n",
    "cursor.close()\n",
    "conn.commit()\n",
    "conn.close()\n",
    "\n",
    "def get_score_in(low, high):\n",
    "    ' 返回指定分数区间的名字，按分数从低到高排序 '\n",
    "    try:\n",
    "        conn = sqlite3.connect(db_file)\n",
    "        cursor = conn.cursor()\n",
    "        cursor.execute('select name from user where score>=? and score<=? order by score',(low, high))\n",
    "        return [x[0] for x in cursor.fetchall()]\n",
    "    except Exception as e:\n",
    "        print('An error happened.', e)\n",
    "    finally:\n",
    "        cursor.close()\n",
    "        conn.close()\n",
    "    \n",
    "    \n",
    "# 测试:\n",
    "assert get_score_in(80, 95) == ['Adam'], get_score_in(80, 95)\n",
    "assert get_score_in(60, 80) == ['Bart', 'Lisa'], get_score_in(60, 80)\n",
    "assert get_score_in(60, 100) == ['Bart', 'Lisa', 'Adam'], get_score_in(60, 100)\n",
    "\n",
    "print('Pass')"
   ]
  },
  {
   "cell_type": "markdown",
   "metadata": {},
   "source": [
    "\\__file\\__ 与argv[0]\n",
    "在python下，获取当前执行主脚本的方法有两个：sys.argv[0]和\\__file\\__\n",
    "获取主文件路径的最佳方法是用sys.argv[0]，内建变量\\__file\\__ 也可用来获得模块所在的路径。\n",
    "\n",
    "argv[0]和\\__file\\__得到的可能是相对路径，也可能是绝对路径，\n",
    "为了确保得到绝对路径， 可以使用os.path.realpath()或 os.path.abspath()"
   ]
  }
 ],
 "metadata": {
  "kernelspec": {
   "display_name": "Python 3",
   "language": "python",
   "name": "python3"
  },
  "language_info": {
   "codemirror_mode": {
    "name": "ipython",
    "version": 3
   },
   "file_extension": ".py",
   "mimetype": "text/x-python",
   "name": "python",
   "nbconvert_exporter": "python",
   "pygments_lexer": "ipython3",
   "version": "3.6.4"
  }
 },
 "nbformat": 4,
 "nbformat_minor": 2
}
